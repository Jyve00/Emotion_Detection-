{
 "cells": [
  {
   "cell_type": "markdown",
   "metadata": {},
   "source": [
    "# Speech Recognition with Delta-Delta's \n",
    "This model will convert recorded speech data into Mel-Spectrogram and then to Delta and finally the Delta-Delta's. \n"
   ]
  },
  {
   "cell_type": "code",
<<<<<<< HEAD
   "execution_count": 635,
=======
   "execution_count": 62,
>>>>>>> parent of 2d563d9 (55%)
   "metadata": {},
   "outputs": [],
   "source": [
    "import pandas as pd \n",
    "import numpy as np\n",
    "import math\n",
    "import matplotlib.pyplot as plt\n",
    "import seaborn as sns\n",
    "import librosa \n",
    "import librosa.display \n",
    "import IPython.display as ipd\n",
    "\n",
    "\n",
    "from sklearn.preprocessing import StandardScaler, OneHotEncoder\n",
    "from sklearn.metrics import confusion_matrix, classification_report\n",
    "from sklearn.model_selection import train_test_split"
   ]
  },
  {
   "cell_type": "markdown",
   "metadata": {},
   "source": [
    "# Organizing Data \n",
    "loading in a CSV that was created in EDA https://github.com/Jyve00/Emotion_Dectection/blob/main/EDA.ipynb"
   ]
  },
  {
   "cell_type": "code",
<<<<<<< HEAD
   "execution_count": 636,
=======
   "execution_count": 41,
>>>>>>> parent of 2d563d9 (55%)
   "metadata": {},
   "outputs": [
    {
     "data": {
      "text/html": [
       "<div>\n",
       "<style scoped>\n",
       "    .dataframe tbody tr th:only-of-type {\n",
       "        vertical-align: middle;\n",
       "    }\n",
       "\n",
       "    .dataframe tbody tr th {\n",
       "        vertical-align: top;\n",
       "    }\n",
       "\n",
       "    .dataframe thead th {\n",
       "        text-align: right;\n",
       "    }\n",
       "</style>\n",
       "<table border=\"1\" class=\"dataframe\">\n",
       "  <thead>\n",
       "    <tr style=\"text-align: right;\">\n",
       "      <th></th>\n",
       "      <th>modality</th>\n",
       "      <th>vocal_channel</th>\n",
       "      <th>emotion</th>\n",
       "      <th>emotional_intensity</th>\n",
       "      <th>statement</th>\n",
       "      <th>repetition</th>\n",
       "      <th>actor</th>\n",
       "      <th>actor_sex</th>\n",
       "    </tr>\n",
       "  </thead>\n",
       "  <tbody>\n",
       "    <tr>\n",
       "      <th>/Users/stephen/Emotion_Dectection/data/RAVDESS/Audio_Speech_Actors_01-24/Actor_01/03-01-08-02-02-01-01.wav</th>\n",
       "      <td>audio_only</td>\n",
       "      <td>speech</td>\n",
       "      <td>surprised</td>\n",
       "      <td>strong</td>\n",
       "      <td>Dogs are sitting by the door</td>\n",
       "      <td>first_repitition</td>\n",
       "      <td>1</td>\n",
       "      <td>male</td>\n",
       "    </tr>\n",
       "    <tr>\n",
       "      <th>/Users/stephen/Emotion_Dectection/data/RAVDESS/Audio_Speech_Actors_01-24/Actor_01/03-01-08-01-01-01-01.wav</th>\n",
       "      <td>audio_only</td>\n",
       "      <td>speech</td>\n",
       "      <td>surprised</td>\n",
       "      <td>normal</td>\n",
       "      <td>Kids are talking by the door</td>\n",
       "      <td>first_repitition</td>\n",
       "      <td>1</td>\n",
       "      <td>male</td>\n",
       "    </tr>\n",
       "    <tr>\n",
       "      <th>/Users/stephen/Emotion_Dectection/data/RAVDESS/Audio_Speech_Actors_01-24/Actor_01/03-01-05-01-02-01-01.wav</th>\n",
       "      <td>audio_only</td>\n",
       "      <td>speech</td>\n",
       "      <td>angry</td>\n",
       "      <td>normal</td>\n",
       "      <td>Dogs are sitting by the door</td>\n",
       "      <td>first_repitition</td>\n",
       "      <td>1</td>\n",
       "      <td>male</td>\n",
       "    </tr>\n",
       "    <tr>\n",
       "      <th>/Users/stephen/Emotion_Dectection/data/RAVDESS/Audio_Speech_Actors_01-24/Actor_01/03-01-06-01-02-02-01.wav</th>\n",
       "      <td>audio_only</td>\n",
       "      <td>speech</td>\n",
       "      <td>fearful</td>\n",
       "      <td>normal</td>\n",
       "      <td>Dogs are sitting by the door</td>\n",
       "      <td>second_repetition</td>\n",
       "      <td>1</td>\n",
       "      <td>male</td>\n",
       "    </tr>\n",
       "    <tr>\n",
       "      <th>/Users/stephen/Emotion_Dectection/data/RAVDESS/Audio_Speech_Actors_01-24/Actor_01/03-01-06-02-01-02-01.wav</th>\n",
       "      <td>audio_only</td>\n",
       "      <td>speech</td>\n",
       "      <td>fearful</td>\n",
       "      <td>strong</td>\n",
       "      <td>Kids are talking by the door</td>\n",
       "      <td>second_repetition</td>\n",
       "      <td>1</td>\n",
       "      <td>male</td>\n",
       "    </tr>\n",
       "  </tbody>\n",
       "</table>\n",
       "</div>"
      ],
      "text/plain": [
       "                                                      modality vocal_channel  \\\n",
       "/Users/stephen/Emotion_Dectection/data/RAVDESS/...  audio_only        speech   \n",
       "/Users/stephen/Emotion_Dectection/data/RAVDESS/...  audio_only        speech   \n",
       "/Users/stephen/Emotion_Dectection/data/RAVDESS/...  audio_only        speech   \n",
       "/Users/stephen/Emotion_Dectection/data/RAVDESS/...  audio_only        speech   \n",
       "/Users/stephen/Emotion_Dectection/data/RAVDESS/...  audio_only        speech   \n",
       "\n",
       "                                                      emotion  \\\n",
       "/Users/stephen/Emotion_Dectection/data/RAVDESS/...  surprised   \n",
       "/Users/stephen/Emotion_Dectection/data/RAVDESS/...  surprised   \n",
       "/Users/stephen/Emotion_Dectection/data/RAVDESS/...      angry   \n",
       "/Users/stephen/Emotion_Dectection/data/RAVDESS/...    fearful   \n",
       "/Users/stephen/Emotion_Dectection/data/RAVDESS/...    fearful   \n",
       "\n",
       "                                                   emotional_intensity  \\\n",
       "/Users/stephen/Emotion_Dectection/data/RAVDESS/...              strong   \n",
       "/Users/stephen/Emotion_Dectection/data/RAVDESS/...              normal   \n",
       "/Users/stephen/Emotion_Dectection/data/RAVDESS/...              normal   \n",
       "/Users/stephen/Emotion_Dectection/data/RAVDESS/...              normal   \n",
       "/Users/stephen/Emotion_Dectection/data/RAVDESS/...              strong   \n",
       "\n",
       "                                                                       statement  \\\n",
       "/Users/stephen/Emotion_Dectection/data/RAVDESS/...  Dogs are sitting by the door   \n",
       "/Users/stephen/Emotion_Dectection/data/RAVDESS/...  Kids are talking by the door   \n",
       "/Users/stephen/Emotion_Dectection/data/RAVDESS/...  Dogs are sitting by the door   \n",
       "/Users/stephen/Emotion_Dectection/data/RAVDESS/...  Dogs are sitting by the door   \n",
       "/Users/stephen/Emotion_Dectection/data/RAVDESS/...  Kids are talking by the door   \n",
       "\n",
       "                                                           repetition  actor  \\\n",
       "/Users/stephen/Emotion_Dectection/data/RAVDESS/...   first_repitition      1   \n",
       "/Users/stephen/Emotion_Dectection/data/RAVDESS/...   first_repitition      1   \n",
       "/Users/stephen/Emotion_Dectection/data/RAVDESS/...   first_repitition      1   \n",
       "/Users/stephen/Emotion_Dectection/data/RAVDESS/...  second_repetition      1   \n",
       "/Users/stephen/Emotion_Dectection/data/RAVDESS/...  second_repetition      1   \n",
       "\n",
       "                                                   actor_sex  \n",
       "/Users/stephen/Emotion_Dectection/data/RAVDESS/...      male  \n",
       "/Users/stephen/Emotion_Dectection/data/RAVDESS/...      male  \n",
       "/Users/stephen/Emotion_Dectection/data/RAVDESS/...      male  \n",
       "/Users/stephen/Emotion_Dectection/data/RAVDESS/...      male  \n",
       "/Users/stephen/Emotion_Dectection/data/RAVDESS/...      male  "
      ]
     },
<<<<<<< HEAD
     "execution_count": 636,
=======
     "execution_count": 41,
>>>>>>> parent of 2d563d9 (55%)
     "metadata": {},
     "output_type": "execute_result"
    }
   ],
   "source": [
    "# using Pandas to load in csv for metadata on RAVDESS \n",
    "df = pd.read_csv('/Users/stephen/Emotion_Dectection/data/RAVDESS/metadata.csv', index_col=0)\n",
    "df.head()"
   ]
  },
  {
   "cell_type": "code",
<<<<<<< HEAD
   "execution_count": 637,
=======
   "execution_count": 42,
>>>>>>> parent of 2d563d9 (55%)
   "metadata": {},
   "outputs": [
    {
     "data": {
      "text/html": [
       "<div>\n",
       "<style scoped>\n",
       "    .dataframe tbody tr th:only-of-type {\n",
       "        vertical-align: middle;\n",
       "    }\n",
       "\n",
       "    .dataframe tbody tr th {\n",
       "        vertical-align: top;\n",
       "    }\n",
       "\n",
       "    .dataframe thead th {\n",
       "        text-align: right;\n",
       "    }\n",
       "</style>\n",
       "<table border=\"1\" class=\"dataframe\">\n",
       "  <thead>\n",
       "    <tr style=\"text-align: right;\">\n",
       "      <th></th>\n",
       "      <th>emotion</th>\n",
       "    </tr>\n",
       "  </thead>\n",
       "  <tbody>\n",
       "    <tr>\n",
       "      <th>/Users/stephen/Emotion_Dectection/data/RAVDESS/Audio_Speech_Actors_01-24/Actor_20/03-01-05-01-02-02-20.wav</th>\n",
       "      <td>angry</td>\n",
       "    </tr>\n",
       "    <tr>\n",
       "      <th>/Users/stephen/Emotion_Dectection/data/RAVDESS/Audio_Speech_Actors_01-24/Actor_03/03-01-05-02-01-01-03.wav</th>\n",
       "      <td>angry</td>\n",
       "    </tr>\n",
       "    <tr>\n",
       "      <th>/Users/stephen/Emotion_Dectection/data/RAVDESS/Audio_Speech_Actors_01-24/Actor_03/03-01-05-01-02-01-03.wav</th>\n",
       "      <td>angry</td>\n",
       "    </tr>\n",
       "    <tr>\n",
       "      <th>/Users/stephen/Emotion_Dectection/data/RAVDESS/Audio_Speech_Actors_01-24/Actor_14/03-01-05-01-01-02-14.wav</th>\n",
       "      <td>angry</td>\n",
       "    </tr>\n",
       "    <tr>\n",
       "      <th>/Users/stephen/Emotion_Dectection/data/RAVDESS/Audio_Speech_Actors_01-24/Actor_14/03-01-05-02-02-02-14.wav</th>\n",
       "      <td>angry</td>\n",
       "    </tr>\n",
       "    <tr>\n",
       "      <th>...</th>\n",
       "      <td>...</td>\n",
       "    </tr>\n",
       "    <tr>\n",
       "      <th>/Users/stephen/Emotion_Dectection/data/RAVDESS/Audio_Speech_Actors_01-24/Actor_13/03-01-08-02-02-01-13.wav</th>\n",
       "      <td>surprised</td>\n",
       "    </tr>\n",
       "    <tr>\n",
       "      <th>/Users/stephen/Emotion_Dectection/data/RAVDESS/Audio_Speech_Actors_01-24/Actor_13/03-01-08-01-01-01-13.wav</th>\n",
       "      <td>surprised</td>\n",
       "    </tr>\n",
       "    <tr>\n",
       "      <th>/Users/stephen/Emotion_Dectection/data/RAVDESS/Audio_Speech_Actors_01-24/Actor_06/03-01-08-02-01-02-06.wav</th>\n",
       "      <td>surprised</td>\n",
       "    </tr>\n",
       "    <tr>\n",
       "      <th>/Users/stephen/Emotion_Dectection/data/RAVDESS/Audio_Speech_Actors_01-24/Actor_21/03-01-08-01-02-02-21.wav</th>\n",
       "      <td>surprised</td>\n",
       "    </tr>\n",
       "    <tr>\n",
       "      <th>/Users/stephen/Emotion_Dectection/data/RAVDESS/Audio_Speech_Actors_01-24/Actor_01/03-01-08-02-02-01-01.wav</th>\n",
       "      <td>surprised</td>\n",
       "    </tr>\n",
       "  </tbody>\n",
       "</table>\n",
       "<p>1380 rows × 1 columns</p>\n",
       "</div>"
      ],
      "text/plain": [
       "                                                      emotion\n",
       "/Users/stephen/Emotion_Dectection/data/RAVDESS/...      angry\n",
       "/Users/stephen/Emotion_Dectection/data/RAVDESS/...      angry\n",
       "/Users/stephen/Emotion_Dectection/data/RAVDESS/...      angry\n",
       "/Users/stephen/Emotion_Dectection/data/RAVDESS/...      angry\n",
       "/Users/stephen/Emotion_Dectection/data/RAVDESS/...      angry\n",
       "...                                                       ...\n",
       "/Users/stephen/Emotion_Dectection/data/RAVDESS/...  surprised\n",
       "/Users/stephen/Emotion_Dectection/data/RAVDESS/...  surprised\n",
       "/Users/stephen/Emotion_Dectection/data/RAVDESS/...  surprised\n",
       "/Users/stephen/Emotion_Dectection/data/RAVDESS/...  surprised\n",
       "/Users/stephen/Emotion_Dectection/data/RAVDESS/...  surprised\n",
       "\n",
       "[1380 rows x 1 columns]"
      ]
     },
<<<<<<< HEAD
     "execution_count": 637,
=======
     "execution_count": 42,
>>>>>>> parent of 2d563d9 (55%)
     "metadata": {},
     "output_type": "execute_result"
    }
   ],
   "source": [
    "# for this model we only need the 'emotion' column which contains out labels/ target which there are 8 of. We'll also sort by classes \n",
    "df.drop(columns=['modality', 'vocal_channel', 'emotional_intensity', 'statement', 'repetition', 'actor', 'actor_sex'], inplace=True)\n",
    "df.sort_values(by='emotion')"
   ]
  },
  {
   "cell_type": "code",
<<<<<<< HEAD
   "execution_count": 638,
=======
   "execution_count": 43,
>>>>>>> parent of 2d563d9 (55%)
   "metadata": {},
   "outputs": [
    {
     "data": {
      "text/html": [
       "<div>\n",
       "<style scoped>\n",
       "    .dataframe tbody tr th:only-of-type {\n",
       "        vertical-align: middle;\n",
       "    }\n",
       "\n",
       "    .dataframe tbody tr th {\n",
       "        vertical-align: top;\n",
       "    }\n",
       "\n",
       "    .dataframe thead th {\n",
       "        text-align: right;\n",
       "    }\n",
       "</style>\n",
       "<table border=\"1\" class=\"dataframe\">\n",
       "  <thead>\n",
       "    <tr style=\"text-align: right;\">\n",
       "      <th></th>\n",
       "      <th>emotion</th>\n",
       "      <th>Path</th>\n",
       "    </tr>\n",
       "  </thead>\n",
       "  <tbody>\n",
       "    <tr>\n",
       "      <th>/Users/stephen/Emotion_Dectection/data/RAVDESS/Audio_Speech_Actors_01-24/Actor_01/03-01-08-02-02-01-01.wav</th>\n",
       "      <td>surprised</td>\n",
       "      <td>/Users/stephen/Emotion_Dectection/data/RAVDESS...</td>\n",
       "    </tr>\n",
       "    <tr>\n",
       "      <th>/Users/stephen/Emotion_Dectection/data/RAVDESS/Audio_Speech_Actors_01-24/Actor_01/03-01-08-01-01-01-01.wav</th>\n",
       "      <td>surprised</td>\n",
       "      <td>/Users/stephen/Emotion_Dectection/data/RAVDESS...</td>\n",
       "    </tr>\n",
       "    <tr>\n",
       "      <th>/Users/stephen/Emotion_Dectection/data/RAVDESS/Audio_Speech_Actors_01-24/Actor_01/03-01-05-01-02-01-01.wav</th>\n",
       "      <td>angry</td>\n",
       "      <td>/Users/stephen/Emotion_Dectection/data/RAVDESS...</td>\n",
       "    </tr>\n",
       "    <tr>\n",
       "      <th>/Users/stephen/Emotion_Dectection/data/RAVDESS/Audio_Speech_Actors_01-24/Actor_01/03-01-06-01-02-02-01.wav</th>\n",
       "      <td>fearful</td>\n",
       "      <td>/Users/stephen/Emotion_Dectection/data/RAVDESS...</td>\n",
       "    </tr>\n",
       "    <tr>\n",
       "      <th>/Users/stephen/Emotion_Dectection/data/RAVDESS/Audio_Speech_Actors_01-24/Actor_01/03-01-06-02-01-02-01.wav</th>\n",
       "      <td>fearful</td>\n",
       "      <td>/Users/stephen/Emotion_Dectection/data/RAVDESS...</td>\n",
       "    </tr>\n",
       "    <tr>\n",
       "      <th>...</th>\n",
       "      <td>...</td>\n",
       "      <td>...</td>\n",
       "    </tr>\n",
       "    <tr>\n",
       "      <th>/Users/stephen/Emotion_Dectection/data/RAVDESS/Audio_Speech_Actors_01-24/Actor_23/03-01-03-02-02-02-23.wav</th>\n",
       "      <td>happy</td>\n",
       "      <td>/Users/stephen/Emotion_Dectection/data/RAVDESS...</td>\n",
       "    </tr>\n",
       "    <tr>\n",
       "      <th>/Users/stephen/Emotion_Dectection/data/RAVDESS/Audio_Speech_Actors_01-24/Actor_23/03-01-03-01-01-02-23.wav</th>\n",
       "      <td>happy</td>\n",
       "      <td>/Users/stephen/Emotion_Dectection/data/RAVDESS...</td>\n",
       "    </tr>\n",
       "    <tr>\n",
       "      <th>/Users/stephen/Emotion_Dectection/data/RAVDESS/Audio_Speech_Actors_01-24/Actor_23/03-01-02-02-01-01-23.wav</th>\n",
       "      <td>calm</td>\n",
       "      <td>/Users/stephen/Emotion_Dectection/data/RAVDESS...</td>\n",
       "    </tr>\n",
       "    <tr>\n",
       "      <th>/Users/stephen/Emotion_Dectection/data/RAVDESS/Audio_Speech_Actors_01-24/Actor_23/03-01-02-01-02-01-23.wav</th>\n",
       "      <td>calm</td>\n",
       "      <td>/Users/stephen/Emotion_Dectection/data/RAVDESS...</td>\n",
       "    </tr>\n",
       "    <tr>\n",
       "      <th>/Users/stephen/Emotion_Dectection/data/RAVDESS/Audio_Speech_Actors_01-24/Actor_23/03-01-01-01-02-02-23.wav</th>\n",
       "      <td>neutral</td>\n",
       "      <td>/Users/stephen/Emotion_Dectection/data/RAVDESS...</td>\n",
       "    </tr>\n",
       "  </tbody>\n",
       "</table>\n",
       "<p>1380 rows × 2 columns</p>\n",
       "</div>"
      ],
      "text/plain": [
       "                                                      emotion  \\\n",
       "/Users/stephen/Emotion_Dectection/data/RAVDESS/...  surprised   \n",
       "/Users/stephen/Emotion_Dectection/data/RAVDESS/...  surprised   \n",
       "/Users/stephen/Emotion_Dectection/data/RAVDESS/...      angry   \n",
       "/Users/stephen/Emotion_Dectection/data/RAVDESS/...    fearful   \n",
       "/Users/stephen/Emotion_Dectection/data/RAVDESS/...    fearful   \n",
       "...                                                       ...   \n",
       "/Users/stephen/Emotion_Dectection/data/RAVDESS/...      happy   \n",
       "/Users/stephen/Emotion_Dectection/data/RAVDESS/...      happy   \n",
       "/Users/stephen/Emotion_Dectection/data/RAVDESS/...       calm   \n",
       "/Users/stephen/Emotion_Dectection/data/RAVDESS/...       calm   \n",
       "/Users/stephen/Emotion_Dectection/data/RAVDESS/...    neutral   \n",
       "\n",
       "                                                                                                 Path  \n",
       "/Users/stephen/Emotion_Dectection/data/RAVDESS/...  /Users/stephen/Emotion_Dectection/data/RAVDESS...  \n",
       "/Users/stephen/Emotion_Dectection/data/RAVDESS/...  /Users/stephen/Emotion_Dectection/data/RAVDESS...  \n",
       "/Users/stephen/Emotion_Dectection/data/RAVDESS/...  /Users/stephen/Emotion_Dectection/data/RAVDESS...  \n",
       "/Users/stephen/Emotion_Dectection/data/RAVDESS/...  /Users/stephen/Emotion_Dectection/data/RAVDESS...  \n",
       "/Users/stephen/Emotion_Dectection/data/RAVDESS/...  /Users/stephen/Emotion_Dectection/data/RAVDESS...  \n",
       "...                                                                                               ...  \n",
       "/Users/stephen/Emotion_Dectection/data/RAVDESS/...  /Users/stephen/Emotion_Dectection/data/RAVDESS...  \n",
       "/Users/stephen/Emotion_Dectection/data/RAVDESS/...  /Users/stephen/Emotion_Dectection/data/RAVDESS...  \n",
       "/Users/stephen/Emotion_Dectection/data/RAVDESS/...  /Users/stephen/Emotion_Dectection/data/RAVDESS...  \n",
       "/Users/stephen/Emotion_Dectection/data/RAVDESS/...  /Users/stephen/Emotion_Dectection/data/RAVDESS...  \n",
       "/Users/stephen/Emotion_Dectection/data/RAVDESS/...  /Users/stephen/Emotion_Dectection/data/RAVDESS...  \n",
       "\n",
       "[1380 rows x 2 columns]"
      ]
     },
<<<<<<< HEAD
     "execution_count": 638,
=======
     "execution_count": 43,
>>>>>>> parent of 2d563d9 (55%)
     "metadata": {},
     "output_type": "execute_result"
    }
   ],
   "source": [
    "df['Path'] = df.index\n",
    "df"
   ]
  },
  {
   "cell_type": "code",
<<<<<<< HEAD
   "execution_count": 639,
=======
   "execution_count": 44,
>>>>>>> parent of 2d563d9 (55%)
   "metadata": {},
   "outputs": [
    {
     "data": {
      "text/html": [
       "<div>\n",
       "<style scoped>\n",
       "    .dataframe tbody tr th:only-of-type {\n",
       "        vertical-align: middle;\n",
       "    }\n",
       "\n",
       "    .dataframe tbody tr th {\n",
       "        vertical-align: top;\n",
       "    }\n",
       "\n",
       "    .dataframe thead th {\n",
       "        text-align: right;\n",
       "    }\n",
       "</style>\n",
       "<table border=\"1\" class=\"dataframe\">\n",
       "  <thead>\n",
       "    <tr style=\"text-align: right;\">\n",
       "      <th></th>\n",
       "      <th>index</th>\n",
       "      <th>emotion</th>\n",
       "      <th>Path</th>\n",
       "    </tr>\n",
       "  </thead>\n",
       "  <tbody>\n",
       "    <tr>\n",
       "      <th>0</th>\n",
       "      <td>/Users/stephen/Emotion_Dectection/data/RAVDESS...</td>\n",
       "      <td>surprised</td>\n",
       "      <td>/Users/stephen/Emotion_Dectection/data/RAVDESS...</td>\n",
       "    </tr>\n",
       "    <tr>\n",
       "      <th>1</th>\n",
       "      <td>/Users/stephen/Emotion_Dectection/data/RAVDESS...</td>\n",
       "      <td>surprised</td>\n",
       "      <td>/Users/stephen/Emotion_Dectection/data/RAVDESS...</td>\n",
       "    </tr>\n",
       "    <tr>\n",
       "      <th>2</th>\n",
       "      <td>/Users/stephen/Emotion_Dectection/data/RAVDESS...</td>\n",
       "      <td>angry</td>\n",
       "      <td>/Users/stephen/Emotion_Dectection/data/RAVDESS...</td>\n",
       "    </tr>\n",
       "    <tr>\n",
       "      <th>3</th>\n",
       "      <td>/Users/stephen/Emotion_Dectection/data/RAVDESS...</td>\n",
       "      <td>fearful</td>\n",
       "      <td>/Users/stephen/Emotion_Dectection/data/RAVDESS...</td>\n",
       "    </tr>\n",
       "    <tr>\n",
       "      <th>4</th>\n",
       "      <td>/Users/stephen/Emotion_Dectection/data/RAVDESS...</td>\n",
       "      <td>fearful</td>\n",
       "      <td>/Users/stephen/Emotion_Dectection/data/RAVDESS...</td>\n",
       "    </tr>\n",
       "    <tr>\n",
       "      <th>...</th>\n",
       "      <td>...</td>\n",
       "      <td>...</td>\n",
       "      <td>...</td>\n",
       "    </tr>\n",
       "    <tr>\n",
       "      <th>1375</th>\n",
       "      <td>/Users/stephen/Emotion_Dectection/data/RAVDESS...</td>\n",
       "      <td>happy</td>\n",
       "      <td>/Users/stephen/Emotion_Dectection/data/RAVDESS...</td>\n",
       "    </tr>\n",
       "    <tr>\n",
       "      <th>1376</th>\n",
       "      <td>/Users/stephen/Emotion_Dectection/data/RAVDESS...</td>\n",
       "      <td>happy</td>\n",
       "      <td>/Users/stephen/Emotion_Dectection/data/RAVDESS...</td>\n",
       "    </tr>\n",
       "    <tr>\n",
       "      <th>1377</th>\n",
       "      <td>/Users/stephen/Emotion_Dectection/data/RAVDESS...</td>\n",
       "      <td>calm</td>\n",
       "      <td>/Users/stephen/Emotion_Dectection/data/RAVDESS...</td>\n",
       "    </tr>\n",
       "    <tr>\n",
       "      <th>1378</th>\n",
       "      <td>/Users/stephen/Emotion_Dectection/data/RAVDESS...</td>\n",
       "      <td>calm</td>\n",
       "      <td>/Users/stephen/Emotion_Dectection/data/RAVDESS...</td>\n",
       "    </tr>\n",
       "    <tr>\n",
       "      <th>1379</th>\n",
       "      <td>/Users/stephen/Emotion_Dectection/data/RAVDESS...</td>\n",
       "      <td>neutral</td>\n",
       "      <td>/Users/stephen/Emotion_Dectection/data/RAVDESS...</td>\n",
       "    </tr>\n",
       "  </tbody>\n",
       "</table>\n",
       "<p>1380 rows × 3 columns</p>\n",
       "</div>"
      ],
      "text/plain": [
       "                                                  index    emotion  \\\n",
       "0     /Users/stephen/Emotion_Dectection/data/RAVDESS...  surprised   \n",
       "1     /Users/stephen/Emotion_Dectection/data/RAVDESS...  surprised   \n",
       "2     /Users/stephen/Emotion_Dectection/data/RAVDESS...      angry   \n",
       "3     /Users/stephen/Emotion_Dectection/data/RAVDESS...    fearful   \n",
       "4     /Users/stephen/Emotion_Dectection/data/RAVDESS...    fearful   \n",
       "...                                                 ...        ...   \n",
       "1375  /Users/stephen/Emotion_Dectection/data/RAVDESS...      happy   \n",
       "1376  /Users/stephen/Emotion_Dectection/data/RAVDESS...      happy   \n",
       "1377  /Users/stephen/Emotion_Dectection/data/RAVDESS...       calm   \n",
       "1378  /Users/stephen/Emotion_Dectection/data/RAVDESS...       calm   \n",
       "1379  /Users/stephen/Emotion_Dectection/data/RAVDESS...    neutral   \n",
       "\n",
       "                                                   Path  \n",
       "0     /Users/stephen/Emotion_Dectection/data/RAVDESS...  \n",
       "1     /Users/stephen/Emotion_Dectection/data/RAVDESS...  \n",
       "2     /Users/stephen/Emotion_Dectection/data/RAVDESS...  \n",
       "3     /Users/stephen/Emotion_Dectection/data/RAVDESS...  \n",
       "4     /Users/stephen/Emotion_Dectection/data/RAVDESS...  \n",
       "...                                                 ...  \n",
       "1375  /Users/stephen/Emotion_Dectection/data/RAVDESS...  \n",
       "1376  /Users/stephen/Emotion_Dectection/data/RAVDESS...  \n",
       "1377  /Users/stephen/Emotion_Dectection/data/RAVDESS...  \n",
       "1378  /Users/stephen/Emotion_Dectection/data/RAVDESS...  \n",
       "1379  /Users/stephen/Emotion_Dectection/data/RAVDESS...  \n",
       "\n",
       "[1380 rows x 3 columns]"
      ]
     },
<<<<<<< HEAD
     "execution_count": 639,
=======
     "execution_count": 44,
>>>>>>> parent of 2d563d9 (55%)
     "metadata": {},
     "output_type": "execute_result"
    }
   ],
   "source": [
    "df = df[['emotion', 'Path']]\n",
    "df.reset_index(level=0, inplace=True)\n",
    "\n",
    "df"
   ]
  },
  {
   "cell_type": "markdown",
   "metadata": {},
   "source": [
    "# Data Augmentation Functions \n",
    "It is common practice to transform audio data with data augmentation tools like time adding white noise, time-stretching and pitch shifts. \n",
    "We'll make duplicates of each wav file so our model will have more variable input data. "
   ]
  },
  {
   "cell_type": "code",
<<<<<<< HEAD
   "execution_count": 640,
=======
   "execution_count": 45,
>>>>>>> parent of 2d563d9 (55%)
   "metadata": {},
   "outputs": [
    {
     "name": "stdout",
     "output_type": "stream",
     "text": [
      ".wav file shape: (61929,)\n",
      "sample rate: 16000\n"
     ]
    },
    {
     "data": {
      "text/plain": [
       "Text(0.5, 1.0, 'Strong Anger')"
      ]
     },
<<<<<<< HEAD
     "execution_count": 640,
=======
     "execution_count": 45,
>>>>>>> parent of 2d563d9 (55%)
     "metadata": {},
     "output_type": "execute_result"
    },
    {
     "data": {
      "image/png": "iVBORw0KGgoAAAANSUhEUgAAAzoAAAFNCAYAAADICRrkAAAAOXRFWHRTb2Z0d2FyZQBNYXRwbG90bGliIHZlcnNpb24zLjQuMywgaHR0cHM6Ly9tYXRwbG90bGliLm9yZy/MnkTPAAAACXBIWXMAAAsTAAALEwEAmpwYAABQXklEQVR4nO3dd5xcVf3/8fdnZlvapvdCCoEQSiih9yoQARVEQAUVv6gIX9tPDUVEFAX9WkCR8gWEryioFEEIvXeSQAiEJBCSQDYJ6WVTts75/TGzm9ndmZ1279wpr+fjkUem3Ln37NTzuZ9zPseccwIAAACAUhIKugEAAAAA4DUCHQAAAAAlh0AHAAAAQMkh0AEAAABQcgh0AAAAAJQcAh0AAAAAJYdABwAAAEDJIdABAHRhZoeZ2StmtsnM1pvZy2a2f+y+r5jZS0G3sbNYu5yZnRl0WwAAwSPQAQB0YGa1kh6W9EdJAySNlPQzSY0Z7CPsT+u6dZ6k9bH/AxHQ3w0ASIBABwDQ2S6S5Jy72znX6pzb7px7wjk318x2k3STpIPNbIuZbZQkM7vDzG40sxlmtlXS0Wa2m5k9Z2YbzWyemZ3adoDY9jeY2SNmVm9mr5vZhLj7TzCzhbGM0p/N7Hkz+3qyBpvZTpKOlHSBpE+Z2dC4+44yszoz+4GZrTazlWb21bj7B5rZf8xss5nNNLNfxGeszGySmT0Zy2wtjM8YJfq7c3niAQDeIdABAHT2vqRWM7vTzE4ys/5tdzjn5kv6pqRXnXO9nXP94h53jqSrJfWR9Lqk/0h6QtIQSRdL+puZ7Rq3/dmKZor6S1oUe6zMbJCkeyVdImmgpIWSDknR5nMlzXLO3SdpvqQvdrp/mKS+imanzpd0Q9zfdYOkrbFtzlNcRsjMekl6UtLfY3/H2ZL+bGa7J/m7C25IHwCUKwIdAEAHzrnNkg6T5CT9r6Q1ZvZQfJYkiQedcy875yKS9pbUW9I1zrkm59wzig6HOztu+/udc28451ok/S32GEk6WdI859z9sfuul/RJimOfq2gwotj/nYevNUu6yjnX7JybIWmLpF1jQ81Ol/RT59w259x7ku6Me9ynJS11zv3FOdfinHtT0n2Szkj0dzvnGlK0EwCQJwQ6AIAunHPznXNfcc6NkrSHpBGS/pDiYcviLo+QtCwW9LT5SNGMSpv44GWbooFR+2Pj2uIk1SU7qJkdKmmcpHtiN/1d0p5mtnfcZutiQVPn4w2WVNGp7fGXd5J0YGz43cbYUL0vKpr9SbQ9AKBAVATdAABAYXPOLTCzOyR9o+2mZJvGXV4habSZheKCnTGKDotLZaWkUW1XzMzirydwniSTNCe6abtzJc1Jcaw1klpi+29r2+i4+5dJet45d3w3+0j2fAAAAkRGBwDQQWzy/Q/MbFTs+mhFh5y9FttklaRRZlbVzW5eV3Tey4/MrNLMjpJ0inZkXbrziKIZmc+YWYWkb6tjBiW+rTWSzlS0CMHecf8ulvTF2OOTcs61Srpf0pVm1tPMJikaILV5WNIuZvbl2N9RaWb7x4oyAAAKGIEOAKCzekkHSno9VknsNUnvSvpB7P5nJM2T9ImZrU20A+dck6RTJZ0kaa2kP0s61zm3INXBnXNrJX1e0q8lrZM0WdIsJS5v/RlJ2yX9n3Puk7Z/km6TFJZ0Yhp/70WKFir4RNJfJd3ddiznXL2kEySdpWiW6hNJ10qqTmO/AIAAWXToMwAAhcnMQorO0fmic+7ZPBzvWknDnHOBrccDAMgdGR0AQMExs0+ZWT8zq5Z0qaJzcF5L8bBsjzXJzPayqAMULT/9gB/HAgDkD8UIAACF6GBFq6dVSXpP0mecc9t9OlYfRYerjZC0WtJvJT3o07EAAHnC0DUAAAAAJYehawAAAABKDoEOAAAAgJJT0HN0Bg0a5MaOHRt0MwAAAAAUqNmzZ691zg3ufHtBBzpjx47VrFmzgm4GAAAAgAJlZh8lup2hawAAAABKDoEOAAAAgJJDoAMAAACg5BDoAAAAACg5BDoAAAAASg6BDgAAAICSQ6ADAAAAoOQQ6AAAAAAoOQQ6AAAAAEqOJ4GOmZ1oZgvNbJGZTU+yzVFmNsfM5pnZ814cFwAAAAASyTnQMbOwpBsknSRpsqSzzWxyp236SfqzpFOdc7tL+nyuxwUA7HDlQ/O0pbEl6GYAAFAwvMjoHCBpkXNusXOuSdI9kk7rtM05ku53zn0sSc651R4cFwAQc8crS/Xu8k1BNwMAgILhRaAzUtKyuOt1sdvi7SKpv5k9Z2azzexcD44LAIhjQTcAAIACUuHBPhL9troEx9lP0rGSekh61cxec86932VnZhdIukCSxowZ40HzAKA8mBHqAADQxouMTp2k0XHXR0lakWCbx5xzW51zayW9IGlKop05525xzk11zk0dPHiwB80DgPJAnAMAwA5eBDozJU00s3FmViXpLEkPddrmQUmHm1mFmfWUdKCk+R4cGwAQQ5wDAMAOOQ9dc861mNlFkh6XFJZ0u3Nunpl9M3b/Tc65+Wb2mKS5kiKSbnXOvZvrsQEAAAAgEXOu83SawjF16lQ3a9asoJsBAAVv7PRHJElLr5kWcEsAAMgvM5vtnJva+XZPFgwFAAAAgEJCoAMAAACg5BDoAAAAACg5BDoAAAAASg6BDgAAAICSQ6ADACXma3fM1Or6hqCbAQBAoAh0AKDEPLNgteZ8vDHoZgAAECgCHQAoQZECXiMNAIB8INABgCIXiXQNalojATQEAIACQqADAEUuUfamlYwOAKDMEegAQJGLT+jc9dpH0dsSZHkAACgnBDoAUOTiMzqX//tdSVIrgQ4AoMwR6ABAkUs0So1iBACAckegAwBFLlFQQ6ADACh3BDoAUOQSBTU/vu+dAFoCAEDhINABgCLHdBwAALoi0AGAIucYpgYAQBcEOgBQ5KiwBgBAVwQ6AFDkmlsTBzofrKrPc0sAACgcBDoAUOSaWyMJb1+0ekueWwIAQOEg0AGAItfYkjjQaTN2+iN6p25TnloDAEBhINABgCKXLKMjSb+cMV+S9N5KAh0AQHkh0AGAItddoMPwNQBAuSLQAYAilyzQqW9oUW1NhSSJCtQAgHJDoAMARS7ZHJ0f3TdXZiZJIs4pLjc//6EefWdl0M0AgKJWEXQDAAC5aeqmGEEsziGjU2R+9egCjR/USyftOTzopgBA0SLQAYAit62pNel9ofaMDpFOMWhujbS/ZgCA3BDoAECR29LYkvS+e2fXSSKjUywO/OXTWr+1SRLDDQEgV8zRAYAitr2pVW8v25hyOzrNxaEtyAEA5I5ABwCK2B+efl9/e/3j1BuS0ik6DGADgNwQ6ABAEdvSkHzYWjzCHABAufEk0DGzE81soZktMrPp3Wy3v5m1mtkZXhwXAJCe1gihTrFZvHZrtxX1AADdyznQMbOwpBsknSRpsqSzzWxyku2ulfR4rscEAESlG74Q6BSnhpbkFfUAAN3zIqNzgKRFzrnFzrkmSfdIOi3BdhdLuk/Sag+OCQBQ+lNvWgh0AABlxotAZ6SkZXHX62K3tTOzkZI+K+kmD44HAGiXXgCzpr5Rd7y8xOe2wGvUkACA7HkR6CQqDNP5q/kPkn7snEuZgzezC8xslpnNWrNmjQfNA1CMGppb1dLK/ASvPDRnha78z3tBNwMAgLzxItCpkzQ67vooSSs6bTNV0j1mtlTSGZL+bGafSbQz59wtzrmpzrmpgwcP9qB5AIrR7j99XD+8d27QzSh46Z7xbyJoLHjNvEYA4KkKD/YxU9JEMxsnabmksySdE7+Bc25c22Uzu0PSw865f3twbAAlyDmn1ojTu8s3Bd2UkkExgsL3IwJ7APBUzoGOc67FzC5StJpaWNLtzrl5ZvbN2P3MywGQkbaJ85zhTi3djM6WxvTW20FwFq3e0vVG4lMAyJoXGR0552ZImtHptoQBjnPuK14cE0Dpam0PdOjloXxYghmvjkgHALLmyYKhAOAlMjrpoyNc2qi6BgDZI9ABUHBaWwl00kVHuHSkU8IUAJA+Ah0ABaexNVqJnkUuU+MZKiEJxq45IlkAyBqBDoCCc8DVT0uS6hta9Pz7rKeF8tDQ1HWpOWJ9AMgegQ6Agnbe7W8E3YSCxgn/0hCJOC1cVd/lduZgAUD2CHQAoIjRES4N9Q1Jyn/z8gJA1gh0AKCYZdgRZs5HYZpy1RMJb+fVAoDsEegAQBHLtCPcRCW7gvPeis1J77v47rfy2BIAKC0EOgBQxLY3d53A3p2mFgKdQvPKh2uT3vfGkvV5bAkAlBYCHQAFj+FWyW1tTDK3I4lGAh0AQJkg0AFQ8B56e0XQTShY2xKUJO4OGR0AQLkg0AFQUFoSzCFZsbEhgJYUh2Xrt2W0PYFO4SFhCQD+INABUFAaEnTEI/QEk1pd35jR9g/OITtWaJas2xp0EwCgJBHoACgojc2tqq7o+NXU0kqg45XfP/V+0E1AnO1Nrfr76x8H3QwAKEkEOgAKyiX3v9NlwnwrGR2UsS0ZFpwAAEQR6AAoKLM+2tDltkjE6d9vLddZN78aQIsKW+fsF0rPV25/I+gmAEBRqgi6AQAQryJkXW7707OLAmhJcSDZVdzSmX+2YuP2PLSkPDQ0t6q+oUWD+1QH3RQAecCpQAAF5ehdhwTdhKJCoYbi9p173kq5jVnX4B/ZueLBd7X/1U8F3QwAeUJGB0BB+cesZTJJdN+798mmBpkR6BS7p+avDroJZWXlJkrVA+WEQAdAWv4x82MdMmGQRg/o6fux6Lont6WxRSGTjvvd86quCDF0rQyQ0PEOnxegvDB0DUBafnzfO/rHzGVBN6PsnfiHF3TWLa9pS2OLNm5vJigEMkAGFCgvBDoAUtq0vVmStLre32EfLo1OyKyl631tQ6Gr27Bdc+s2SZJaI3TaysH6rU1BNyEQG7d5/3cT6ADlhUAHQEq3vbREkrRio7+BTnMaC4PeO7vO1zYUmwRF6lAkFnyyOa3ttjW1ll2w88qHa7X3VU96vl/iHKC8EOgASC3WO1i3tdHXw6SToVi7pbw6fKlQkat4/eaxhWlv29waSb1RCfErsCPQAcoLgQ6AlPrUVEqSmlr87Wy1RMqrM5eNwb07rv9BmFO8KsLpv3rl1kG/9cVoFnnp2q2e7peha0B5IdABkJKTU9jM90AnnYxOuScwJg3v0+F6Ns+H368jvFduHfQ5yzZKko76n+c83W+5PY9AuSPQAZDSqs2NanVOTT4Pn1m6blvKbdIpWFDKXvxgbYfr2Qxd2+PKx71qDlBUyvvbAyg/BDoAUqrbEA1A4osF7PHTx7Xwk3pPj3Puba+n3IYFFjuKZFF5jYxO8G56/kM9Pm9V2ts7Sf9+a7mmXf+if40qEJ3f016e3Mjm8wKgeBHoAEipvqFFUnSC8I3PfSgpunDleys3eXqcxjQ74GOnP+LpcYtZCx23onTNowsy2t45p2cWrNa8FelVaitm4y+d0eH6v2bXKRJxamhuzXnfqQo7jp3+iJatT51ZBlAcCHQApBTfmb72scw6aJkot8pSQLqc2zEfq7El9w5/Mflo3VZd9/QHmvSTx3LeVzpzdD7Z7G8ZfQD5Q6ADoFun3fCy5q3wNnOTDMmJ1Mq8FkNZeyk2P+uGZz8MuCX+SRTENTZHdOuLiz3ZfzrD4BjeBpQOAh0A3Xp72UZtbSyvM8iFyjnHZOoy5Zy0Lra2TH1Dc8Ct8c/Bv3qmy20vLVqrrU25fwc9PHeF5q9MPa/wC7e81j4vEUBx8yTQMbMTzWyhmS0ys+kJ7v+imc2N/XvFzKZ4cVwAwXhjyXpJ5be2R9BaI46MTpn63I0vt18u1c/d2i2NCRcKXZBj0ZO2DM3db3yc9mPqNmzP6ZgACkPOgY6ZhSXdIOkkSZMlnW1mkztttkTSkc65vST9XNItuR4XQHDW1DcG3YSyLDNd39BCRqdMrd3SNQAoNd/7x5yU2/zwX29nvN/xl87QcwtXKxRXin3/XzyV8X4AFB8vMjoHSFrknFvsnGuSdI+k0+I3cM694pzbELv6mqRRHhwXQEDumRk9MxpkrFGO1caueGhe0E0AfFG3YVuXNaISeXJ+x5Lc6Z7wWLZ+W4c1p9ZsCf5kDQD/eRHojJS0LO56Xey2ZM6X9KgHxwUQEL+GdewytHfa25bjWjAbt3l3Vn/FRobm5FMk4gLPQkYirmArG77wfuogR5I2bmvWF25+Vdc+tkCn/ukljbtkRnrloM0yGvbJEFGgNHgR6CT6Pkj4bW5mRysa6Pw46c7MLjCzWWY2a82aNR40D4DXlqzd6st+B/aqTnvbdWUwlKezdErjpuuRuSs92xdSG3/pDN320hJJwQWZ1z62QLv/9HFJ0oV/m62Jl83Qdg8m+eeqvqFZlz7wTtrbv75kvW587kPNrYtWgzz818/qZ//pPttpkkJEL0DZ8SLQqZM0Ou76KEkrOm9kZntJulXSac65dcl25py7xTk31Tk3dfDgwR40D0C2UlV38rLjLUlNGZxtnvbH0l8hvrOXFyX96sxYmF5f3s1ZtlFSZpPiE3lt8bqsskNL1m5VU0tEX77tdc145xM1tzp9tN6fkxaZ2PPKJ3Lex19eXtrltroN2/T92LwfM3UYupbI5296pf1yqm0BFIcKD/YxU9JEMxsnabmksySdE7+BmY2RdL+kLzvn3vfgmAB89uqH6/TLGfO73abV43kyzRkMR6tvaPH02OWmMkxHLt8aWyJqaY3oj88symk/Cz6p18JV9Zo0rDajx9X2qJSkDnNhzrjxVW1pbNGkYX204JN6zbniePXrWZVT+9L1/qp6fbLJv8U5z79jlhauilZsu+yBd3XELt2fPJ25dEO39wMoPjkHOs65FjO7SNLjksKSbnfOzTOzb8buv0nSFZIGSvpz7CxJi3Nuaq7HBuCfs//3tZTbZJKBSSUScZq7PLOFSZtaIqqqYDmwbITI6ORdY0tEX71jpif7yuYkQ+/qrj/5WxqjJwzaSjhva2pVv565tS1dJ/z+BU/355xrz8Rc99QH7UFOm9ZI+t9XbQmdj9Zt1YBeVepTU+lZOwHkjyc9BOfcDOfcLs65Cc65q2O33RQLcuSc+7pzrr9zbu/YP4IcoIC9m0bAETZvCwJszmIRxLahQMhcBYFO3jU1t6ZVWSwdb368MePHVKdxUqCYaxk+8Nby9stPdarOJnUNDlfXN+j1xYmHg7aNDDzyN8/p0gfe9a6RAPKKU6EAuph+/9yU2zhJm7Z7t0J7NkPRVm1u0LL12/Tw3C7TApFCOMTXf74tWefdfJif/Dvzznc6gU6kiMu2t2WnGppb9U6CkzWdEzqX3v+uvnBL6sx1qrmKAAoXv3QAunh3+eaU20Sccp5rEC/boOnwXz+ri/7+lmftKBdhvv3zbtXm4NZuaWhu1fVpfF69LjCSzMfr0igJnaG2HGWyYg+tnf62tnLtq+sTzxO66fkPPWsbgGDwUwegINQ3tKimMrOvpIvvLq8Ap2dV2LN9hQKuKlXMmYNitDTNbNKRv3nO34bEfPG21JmUTFSETA3N0ZRNsrdW56Frsz6KFh9oaono+/+c0+E+55yueXSBp20EkH8EOgAKwramFlWSZuhW3x7eTYhOZxiTXzZua9L4S2doTT2r0+dLc0thBZaZLd+ZWmvE6epYlchkBQWTFXCoDId0/5vLO24bl/0JeJ1XADmgVwEgJ+93qmyUra1NrXkbNlOsvCrn3bu6ItB1QrY3Rxep3P/qp8ois1MIc8g6D9sKWoXH5c3b/jrnXNI1olqSvNcWr+ma7frhv3bMU3z+/TX6r/+blXMbAeQfgQ5QxrY3tWr15tzWsXjbo8pnWxtbukwWRkdeBoLZLDjplfj3zPhLZwTWjnwphCGWXq95lavKDIphZFIhsLElkrR0erLy0olK6S/fuL3D9Sff61rFDUDhI9ABytTsjzZotyse0wG/fFpbG7NffNOrzMDWxpaM1rno7Kn3Vulbd83W5f9+R865QDvyfli+cbvWbmnyaG8u6TyGfPjmXW92uP7cwtUaO/0RLVq9pSQzPOGA50NJhRXoOOe6rHHTnWSZmEQamluTPt+Z7AdAach5wVAAxek3j++YaHvu7W9owuBe+vUZUzR/ZeqKa37Y3tSq5tbsOyJfjxta8uyCNartUaFHv3OEF00rCAs/8fJ1sYIaJvjx+mgFruN+97yuP3sfnTplRMAt8lYhPNeFFOi0FQHwWo/KsLY3tybN6CQaogagtJHRAcrU+q07sgOzP9qgf86qkySddN2LGe3HqzPwmxuaPVuscPnG7Zq/0pu5Q+lYU9+oBZ4GIl15OXl7S2OLLvr7W3pk7krP9pmLKx6c1365FNcsKYQYI9HwrKB8/qZXfdlvKCRtbWzVfbPrfNk/gOJDoAOUqfdXbcl5HzWVITW1ejOxZvP27IfPBe17/5ijE/+QWYCYMR9GP33772+m3shjT6WY6+BH5uH9VfVd1kpZu6VR3/77m/rHzMRrrhSDug3er0VTzEJmWrlpu15fsj7opgAoEAQ6QBlKNn+l8wTc1PuRWjwKdDZu92r+yQ75mKdz8nUvat6KrquwF4uFn+Qv8yVJM5d23wltyWH4YjznnBpbotXdTvj9C/raHTN13+w6LVodDfAve+AdPTJ3pa59bKEnxwuC78G1D/wcQre1sUVfvu0N3/a/aPUWfe2Omb7tH4D3CHSAMpRsUu6GrZkFGxHnPJvgO2+F90O/Glv8L+P23srN2rDN/+FWjc3+/C1Pzc9zNakUmSmvOsI/uneudr38MT0+7xNJ0rvLN+sH/3pbx/3uea3e3NB+nPVbm9SUh/eJH9rKdKdSSAUedv/pY77t2+u1eTp76YM1embBal+PAcBbFCMAylCyzmSmCzg6510lo/oG74euNTS3qqYy7Pl+g7CtyZ+hfSs3ZZbF85tX76e2zNE3/jq7y30H/PLpDteXb9yucYN6eXLcfEq2XkxnC2JZO5M8mweXjcOvfUYNPgXsUnStoNqaCm324btEUtIiBwAKFxkdoAw1JxlulunQtYhzng1daxtm5CU/O1X5tn5rkyo9XmRRku56rbDmqKzdklmw7YWGNDMjhSbdd8PJ1xfGELdlG/wPqv0KcqSORTMAFAcCHaAMJZoHURk2vfXxxoz2E/Eoo+Oc82X40EG/ejr1RgXu/VX1euzdlVq1uSGn8ttBevGDNe3Dpz5e1/0E+tteWuLJMTNZ36lYA51Mh2YW57un8Iyd/kjJrdMFlCqGrgFlqDnBwpzNrU7vrtikPtUVqs9gAVEvAhQ/59I45zxb1DTeVf95T7NSTKz3wgm/f0GS9Om9hvt2jNkfrdd+Ow3wZd8/vm+u/jFzmYb3rdGqzQ15KbX88bptWrI2/TVT8jGXq5hEIs7zYVqL1+Re5bGQtEacKnzIsALwFhkdoAwlq2y18JP6jMsYJxsGl4mtjS2qCPvzdeRV+evOHpu3UnOX56/aWqbzpzJx+o2varNP69f8Y+YySdLKTekHObm+px5+Z0VG2591i79rzBy32xBf9++1Jeu8X1jzmN8+7/k+g7TzZY8WVJEHAIkR6ABlqLsSvplWvfIio7OtqVUVPk309ets/bZGf4c7HXbtM7rj5R3DuNZnWBEvU3td+YTn+9ySQWYwXq5DyUJZZPAuvvutnI6ZzPqtTXpqvj+Vuo6fPNSX/f7P48Vbcjuf/DqJAsA7BDpAGWpJMHStzbamzDqZTR7MG9nS2JJV5zQdfs2/SNTcVPNPMlG3Ybuef3+NpOj8qQ9WF9/Qn18/tiCrx+VaRCKbd9J/3s4sC5SupT5kR9r49QOebYCazKbt/pdfDwKBDlD4CHSAEvW31z/SO3WJh1Z5+QPd6EEgsbWxJWHg4IWNPq1xU5lgqN0Rv3lWqzc3eHaMtkIPxVqEINu1f4LI6Ej+DA/0c9J6s09Dp7wOdK5/+gNP91coinX9JaCcEOgAJeqyB97V/zyReAjKO3WbVF3hzcd/7dbcO4fLN25XxKcO4W0velPFK968FZu0Okmn+KP13mV1Nm9vbh/S50dp6c7GTn9EP/uPdyV0W7N8Tb/ylze0KYcANdugef+rn/J8vSI/p3F0l5nNRaYLBycSH+B5tQhsofFifiIAfxHoACUsWUdodX2jZz/Sa+tz7xR9tHabtmc4ZC5dYwb29HyfF/09+XyOTIf+deftuk3tnXa/hvZ1dtdrH+X0+Piz3AN6VSXcJtVf8uGarbr3zbqs27Aoh2F+S9d6F6hK/nby/dp3rvPBFq2u17hLZrRfz9d7N9/I6ACFj0AHKAGbtjVr47aunZPmlsQdobl1Gz0701zvQbWu91fX+3bm+5NN3g0la9PdcCSvA7a2Q+WrBHKuibVdLn+0fU5GbU2FEtWYSOcQW3MYPnVPrNJbIfDzdVu1udGXYCfbDvzmhmY55/Sv2R2D1HUeZH0LUdvzNGvpet320hJtbmj2NCMKIHcEOkAJOOVPL+nTf3ypy+2JsjYrN23X4/NWeXbs5lanF95foxueXZT1PtZt8a+imB/zLrrrW3pd/MCLBVnzfby2eVtbGluyDmCzCXQaW3J/7r1OPngxhy2ZRau3ZF3woTtDa2t09SPvZfy4va58QvfMXKabn1/c4fYH5/hT6CFobUHs1TPm6+cPv6e3Pt6ov7y8NNhGAeiAQAcoAR+v36YVG7d3ub0hQcfPy8pgUvSs5rm3v6Hf5FCS1uvJz/H8OJv8cTfzcD4sgYURX1u8LqfHt8U2yzd0fU+ma2anxVifXbC6PWvZFky2RpwenrtCmxuadcOzi7Tr5Y/plzPmZ33Mtn16qcHnTNzNLyzWr2bM14/ufTvpNn17VGa0z4/Wb9P/vrgkq+fio7jvl18/tkB3v/FxxvsoFvUN0e+ttqF+v3vy/SCbAyABAh2gRMRXAWsbPjF/Zb3eWLJe81ZEq6+1Rpy+4PHiiPEV3LLNZmz1eAJ4vHeWb9Ipf3wpuhiqzyrDpj8+s0iX//sd34/lp3krNmf1uLaOcVtWaPHa7Esrv/nxxg6T4r96x0ztfdWTWrJ2qyb95DF9vG6bPlyzRRf9/S3tdeUT7YH2LS8sTrbLtHhdMtiv8ubxbn5hsf45K/mcpmwXttz3509m/Jj4LPKfn/tQl9xf3J+F7izbEA3qmmPB7NvLNkryt9IegMwQ6AAlIn7BzTkfb2y/fObNr2ra9S/p3tl1viw6GV/w4IG3lmf8+G1NLVq8xr+1RhqaI3pn+SZ96g8v+F79qa0M9F2vfaxFqzMPrBqaWz2Z85SrQb2r9E7dpowrn7W9F5pbInLO5RxctnUk4x39P89Jipbyfj3HzFMizR5nYBpbIqrxqMJhKkuTBJbbswy2Nm1vzrgCm9dV6wrZj+6dq7vf+FgrOs0DHHfJjJJdOwgoNgQ6QIkIx5UfTjRk7f/9623tf/VTnh83frJ12Ex1CTqn3flHHieOf7x+m8ZOf0QtOZy1f/PjDWlt190Z9mS+9485OvCXT2f8OC/1rArrO/fM0Sl/eklTrnpCD7xVp7++ujStx7a2r/sT0TMLVuc83+fUP72sB+cs17TrX0x4/08e9Gbid/y0nPiMTmvEaVWO6yI1NrdmXWY7U7e9tKRDsOOc08yl63N6HZ5duFqS9Pi8T/SFm19NuX3bIrflIlnGapmHZeYBZI9ABygRVeGQzrz5Vc1cul5rfZzc31l8H+6fs5bpsGuf1fur0j+Tn+isvR/CZnowlnHK9gz35oZmfe7Pr6S1baZDqFojTo+++4m2NbXqhQA7i52zXt/7x9v6yYPz0goO2zJaTa0RXZ3jXJk237lnTtZD6dIV/xdf9Z/oJPzWiNMvHnlPB/7yaZ19y2v6z9sr1Bpxuu6pD3T+HTM7PP7//evtpNnCXzwyP28Lvv71tY86zFF65J2V+vxNqYOT7nz/n29r0k8e1Tf+OluvL1mfdLu2ExwrNnpf5bAYvV23MegmABCBDlAyelSG9caS9fr8Ta/6UmksmfjywbM+imY7Tvj9C5q5dH1a8xNWb85PW1ud0+uxCe5ZD+XJYChXRci0aXuzzrjpFf3xmeQrw9dt2KbV9Q368X1z22879/Y3OgxFzKdk6yvtfNmjKR+7JJZNaG512m1YraftypcPYmvw3PjcovYKWq8uXqeL735LEy6dod8/9b6eXrBaM5eu19y6jbr1xcW6d3ZdwuA+iIUyn3hvlcZOf0Rjpz/iWTXDhuYd74ll66NrXp1+4ysd5qKsytPnuFi8+uE6/eXlJSVRnAQoZhVBNwCAN6orw4EcN1lf7vM3vao9Rtbq3m8eoppu2uZnaenOZsbOSJ9x46t6+gdHqjXi1NQaUXVFSNUVqZ+/TMbdt0Sc9r/6KTW1RDRr6QZdfMzEhNsd97vnO3Qk4x8fhPjDmnXM2P333W/qC/uP0aE7D+r6uIjTZ254WVK0Et/mAphrlK3p981NuRZP50zJSde9qDcuO1ZD+tS03/bJ5gb1qAxnHVjn6rdPZF8JMZnDf/2s+ves1IZtzbrp+Q/1raN2lhRdP6pPTYW2NLQoZJa34XqF6uG5K/Xw3JU6c+oo/fqMKUE3ByhbnmR0zOxEM1toZovMbHqC+83Mro/dP9fM9vXiuAB2CCoD0J13l2/WpJ88pm1NLfrrq0vbz/i3iUScXvVhQnkybcHDx+u3aeJlj2rKz57QXlc+od8+kV5Z2I0ZTs6PX3jx8XmfaOz0R7Rk7VY553Tz8x/qyofmJQxyCkXnvupDb6/UF299XQ/O6Vp0Ir68eH1Ds7Y0FO+k9GwXHP3WXW92uL61sUXhAD+Xm316DTbEPgfXPrZQ79RtUlNLRA+9vVzORYcBlkOQk+56S/+cVaf5K/0degkguZwDHTMLS7pB0kmSJks628wmd9rsJEkTY/8ukHRjrscF0NGCPJRPztZ/3l6hnzw4T9c8Ol8btjZp7589oWXrt+mVD/MX5CTSVkjhlhcWa1bcui0Nza1dgjIptzV5vvHX2ZKiVcPGXTJDv3p0ge54ZWnW+wvSd+6Zo2sfXaBtTS26+42PNeVnT+jG5z9sv//8O2fprVip3XIy+6MNei9uPtHWxhbPFyAtNKf86SU9s2CV/jmrLi+ltAtFJrHcSde9qM0Nzfrpg+9SpADIM8u13ruZHSzpSufcp2LXL5Ek59yv4ra5WdJzzrm7Y9cXSjrKObeyu31PnTrVzZo1K6f2AaWuuTWiiWnMn0BqZ+w3SofuPFDPLVyjB+es0G8/P0ULV9Xr0J0H6bCdB+kn/35X/5q9zNPJ5SFLPvwPxenPX9xXe4zoq4/Xb9O3/ja7fWFJoM0fvrC3Rg/oqV2H9VFrxKm2JjqTwEo9MgZ8YmaznXNTO9/uxRydkZLi8/x1kg5MY5uRkroNdLY3tWoulUvgoy2NLaoKh7Rua5NCZmpqiWhU/x6yWOczvhPqnFMkdmKgsTmiinBIDc2t6lVdoaaWiLY1tahfz0o1NEe0tbFFfWqiq5E7OYXNtKq+UYN7V6tnVVitzilkppBFJ/pubWpRZSikntVhNTZH1Ks6HDtm8iESrREnM9Pm7c1F21kutHbfO7tO987eURb6B/+Krjaf6yKU3Smkv98rhfa65tuFf3tT4ZCpNeIKckip18r99U5H5+fou/+Y02WbvUb11b5j+mv2Rxs0ol+NJgzureF9a9TQHFH/XlVqbo2otqZSvWsqVFMRaq8WWFURUij2Q9EaiUgymUkhM5miwwmdi/5exL8d439fuvutAYqChRJOtPUi0En00ej8lZfONtENzS5QdHibwrWDdeqfXs6tdQAKFp2j0sTruqPiWlBFJfKpDP7EnKXzHM2t26S5dZskSe8s3yRplb+NAkpIRb+hOyW83YN910kaHXd9lKQVWWwjSXLO3SLpFik2dO2aaR40EUisoblV1RUhrdnSqOpwWPWNzRrVv2fCbSMRp5aIk5OLnakNaXtzq3pWhdXYEtG2xhb161mlhpZWNbdE1Ku6Qi0RJ5MUDpk+2dSgobU1qqkMKeLUPknZOafGloick3pUhRWJOIUyOAu8uaFZ+/38ybyt1VGuBveu1rqtjXTqpPazxEhuYK8qrdvapKpwqMMipKWoMhzNXvHZyE7be+SCI8br4AkD9fT8VRrZr6d2HtJbg/tUq6G5VYN6V6m51alXVYX61FSoR9WOk9dtVS2jow52lPxnGBzKiV27MuHQCy8CnZmSJprZOEnLJZ0l6ZxO2zwk6SIzu0fRYW2bUs3PAfKh7QeirSRs356VSbcNhUxVnQKQqopoPY/KcEi9qys63NbZ2EG92i+H43ZjZh3KL2cS5EhSr6oKghyP3HX+gdppYE899PYK/ebxhXrq+0dq4Sf1OnD8AA3qXa3fPL5Qt764uL2IQbni3da91y45Vv16VurNjzfoG3+dXfKBzuA+1SwUmoFT9hqui4+dqHGDerUPbYwPSo7edUhW+zWzDr8tADwIdJxzLWZ2kaTHJYUl3e6cm2dm34zdf5OkGZJOlrRI0jZJX831uACi2jJDbXMCCtGNX9xX3/rbmzrv4J10xSm762f/macfHL+rlm/crpOvfzHo5kmSXvjh0RozMJrNu/CoCTr/sHGqqQxr5yG927eZPLzWkyCn8/o0hSjVvItbz52qYyYN0aI1W/Tw3JW6/unki6KWk5d+fLSG9Y2eOOlVVfpL1Q3uXa1rT99LX77tDVVVhDqUVEdURdj0/s9P0kNvr9DRk4aob4/kJ9QAeMuTb2Hn3AxFg5n4226Ku+wkfduLYwFIbOfBvbUwwersQaupDOlTuw/TAxceoglDeiscMl112h6Sohm0fj0rM16fxgujB/TQ5OG1enzeKv38M3u0BzlS1yxbmwG9qrI+3pPfO0Ln3Pq6Hv/uERrQq0qvfLhWVeGQzui08GSh6C7Ieer7R7YHgLsM7aPvH99H+4zup6/eMVOS9Jev7q8bnlmkWR9tyEdTC8Zpe4/oMPS1V3VYuVY2LXSP/PdhGtynWpdP201/eOoDAp0EZl56nEIh02f2GRl0U4CyU/qnm4Ay0VyAw2PO2G+U/ufz0VXB9xnTP+E2e4zoq5cWrc1Le8YP6qXFa7fqwqMm6P+dsGvGwwT7dTO0sbNeVWEdu9tQPfR2dDrixKF9NPOy49rvP2TCIEnSLkN7a/3WJq3d0pRRW/zS3fyb687aWwePH6ghtTVd7jtq18Htl/tUV6h3TfH+vPz1/AP05dveyPhx13xurw7Xa2sqAx1WOm2v4XpkrvejxM89eCf936sf6a7zD2x/L0weUauIcwqZVBEq/XlJ6fryQTupfw4nSADkpnh/iQB00NASzGJ9pui8oraJsG3eu+pT6pnG0J3BffLXCRgzsKcWr92qrx02LuMgR1JGQ062NrXqt2dO0SETBmqngb2SbvfIfx+ukJkefXelLvr7W+23BzUUMZTkuAePH6jT9k5+RtrMNPvy47TfL55SZThU1MNzDp84uH24ZTIf/vJkbdzWpOUbt+vUP72smZcd12GCuBSdu5Lv+Vz77dRfI/vVaHi/HhrVr4fngc6Cn5+oynBIOw3spUN3Hth+e1U4pG1N0e8gghzpzKmjdPYBYzQhbugrgPxLPGsaQNFpaI7ourP21rs/+5QmDE7esfaak9orLp1z4BhJ0twrT0gryJF2FILIhyN3iWYdeiQYlpaOTDI6UrRIxVkHjNHBEwZ2u004ZJq25/D2216efkxgM/4rO81mbrt+9wUHpX5sXHGOtjK5xearh46VJJ2053D9NpaNvPqze+ilHx+tpddM001f2lfTT5qkcMg0sHe19hrVT/977lQN6t01YG+bYJ7P4lc7Deyp68/eV5ectJtnnewvxj7XUrSASzhkOv+wcR0m0E8c2ifp48txfvyhOw/SPmP6q7ameAN+oBQQ6AAlork1otP2Hqne1RWqzrIjn41wXGZkr5F9teRXJ2f0477b8Fo/mpXQybFgItH8m3T0rKrQ3CtPSGvbS06alNG+zUzfPHKC9h3TTyP79VBrQHM7QnGd15H9eujhiw/XQxcdmtZj2ypIVVWYbv7yfjm3ZWhttR777uH6r8PH5byv7sR3xI+dNLT98un7jdLSa6bpiwfu1D735sQ9huubR07o8PjjJw9NWsr3J5+erMo8LRr6s1N315Wn7t5+/ZAJgzT/qhNz2udfvrq/rv7snnrj0mN1+bTdkm7XlsGbmCC4KuVZSokCXCm/32sAkiPQAUpE/HCj+I7VkD7VkqR/ffNgzbnieM+PG58B6FVdkfHaDdP2Gp56I48M6VOtpddM6xCcZSrdIO7MqaNTb9TJ9JMm6f4L0wsq/LKtqVV/PHsfLbr6JL08/RjtOqyP9hrVL63HVoR2ZHR2GdpHNZW5/cTc8dUDNGlYrS6bNjnh/fekkWVKR3xHPFl5+GxVV4Tytp7JtL2Gd3l/9qgKqyqc/d90aGwu2ZDaGn398PEpt+8ue1lq9h3TTzd/eWqX2/cYWavRSdZjA5BfBDpAiYhfgf2sA3YMNbnngoP0zpUnaP+xA3wZRhHfifp0FkFLZTjUoYSz10b176GrTttdb/7keN87nFWxoO+az+1Z1BOQl6zdqoosOsdtGZ22x+4xom9O7RgzoGtnsS1D8eZPjtfQBEURcuV1oFNTGc7bPJ1BvasTt6Equ7/p+MlDM34+qj1+/grZuQeP1X479deIvh3fhw9ffHiX+VoAglE+30hAiYuvunZ2LNDZfUStxg/urT6xACcUMt33rYM9PW5lXIc420CiV7V/dVFG9e+pcw8em1Np6M5G9uuR8PamVqdrT9+zQ6BZjD6bZRnctgIPbQFPfMnuTJ2+76gO74tnfnCk3v/FSepRFdbSa6ZpQK8qjRvUS099/0gtvWaa/nr+AZKk287reoY9E53nKOUq16xWOq47a29d/dk9kt7f0JRdoPW/52b+XMZ/H9z8pX11/4WHZHXsYjCqf/R7oCYW1HzrqAndbQ4gAFRdA0rA4RMHKZKgUlais6sTBnubPamqCOnFHx2tVZuzXxm9j4+BzkAfMivdDX3Ldv5PIRmdIJOSibZnZ0TfxAFhOobWdsxOjE/yvm3LBh4+cbCWXjMt6+O1CXmc9auu8Pf98Icv7N1tNTwp8ypoYwf21NWf3TPjtlRXhDR17I4y8p/aI3/DUoPQlrUZ2qdGi9ds1aETBunG5z4MuFUA4pHRAUrA/33tAN319QO73J5o+FG/nlU6/zDvJndXVYQ0ekBPTR07IOt9DKlNPOTGC507zF7obopPthXdkqnI00T29uN5kNFoW0OnR1W42+eqOz1LZOiPnxmdA8YN8GURypWbGnTozoMyftzCX5ykYyYN1a9P77ie0Nc9/L4pJG0nkv5w1t66/8JDdND4Afq/rx0QcKsAxCPQAUqAmSUcNpZsEvKQPtWedaC9WC9ll6F9fOvQezlkrU3fnsn36eXY/OF9a9pLE/vV8e/8rOf6Kiy9Zlp7afFPNjUo0VJA6RwjlzlOP/zUrlk/1utid5U5FAJIvW9/PjO5DiU9fJdBHd6vQVUQ9FtVOJbRqa3RvmP6qyIc0hG7DE7xKAD5RKADlLBkne5R/Xsq4lHnY3CSCdCZGDuwp29DvtbUN3q+z9vPm5o0c+PlfKNhfWvaA4W2xRi9Fv8uOHH3Ybrmc3sl3TZTTUkm4ad6533vuF30hSyq1rXJZUL8pGHJ14PJRi4V/lJpq3LntQEZrhfV2fC+PfReXFnrEo1zPC9cAcB7zNEBStTDFx+m4X0TV6XaZWjvhGfas+FFdbEhtTW+Lar4X0ekLombqYG9q9WrOqztzV2DDy/nQNXWVKo14hQyefZ6decmD9a+ieeyXEHl9P1GZlX1rf24WT5X7//ipPaCCl7xes5PPC+GGSbSr5uMZTaSrTVT7Ah0gMLHpxQoUXuM7KuBSbItuXQiO8tljY42vasrfDvr61emqDVB5PH+L07yZChfZxHX/bygQjWyX3ZFDXKd55RtttKPjqufr1ulTxkdr6sgfuPI0qxGRqADFD4+pUAZ6m4+TK/qzDqZXvzY96wKJwwcvJDPdT287Ph87dBx+lrcJO5dhno7pKqz0f2zr5CWzEXH7JzV43INTrN5J/36DO+G7MXbbXitL/uVpK1NLb7sd3Afbwt4+DlPKUh+zZEC4J3S/PYB0K3uhrxkOtTGix/73tUVvgU6fmV0/Fz7R5KuOGWyjoyb2JwsO+eVF398jOf7zHZ+ShAlus/MYU5Qd2oqwzpwXPYVCbvz4gdrfdnv5dN283yftTWlNVL+6F0He5LNBuAvPqVAGUo2ifmg8QMyDji8WCekV3WFmiP+rB7v19nki4/ZWV87dKwv+443blAvSdKQPv7Nc3j90mN92/f1Z+0tSfrSgWP0uTRLIec6gf/LB+2U0fb/uOCgnI6XyutL1vu6f6/V1ng//PLVS/x7jwXh1vP2z3qBZAD5U1qnWACkJVEWproipJ2H9NZrizPrlHkRSFSGQwrJ1Jrl5PVkPrX7UE/3F+8L+4+RJN3+8lLfjiFJD1x4iNZuadL9b9b5doyhtYmLVnjh1L1H6oBxAzUsVhhjUJ9q3fLCYt+OJ0UD57EDe2rpum1pbV8Ki7x6yeuCDJL/GdB8+szeI3ytpgfAO2R0gDKUqBhBY0tEU0b1y2g/IfOu8pMfE3t/ftoenu8z3/r1rNLOQ3prSJ/qvM438tKwuOp/qU6C/78TdvG5NV0Va6CT6WKkdM1z0xbb/OGsfYJtCIC0FeevJoCcJCtGMCxJOepkQmaeLfTpxwry1UXagU2kf68qNSZZlyYXPz5xkuf77FaKpF3Yp0pi8fp0mi/ix3svH9IdZjr78uN8bkl6zj5gjO/H8KPqYZsrT93dt30D8EdxfrsDyEmy4GRIn8wCHTPvSlUP8GA9ns6KtQObSK4ll5NpafVnblS2vKpk9aXYPJ3Hvnt4l/tmXnacjtttSPv1MQOyK4MdtHSn0/WPrYsT9Lqdv/rcnh0KbHjNJG3a3uzb/v0qmALAP6XTCwCQtmTjyzMNNrzM6Ez2oQxvPqoiff/4XTR+cC/fj+NXUYUvZThxP1epuopezX34+uHjtfSaaZo0LPq+OnH3YXrye0fonStPUE1lWINjQf3AXlVFO6l85yHpLU7rx5ybbN35tQN823d1RUjHTBqSesMsfXafkbr29D192z8A75XO7EAAaUvWsctm/Qyv5uj08aHSUz46sP997EQtWbtVi9ds9f1YfujvQyatO6dOGdFtMQKvAud4b19xgqorQx3m4vz0lMk6fOIgje5fnNkcSfr3hYcG3YSCUlkR0gVHjNczC1b7sv9+Pavai5AAKA5kdIAy5cXaHo0tEc8yDbU9ive8y68+t6fmXHG8r8dwHg48asua3H/hIZ7tM117jOzb5bb4LI4fc3T69qzsUnCgpjKsk/ccrj1HdW1PsehRlf5wxnKoEhaJOA2trdHX4xbaBVDeCHSAMhVf5ewrh4zVdbH1TuZfdWJG+wl7lDXpU1Mpr/pi/3X4OH3pwPydea2pDKtfz/xmRnLRozKsP52zj/Yd0z/opkiSrvj05PbLowf0CLAl/vAjS5Wpv339wKCb0G7mZf4UR4g4qWdVWLsM7ePL/gEUn+I9hQogJ789c4p+dO9cPbdwjX7y6cntZ3wzOUsseTfBuWdVWBXhkJqyrCz2wg+P1quL16oiFNLp+43yqFWFY+rY3DNw8UIFNC9lv536a/LwWj3w7UM8WYC20BTCFPZCyugM7lOt2poKbW5o8XS/25tbVVMZVqtL/IzvPKS3Fq3e4ukxARQ2Ah2gTA3pU6O/fGV/OZfbZGWXpFORqV5VFaoImZqyfPyYgT01ZmDpjp+vranUoN5VWrsl22eooyADnf9cdJhO+dNLkqRJw/poj5F9NeM7XaujlYqQSa2Bt6FwAh0pukjt5ob0go5wyNKueNazKpx020LIrAHIL4auAWXMzHKuyHTUrt5UOepZHfZs6Fqp8rKzGuRzPbD3jmF+j333iOAakieF8DcWWic/k1LNmWxbGQ4pkuTkS7LiJC/9+Ogut03ba3iH65eclOf1pgB4gkAHQE6yqdSWSK/qiqIt85svXg0/2tLYoubW4AZU1cYWdVx6zbTA2pBPEwanVwbaT4U0dE2SWjxekyb+z4tkmNFJ9Nx86cAdZdeP3GWwvnHkhNwaCCAQBDoACkKvqgrVZzhm//CJg3xqTWFauanBs321RIJbKLR3dUXZBDmFonPVuWT2TFAVzw9DPDpB0sbMdPm03SRJyWL4zgFN27phLa2uvRhLmwKLCwFkiUAHQEHoU5P5lMEzp472oSXlIdnwHpSmsQPTWy/oT+fs43NLov7y1f093V9rxLUHc/16JF6Tq3NGZ2JswdXamkqdtvfIDveFQtZefp1EM1C8CHQAdHHi7sNSbhMyabqH49Zrk3ROuhMOmeZfdaKe+n7wcyCKTWtwCZ2ytdvw4MoeV4RDuviYnVNul6+iBX4sENwSe1N/dp+RCcuUd56POH5wL0nRdZYSKZTy6wCyl1OgY2YDzOxJM/sg9n+XbwUzG21mz5rZfDObZ2bfyeWYAPz3y8/tmXIbk1Tl0WKhUnYZnVH9e6hHVVg7D2HdjEy1Bjh0rVz161Hl2ZCov3wl84xIYxql2wttLk8mxsfmQoVCptoEgVTnjM5PT9ldL08/JuV+2zI/AIpPrr2U6ZKeds5NlPR07HpnLZJ+4JzbTdJBkr5tZpMTbAegQAzoVaXaFIFHq5MqKzwMdKozD3TyNZ+gVMR387yeDI7UqitDOv+wcZ7sa2htTcaP2d6Uush1MQ9pPGKXwe2Xv3101+xV52xVTWVYI/slXqC27WlY8PMTNf2k3bxrJIC8yrWXcpqkO2OX75T0mc4bOOdWOufejF2ulzRf0sjO2wEoLI999wh9+aCdut2m0sOzv2amKaMyC1yo0paZ+C5sS4BV18pVdUVIl02brMnDa3PeV6/qzBdW3dLYtdjHmVNHaUTfGl128m46ZcoIDezlbZGA7rz90xP0wg+7lnb2wsl7Du9SrKQynPn3RU1luKizXEC5yzXQGeqcWylFAxpJ3S6oYWZjJe0j6fUcjwvAZyP69dBPT+k++Vrh4dA1KboGRrr2yjAoQkdkdPKvuiIanJy0R+o5cN05ec9h2mlgr4wfV9/QLKnjmjAXHDFer1xyrP7riPH649n7qEdV5gFUtvr2qNSYgT01aZg/Q09v/NJ+uv0rUyVJV392j5QnRn752R1Ddr1aCBlAsFL2KszsKTN7N8G/0zI5kJn1lnSfpO865zZ3s90FZjbLzGatWbMmk0MA8FiqQMbr85xVGQyFu/OrB3h89MJ32M7eldOmI5dfB40foJP3jC5C+fXDx+e0r8G9s8u6HDNpqA7deaC+ceQE/fbzU/SdYydqbBYBk9e8WFD1+rO7VovrXV2hYyYNlRQdipZqWN45B47JuR0ACkvKQfHOueOS3Wdmq8xsuHNupZkNl7Q6yXaVigY5f3PO3Z/ieLdIukWSpk6dyi8xUIAmDO6lD9ds9Xy/i1ZvSXvb6sryKxrp5Ui9L6UYlghv3XPBwe2Xc82aZDtk85wDx7R35k/fb1RObfDa1Z/dQ5c98G5a2/7+C1M0rLaH3q7bqGseXaDZlx+ngSmCP+eciO2B8pNrT+EhSefFLp8n6cHOG1j0G/k2SfOdc7/L8XgACsCUUf182e/q+sa0t/Wy4lux8HKIT7oLSAL58Ll90gu8amsq9Nl9RungCQP1zSMnaOk101IGOW2KudACgOzk2lO4RtLxZvaBpONj12VmI8xsRmybQyV9WdIxZjYn9u/kHI8LIEDHT44OBwmyFoDX84OKwQ9O2DXoJgC+6FEV1uf2SV2n6PvH75Lxvkf266F9xvTvkNE5be8R3T6GkAgoDZnXc43jnFsn6dgEt6+QdHLs8kvyfig/gACNGxz8uP5yVBkOyUQnrBydOXWU/jmrLuhm+OpXp++p+99a3u02Xzk08/LcbWvluLhPznVndZ3TA6D0lN8pUQA5mzQsWh6X6s75FTKCnHJ10dET2y+X6ueuuiKsY3Yd3OX2fcf082T/l56c3no4vasrfKsEByC/CHQAdOuKT0/W7iNyX/cDuTOzku3kontm0oHjBkiSxg0q3Yzq7QmqKR4wbmDGa2wlsvuIvtpteOoA5rbzpqpfz6qcjwcgeAQ6ALr1tcPGqXd14lGu5vGo1AoW5kuJ+dTla1jfGklKuZBvqakImb500E7azYOFVkNpnCkI8T0ElIyc5ugAKA9tE/97VIZ119d3nHF1Hg+kqghbWgtZHjOp27WJgZJjtiPIzba8dLHYa1Rfza3b1H596tj+OmrXIfr81NE57zuc4rkbM6CnxpdwxgwoN2R0AKTUr2elJKlXdVj77RQdPnPm1FE6dIJ3C1hK0uj+PdPa7vav7O/pcYtZdQaLrKJwPHDhIRltb2Y675Cd9M0jJ/jUosLx4LcP7XD9qF29O7GRKlvzwo+OTrtcNYDCxy8kgJTGxAKQyriSzr8+Y4qG1NZ4epxbz5uacpu20tblqi3obJNNTu3QCQO9aQyyts+Y/jpx92Fpb2+S9ttpgKafNMm/RhUIPzNWJZ4MA9AJgQ6AlAb2rlLYOgY6fujXgwnAqew5suOkbJfFpJ2//ddBXjUHeUIH3RvpzNEBUDoIdACk1NQaUauTKsP+dhLCPu+/FLz4wdoO1ylOULwymePmdeGPQveNI8dLkuZfdaKn+6XOAFBeCHQApNTQ1CpJqqkM+3qcdKqu0VHpiECnePn9eSpmbZnLHlXePkelXsgBQEcEOgBS6lMTnRcytI+3c3I6SyfQGeJzG4qN15XvkD+XTUtvAUspWgiknPi1VhBhDlBeCHQApPSVQ8dK2rGOh18q0pgDdMER431tQ7FJoxo3ClS6QfvoAT3aTzaUi91H9NXSa6Z5vl/m6ADlhUAHQEptRQhG9u8RcEuk0QPSK0Fdqo7cZbBO23uEJCnMOL6ywPBE74To9QBlhQVDAaTlgQsP0YQhvYNuRtm782vRBVvfX1Wvqoqw5tZtpCNc4nh9vUNGBygvnNsAkJZ9xvRXbR6Gz4we0IOCA2l44MJD9c9vHKQQsw4AAEiIQAdAQdl1aC3zTtJQUxlWdUWY9VWK3OUZFCRA7vYd01+9qxnMApQLAh0ABWVu3cagm1BUGIpT3M45cEzKbbJZFBaJfe/4XfTuzz4VdDMA5AmnNQAUlJYE6ZyLjt5Zx+w2RK8sWpvgEeWNOKe4pbMQ6IHjB+ahJQBQesjoACgo5xzQ9Qx3KGTad0x/XXTMxABaVNgaWyJBNwE++/0X9g66CQBQlAh0ABSUrx02rksxgnQWEgWKEeWOAcA/fMUCKCg1laEuxQhYL8Y7N31p36CbgDjVFWH9+MRJQTcDAEoSgQ6AglJdEe5yGxPuk5s8ojaj7Xcbntn28B8ZSwDwB4EOgIKSKHszZVTfAFpSHHpVdQ0Mu1NVwdc+AKA88IsHoOAdsvOgoJtQsHpWZVY8M1HGDMEiYQkA/iDQAYAi1ivDxQ/J6AAAygW/eABQxKozDFyqwnztF5pT9x6R9L7vHEtJdQDIFr94AFDEMh31VBlmnFShGdKnRhMG90p43zkHdl1XCgCQHgIdAChmGcYtxoSQgvTE945MeDuvFgBkj0AHAICAJa0wTaQDAFkj0AFQcOKTDi/88OjgGlIEjJ5wSTAzTRndr8vtrCEFANkj0AFQcGZddpwkqbamQmMG9gy4NYWNfnBp4+UFgOwR6AAoOBWxymCVVAhLiY5wCXGuy03MqQKA7NGLAFBwKmITFgh0UE66hjkEsgCQi5x6EWY2wMyeNLMPYv/372bbsJm9ZWYP53JMAKUv3BboVNDNS4UT/qUjQUKHOToAkINcT5dOl/S0c26ipKdj15P5jqT5OR4PQBloz+iEyOikQjGC0uES5XR4eQEga7n2Ik6TdGfs8p2SPpNoIzMbJWmapFtzPB6AMtCW0algccuU0j3h37u6wt+GIGfH7TY06CYAQEnJNdAZ6pxbKUmx/4ck2e4Pkn4kKZLj8QCUATPTYTsP0il7jQi6KSWjkqCx4H33uF2CbgIAlJSUp/jM7ClJwxLcdVk6BzCzT0ta7ZybbWZHpbH9BZIukKQxY8akcwgAJeiurx8YdBOKQroZnV7VFdqwrdnfxgAAUEBSBjrOueOS3Wdmq8xsuHNupZkNl7Q6wWaHSjrVzE6WVCOp1szucs59KcnxbpF0iyRNnTo1UREaAEC79CKd0/cdpWN3S5Z0R6GiFgEAZC/XoWsPSTovdvk8SQ923sA5d4lzbpRzbqyksyQ9kyzIAQBkJt2OcM+qsPYa1c/XtgAAUEhyDXSukXS8mX0g6fjYdZnZCDObkWvjAADeYE0iAEC5yakMj3NunaRjE9y+QtLJCW5/TtJzuRwTALBDuiOb2irZobj0qqJaHgBki1N8AFDE0h26xlyP4jN+UC8CVADIAYEOABSxnQb0Sms7ussAgHJDoAMARez8w8bpxydOSr0hKR0AQJkh0AGAIhYKmYb0qU65HWFOcThutyE6ZQoL5QKAFwh0AKDI9apOPmH99H1HSSKhUyxuPW9//fHsfYJuBgCUBAIdAChyPavCSe9zLrruspHTAQCUGepWAkCRq6pIfs4q0hboEOcUlfu+dbD69awKuhkAUNTI6ABAkUu2GOifv7ivItE4h3xOkdlvpwGaMLh30M0AgKJGoAMARa4qSaBjktZvbcpvYwAAKBAEOgBQ5CorkudrTpkyXBJD1wAA5Yc5OgBQ5JJldCTpC/uP0XML1+iQCYPy2CIAAIJHoAMARS7ZHJ02N35pvzy1BACAwsHQNQAocsmqru23U/88twQAgMJBoAMARS5ZRmdIbU2eWwIAQOEg0AGAIhei0AAAAF0Q6ABAkTNKqgEA0AWBDgAUuUQZnUN3Hpj/hgAAUEAIdACgyIUSZHROmzIygJYAAFA4CHQAoMglCnQYzQYAKHcEOgBQ5EIJvsnDVCgAAJQ5Ah0AKHLxGZ2HLz5MEoEOAAAEOgBQ5OIDnT1G9pVEJTYAAAh0AKDIJUrehAl0AABljkAHAIpcouxNmG93AECZ46cQAEpQokpsAACUEwIdACgxvztzio7YZXDQzQAAIFAVQTcAAOCtz+07KugmAAAQODI6AAAAAEoOgQ4AAACAkkOgAwAAAKDkEOgAAAAAKDk5BTpmNsDMnjSzD2L/90+yXT8zu9fMFpjZfDM7OJfjAgC6mjKqb9BNAACgYOSa0Zku6Wnn3ERJT8euJ3KdpMecc5MkTZE0P8fjAgA6ueKUyUE3AQCAgpFroHOapDtjl++U9JnOG5hZraQjJN0mSc65JufcxhyPCwDoxLmgWwAAQOHINdAZ6pxbKUmx/4ck2Ga8pDWS/mJmb5nZrWbWK8fjAgA6Ic4BAGCHlIGOmT1lZu8m+HdamseokLSvpBudc/tI2qrkQ9xkZheY2Swzm7VmzZo0DwEAIKMDAMAOFak2cM4dl+w+M1tlZsOdcyvNbLik1Qk2q5NU55x7PXb9XnUT6DjnbpF0iyRNnTqVn20ASJMj0gEAoF2uQ9ceknRe7PJ5kh7svIFz7hNJy8xs19hNx0p6L8fjAgAAAEBSuQY610g63sw+kHR87LrMbISZzYjb7mJJfzOzuZL2lvTLHI8LAIhz1/kHav+xA4JuBgAABSPl0LXuOOfWKZqh6Xz7Ckknx12fI2lqLscCACR32MRBQTcBAICCkmtGBwAAAAAKDoEOAAAAgJJDoAMAAACg5BDoAAAAACg5BDoAAAAASg6BDgAAAICSQ6ADAAAAoOQQ6AAAAAAoOQQ6AAAAAEoOgQ4AAACAkmPOuaDbkJSZ1UtaGHQ70MEgSWuDbgTa8XoUHl6TwsNrUnh4TQoPr0nh4TVJ307OucGdb6wIoiUZWOicmxp0I7CDmc3iNSkcvB6Fh9ek8PCaFB5ek8LDa1J4eE1yx9A1AAAAACWHQAcAAABAySn0QOeWoBuALnhNCguvR+HhNSk8vCaFh9ek8PCaFB5ekxwVdDECAAAAAMhGoWd0AAAAACBjBRnomNmJZrbQzBaZ2fSg21NuUj3/ZnaUmW0yszmxf1cE0c5yZma3m9lqM3s36LaUq1SvAZ+T4JnZaDN71szmm9k8M/tO0G0qJ+k8/3xOgmdmNWb2hpm9HXudfhZ0m8pJOs8/n5PsFVx5aTMLS7pB0vGS6iTNNLOHnHPvBduy8pDB8/+ic+7TeW8g2twh6U+S/i/gdpSzO5T6NeBzEqwWST9wzr1pZn0kzTazJ/k9yZt0n38+J8FqlHSMc26LmVVKesnMHnXOvRZ0w8pEus8/n5MsFGJG5wBJi5xzi51zTZLukXRawG0qJzz/RcA594Kk9UG3o5zxGhQ+59xK59ybscv1kuZLGhlsq8oHz39xcFFbYlcrY/+YwJ0nPP/+KsRAZ6SkZXHX68QXYz6l+/wfHEuzPmpmu+enaUDR4XNSIMxsrKR9JL0ecFPKUornn89JwMwsbGZzJK2W9KRzjs9JHqX5/PM5yUIhBjqW4DYi2/xJ5/l/U9JOzrkpkv4o6d9+NwooQnxOCoSZ9ZZ0n6TvOuc2B92ecpPi+edzUgCcc63Oub0ljZJ0gJntEXCTykoazz+fkywVYqBTJ2l03PVRklYE1JZylPL5d85tbkuzOudmSKo0s0H5ayJQ+PicFIbYmPf7JP3NOXd/0O0pN6mefz4nhcU5t1HSc5JODLYl5SnZ88/nJHuFGOjMlDTRzMaZWZWksyQ9FHCbyknK59/MhpmZxS4foOj7aF3eWwoUMD4nwYs9/7dJmu+c+13Q7Sk36Tz/fE6CZ2aDzaxf7HIPScdJWhBoo8pIOs8/n5PsFVzVNedci5ldJOlxSWFJtzvn5gXcrLKR7Pk3s2/G7r9J0hmSvmVmLZK2SzrLsfJsXpnZ3ZKOkjTIzOok/dQ5d1uwrSoviV4DRSeR8jkpHIdK+rKkd2Lj3yXp0tgZUfgv4fMvaYzE56SADJd0Z6zqakjSP51zDwfcpnKS8Pmn3+UN43kCAAAAUGoKcegaAAAAAOSEQAcAAABAySHQAQAAAFByCHQAAAAAlBwCHQAAAAAlh0AHABAYMxtoZnNi/z4xs+Wxy1vM7M9Btw8AULwoLw0AKAhmdqWkLc65/wm6LQCA4kdGBwBQcMzsKDN7OHb5SjO708yeMLOlZvY5M/u1mb1jZo+ZWWVsu/3M7Hkzm21mj5vZ8GD/CgBAkAh0AADFYIKkaZJOk3SXpGedc3squkr4tFiw80dJZzjn9pN0u6Srg2osACB4FUE3AACANDzqnGs2s3ckhSU9Frv9HUljJe0qaQ9JT5qZYtusDKCdAIACQaADACgGjZLknIuYWbPbMcE0ouhvmUma55w7OKgGAgAKC0PXAAClYKGkwWZ2sCSZWaWZ7R5wmwAAASLQAQAUPedck6QzJF1rZm9LmiPpkEAbBQAIFOWlAQAAAJQcMjoAAAAASg6BDgAAAICSQ6ADAAAAoOQQ6AAAAAAoOQQ6AAAAAEoOgQ4AAACAkkOgAwAAAKDkEOgAAAAAKDn/H8qV8KniYiHiAAAAAElFTkSuQmCC",
      "text/plain": [
       "<Figure size 1008x360 with 1 Axes>"
      ]
     },
     "metadata": {
      "needs_background": "light"
     },
     "output_type": "display_data"
    }
   ],
   "source": [
    "# test ideas and visualize \n",
    "\n",
    "# randomly choosen file                                                                     \n",
    "# Emotion is 'Anger' and Intensity is strong \n",
    "test_wav_path = '/Users/stephen/Emotion_Dectection/data/RAVDESS/Audio_Speech_Actors_01-24/Actor_04/03-01-05-02-01-02-04.wav'\n",
    "sig, sr = librosa.load(test_wav_path, sr=16000) # \n",
    "print('.wav file shape: ' + str(sig.shape))\n",
    "print('sample rate: ' + str(sr))\n",
    "plt.figure(figsize=(14, 5))\n",
    "librosa.display.waveplot(sig, sr=sr)\n",
    "plt.title('Strong Anger')\n",
    "#ipd.Audio(test_signal, sr)\n"
   ]
  },
  {
   "cell_type": "code",
<<<<<<< HEAD
   "execution_count": 641,
=======
   "execution_count": 46,
>>>>>>> parent of 2d563d9 (55%)
   "metadata": {},
   "outputs": [
    {
     "data": {
      "text/plain": [
<<<<<<< HEAD
       "<matplotlib.collections.QuadMesh at 0x7fcf20889dc0>"
      ]
     },
     "execution_count": 641,
=======
       "<matplotlib.collections.QuadMesh at 0x7fa375bd30a0>"
      ]
     },
     "execution_count": 46,
>>>>>>> parent of 2d563d9 (55%)
     "metadata": {},
     "output_type": "execute_result"
    },
    {
     "data": {
      "image/png": "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",
      "text/plain": [
       "<Figure size 1008x360 with 1 Axes>"
      ]
     },
     "metadata": {
      "needs_background": "light"
     },
     "output_type": "display_data"
    }
   ],
   "source": [
    "# mellllllsss\n",
    "mel = librosa.feature.melspectrogram(sig)\n",
    "mel_db = librosa.amplitude_to_db(mel)\n",
    "plt.figure(figsize=(14, 5))\n",
    "plt.title('Anger')\n",
    "librosa.display.specshow(mel_db, sr=sr, x_axis='time', y_axis='hz')\n"
   ]
  },
  {
   "cell_type": "markdown",
   "metadata": {},
   "source": [
    "# Feature Extraction \n",
    "one of the best ASR (automatic Speech Recognition) audio feature extract methods is using a combination of MFCC's, the delta of those MFCC's, and the delta of those deltas (AKA Delta-Deltas). Here we will create functions to \n",
    "\n",
    "deltas - trajectories of the MFCC coefficients over time\n",
    "\n",
    "\n",
    "http://practicalcryptography.com/miscellaneous/machine-learning/guide-mel-frequency-cepstral-coefficients-mfccs/"
   ]
  },
  {
   "cell_type": "code",
<<<<<<< HEAD
   "execution_count": 642,
=======
   "execution_count": 47,
>>>>>>> parent of 2d563d9 (55%)
   "metadata": {},
   "outputs": [
    {
     "data": {
      "text/plain": [
<<<<<<< HEAD
       "<matplotlib.colorbar.Colorbar at 0x7fcf1c80a1f0>"
      ]
     },
     "execution_count": 642,
=======
       "<matplotlib.colorbar.Colorbar at 0x7fa3751388b0>"
      ]
     },
     "execution_count": 47,
>>>>>>> parent of 2d563d9 (55%)
     "metadata": {},
     "output_type": "execute_result"
    },
    {
     "data": {
      "image/png": "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",
      "text/plain": [
       "<Figure size 432x288 with 6 Axes>"
      ]
     },
     "metadata": {
      "needs_background": "light"
     },
     "output_type": "display_data"
    }
   ],
   "source": [
    "# Showing actual feature extractions used \n",
    "# resource: https://librosa.org/doc/main/generated/librosa.feature.delta.html?highlight=delta#librosa.feature.delta\n",
    "\n",
    "test_mfcc = librosa.feature.mfcc(y=sig, sr=sr)\n",
    "test_mfcc_delta = librosa.feature.delta(test_mfcc)\n",
    "test_mfcc_delta2 = librosa.feature.delta(test_mfcc, order=2)\n",
    "\n",
    "\n",
    "\n",
    "\n",
    "fig, ax = plt.subplots(nrows=3, sharex=True, sharey=True)\n",
    "img1 = librosa.display.specshow(test_mfcc, ax=ax[0], x_axis='time')\n",
    "ax[0].set(title='MFCC')\n",
    "ax[0].label_outer()\n",
    "img2 = librosa.display.specshow(test_mfcc_delta, ax=ax[1], x_axis='time')\n",
    "ax[1].set(title=r'MFCC-$\\Delta$')\n",
    "ax[1].label_outer()\n",
    "img3 = librosa.display.specshow(test_mfcc_delta2, ax=ax[2], x_axis='time')\n",
    "ax[2].set(title=r'MFCC-$\\Delta^2$')\n",
    "fig.colorbar(img1, ax=[ax[0]])\n",
    "fig.colorbar(img2, ax=[ax[1]])\n",
    "fig.colorbar(img3, ax=[ax[2]])"
   ]
  },
  {
   "cell_type": "markdown",
   "metadata": {},
   "source": [
    "# Data Augmentation Functions \n",
    "It is common practice to transform audio data with data augmentation tools like time adding white noise, time-stretching and pitch shifts. \n",
    "We'll make duplicates of each wav file so our model will have more variable input data. "
   ]
  },
  {
   "cell_type": "code",
<<<<<<< HEAD
   "execution_count": 643,
=======
   "execution_count": 48,
>>>>>>> parent of 2d563d9 (55%)
   "metadata": {},
   "outputs": [],
   "source": [
    "# adding Additive White Gausian Noise\n",
    "def noise(data, SNR=10):   # https://medium.com/analytics-vidhya/adding-noise-to-audio-clips-5d8cee24ccb8\n",
    "    #noise_amp = 0.035*np.random.uniform()*np.amax(data)\n",
    "    #data = data + noise_amp*np.random.normal(size=data.shape[0])\n",
    "    #return data\n",
    "    # RMS value of signal \n",
    "    RMS_s = math.sqrt(np.mean(data**2))\n",
    "    # RMS values of noise \n",
    "    RMS_n = math.sqrt(RMS_s**2/(pow(10,SNR/10)))\n",
    "    # using population formula for standard daviation \n",
    "    # mean = 0 STD = RMS\n",
    "    STD_n = RMS_n \n",
    "    noise = np.random.normal(0, STD_n, data.shape[0])\n",
    "    new_data = data + noise\n",
<<<<<<< HEAD
    "    return np.mean(librosa.feature.mfcc(y=new_data, sr=16000, n_mfcc=13).T, axis=0)\n",
=======
    "    return new_data\n",
    "#np.mean(librosa.feature.mfcc(y=new_data, sr=16000, n_mfcc=13).T, axis=0)\n",
>>>>>>> parent of 2d563d9 (55%)
    "\n",
    "# Time Strectching \n",
    "def stretch(data, rate=0.75):\n",
    "    return librosa.effects.time_stretch(data, rate)\n",
    "\n",
    "def shift(data):\n",
    "    shift_range = int(np.random.uniform(low=-5, high = 5)*1000)\n",
    "    return np.roll(data, shift_range)\n",
    "\n",
    "# Pre Emphasis     info on Pre-Emphasis in speech recognition: https://wiki.aalto.fi/display/ITSP/Pre-emphasis\n",
    "def pre_emphasize(data):\n",
    "    return librosa.effects.preemphasis(data, coef=1)\n",
    "\n",
    "def pitch(data, sampling_rate):\n",
    "    return librosa.effects.pitch_shift(data, sampling_rate, n_steps=3, bins_per_octave=24)\n",
    "# taking any example and checking for techniques.\n",
    "path = np.array(df.Path)[1]\n",
    "data, sample_rate = librosa.load(path)"
   ]
  },
  {
   "cell_type": "code",
<<<<<<< HEAD
   "execution_count": 659,
=======
   "execution_count": 49,
>>>>>>> parent of 2d563d9 (55%)
   "metadata": {},
   "outputs": [],
   "source": [
    "# https://librosa.org/doc/main/generated/librosa.feature.delta.html\n",
    "\n",
    "def extract_features(data):\n",
    "    sample_rate = 16000\n",
    "\n",
    "    result = np.array([])\n",
    "\n",
    "\n",
    "\n",
    "    # MFCC\n",
    "    mfcc = np.mean(librosa.feature.mfcc(y=data, sr=sample_rate).T, axis=0)\n",
    "    result = np.hstack((result, mfcc)) # stacking horizontally\n",
    "\n",
    "    \n",
    "    # MFCC Delta\n",
    "    mfcc_delta = np.mean(librosa.feature.delta(data=mfcc).T, axis=0)\n",
    "    result = np.hstack((result, mfcc_delta)) # stacking horizontally\n",
    "\n",
    "    # MFCC Delta-Delta\n",
    "    mfcc_delta2 = np.mean(librosa.feature.delta(data=mfcc, order=2).T, axis=0)\n",
    "    result = np.hstack((result, mfcc_delta2)) # stacking horizontally\n",
    "\n",
    "    # Root Mean Square Value\n",
    "    rms = np.mean(librosa.feature.rms(y=data).T, axis=0)\n",
    "    result = np.hstack((result, rms)) # stacking horizontally\n",
    "    \n",
    "    # MelSpectogram\n",
    "    mel = np.mean(librosa.feature.melspectrogram(y=data, sr=sample_rate).T, axis=0)\n",
    "    result = np.hstack((result, mel)) # stacking horizontally\n",
    "\n",
    "    return result\n",
    "\n",
    "def get_features(path): \n",
    "    # duration and offset are used to take care of the no audio in start and the ending of each audio files .\n",
    "    data, sample_rate = librosa.load(path, sr=16000, duration=2.5, offset=0.6)  # , \n",
    "    #data, index = librosa.effects.trim(_data)\n",
    "    \n",
    "    # without augmentation\n",
    "    res1 = extract_features(data)\n",
    "    result = np.array(res1)\n",
    "    \n",
    "    # data with noise\n",
    "    noise_data = noise(data)\n",
    "    res2 = extract_features(noise_data)\n",
    "    result = np.vstack((result, res2)) # stacking vertically\n",
    "    \n",
    "    # data with stretching and pitching\n",
    "    new_data = stretch(data)\n",
    "    data_stretch_pitch = pitch(new_data, sample_rate)\n",
    "    res3 = extract_features(data_stretch_pitch)\n",
    "    result = np.vstack((result, res3)) # stacking vertically\n",
    "\n",
    "    pre_emp_data = pre_emphasize(data)\n",
    "    res4 = extract_features(pre_emp_data)\n",
    "    result = np.vstack((result, res4)) # stacking vertically\n",
    "    \n",
    "    return result\n"
   ]
  },
  {
   "cell_type": "markdown",
   "metadata": {},
   "source": [
    "# Calling Functions and preparing data for CNN\n",
    "So the outline of our features are: \n",
    "    - "
   ]
  },
  {
   "cell_type": "code",
<<<<<<< HEAD
   "execution_count": 660,
=======
   "execution_count": 50,
>>>>>>> parent of 2d563d9 (55%)
   "metadata": {},
   "outputs": [
    {
     "name": "stderr",
     "output_type": "stream",
     "text": [
      "/Users/stephen/opt/anaconda3/envs/torch_env/lib/python3.9/site-packages/librosa/core/spectrum.py:222: UserWarning: n_fft=2048 is too small for input signal of length=12\n",
      "  warnings.warn(\n"
     ]
    }
   ],
   "source": [
    "X, Y = [], []\n",
    "for path, emotion in zip(df.Path, df.emotion):\n",
    "    feature = get_features(path)\n",
    "    for ele in feature:\n",
    "        X.append(ele)\n",
<<<<<<< HEAD
    "        # appending emotion 3 times as we have made 3 augmentation techniques on each audio file.\n",
=======
    "        # appending emotion 4 times as we have made 4 augmentation techniques on each audio file.\n",
>>>>>>> parent of 2d563d9 (55%)
    "        Y.append(emotion)\n"
   ]
  },
  {
   "cell_type": "code",
<<<<<<< HEAD
   "execution_count": 662,
=======
   "execution_count": 51,
>>>>>>> parent of 2d563d9 (55%)
   "metadata": {},
   "outputs": [
    {
     "data": {
      "text/plain": [
       "(5520, 5520, (1380,))"
      ]
     },
<<<<<<< HEAD
     "execution_count": 662,
=======
     "execution_count": 51,
>>>>>>> parent of 2d563d9 (55%)
     "metadata": {},
     "output_type": "execute_result"
    }
   ],
   "source": [
    "len(X), len(Y), df.Path.shape"
   ]
  },
  {
   "cell_type": "code",
<<<<<<< HEAD
   "execution_count": 663,
=======
   "execution_count": 52,
>>>>>>> parent of 2d563d9 (55%)
   "metadata": {},
   "outputs": [
    {
     "data": {
      "text/html": [
       "<div>\n",
       "<style scoped>\n",
       "    .dataframe tbody tr th:only-of-type {\n",
       "        vertical-align: middle;\n",
       "    }\n",
       "\n",
       "    .dataframe tbody tr th {\n",
       "        vertical-align: top;\n",
       "    }\n",
       "\n",
       "    .dataframe thead th {\n",
       "        text-align: right;\n",
       "    }\n",
       "</style>\n",
       "<table border=\"1\" class=\"dataframe\">\n",
       "  <thead>\n",
       "    <tr style=\"text-align: right;\">\n",
       "      <th></th>\n",
       "      <th>0</th>\n",
       "      <th>1</th>\n",
       "      <th>2</th>\n",
       "      <th>3</th>\n",
       "      <th>4</th>\n",
       "      <th>5</th>\n",
       "      <th>6</th>\n",
       "      <th>7</th>\n",
       "      <th>8</th>\n",
       "      <th>9</th>\n",
       "      <th>...</th>\n",
       "      <th>142</th>\n",
       "      <th>143</th>\n",
       "      <th>144</th>\n",
       "      <th>145</th>\n",
       "      <th>146</th>\n",
       "      <th>147</th>\n",
       "      <th>148</th>\n",
       "      <th>149</th>\n",
       "      <th>150</th>\n",
       "      <th>labels</th>\n",
       "    </tr>\n",
       "  </thead>\n",
       "  <tbody>\n",
       "    <tr>\n",
       "      <th>0</th>\n",
       "      <td>-503.185974</td>\n",
       "      <td>57.042301</td>\n",
       "      <td>-8.313340</td>\n",
       "      <td>13.147138</td>\n",
       "      <td>-7.274663</td>\n",
       "      <td>-6.099257</td>\n",
       "      <td>-16.450794</td>\n",
       "      <td>-20.211823</td>\n",
       "      <td>-11.638207</td>\n",
       "      <td>0.479528</td>\n",
       "      <td>...</td>\n",
       "      <td>0.000839</td>\n",
<<<<<<< HEAD
       "      <td>5.788149e-04</td>\n",
=======
       "      <td>0.000579</td>\n",
>>>>>>> parent of 2d563d9 (55%)
       "      <td>0.000471</td>\n",
       "      <td>0.000436</td>\n",
       "      <td>0.000508</td>\n",
       "      <td>4.320344e-04</td>\n",
       "      <td>0.000399</td>\n",
       "      <td>0.000087</td>\n",
       "      <td>9.128546e-06</td>\n",
       "      <td>surprised</td>\n",
       "    </tr>\n",
       "    <tr>\n",
       "      <th>1</th>\n",
<<<<<<< HEAD
       "      <td>29.912209</td>\n",
       "      <td>-99.705097</td>\n",
       "      <td>27.487908</td>\n",
       "      <td>-15.716419</td>\n",
       "      <td>-0.736366</td>\n",
       "      <td>-22.383708</td>\n",
       "      <td>-1.618126</td>\n",
       "      <td>10.088343</td>\n",
       "      <td>43.293486</td>\n",
       "      <td>54.078932</td>\n",
       "      <td>...</td>\n",
       "      <td>645433.349228</td>\n",
       "      <td>1.312445e+06</td>\n",
       "      <td>0.051437</td>\n",
       "      <td>0.000283</td>\n",
       "      <td>17.295957</td>\n",
       "      <td>1.729966e+06</td>\n",
       "      <td>83281.804426</td>\n",
       "      <td>0.000080</td>\n",
       "      <td>1.221729e+04</td>\n",
=======
       "      <td>-279.354313</td>\n",
       "      <td>21.384784</td>\n",
       "      <td>7.238647</td>\n",
       "      <td>4.618329</td>\n",
       "      <td>-1.714096</td>\n",
       "      <td>-3.579236</td>\n",
       "      <td>-8.576690</td>\n",
       "      <td>-9.877300</td>\n",
       "      <td>-6.228374</td>\n",
       "      <td>-2.328395</td>\n",
       "      <td>...</td>\n",
       "      <td>0.002587</td>\n",
       "      <td>0.002321</td>\n",
       "      <td>0.002120</td>\n",
       "      <td>0.002077</td>\n",
       "      <td>0.002034</td>\n",
       "      <td>0.002162</td>\n",
       "      <td>0.002165</td>\n",
       "      <td>0.001842</td>\n",
       "      <td>1.849014e-03</td>\n",
>>>>>>> parent of 2d563d9 (55%)
       "      <td>surprised</td>\n",
       "    </tr>\n",
       "    <tr>\n",
       "      <th>2</th>\n",
<<<<<<< HEAD
       "      <td>-582.685486</td>\n",
       "      <td>-13.861852</td>\n",
       "      <td>-24.370552</td>\n",
       "      <td>-1.403817</td>\n",
       "      <td>-17.714478</td>\n",
       "      <td>-13.501724</td>\n",
       "      <td>-22.958916</td>\n",
       "      <td>-24.587143</td>\n",
       "      <td>-15.874348</td>\n",
       "      <td>-2.136194</td>\n",
       "      <td>...</td>\n",
       "      <td>0.003045</td>\n",
       "      <td>2.144882e-03</td>\n",
=======
       "      <td>-544.517212</td>\n",
       "      <td>52.048786</td>\n",
       "      <td>-9.206811</td>\n",
       "      <td>7.362798</td>\n",
       "      <td>-12.053159</td>\n",
       "      <td>-12.181351</td>\n",
       "      <td>-23.823946</td>\n",
       "      <td>-20.220573</td>\n",
       "      <td>-4.840364</td>\n",
       "      <td>-1.850617</td>\n",
       "      <td>...</td>\n",
       "      <td>0.000254</td>\n",
       "      <td>0.000243</td>\n",
       "      <td>0.000339</td>\n",
       "      <td>0.000260</td>\n",
       "      <td>0.000185</td>\n",
       "      <td>0.000143</td>\n",
       "      <td>0.000063</td>\n",
       "      <td>0.000014</td>\n",
       "      <td>1.361576e-06</td>\n",
       "      <td>surprised</td>\n",
       "    </tr>\n",
       "    <tr>\n",
       "      <th>3</th>\n",
       "      <td>-582.685486</td>\n",
       "      <td>-13.861852</td>\n",
       "      <td>-24.370552</td>\n",
       "      <td>-1.403817</td>\n",
       "      <td>-17.714478</td>\n",
       "      <td>-13.501724</td>\n",
       "      <td>-22.958916</td>\n",
       "      <td>-24.587143</td>\n",
       "      <td>-15.874348</td>\n",
       "      <td>-2.136194</td>\n",
       "      <td>...</td>\n",
       "      <td>0.003045</td>\n",
       "      <td>0.002145</td>\n",
>>>>>>> parent of 2d563d9 (55%)
       "      <td>0.001774</td>\n",
       "      <td>0.001669</td>\n",
       "      <td>0.001966</td>\n",
       "      <td>1.693892e-03</td>\n",
       "      <td>0.001574</td>\n",
       "      <td>0.000344</td>\n",
       "      <td>3.638589e-05</td>\n",
       "      <td>surprised</td>\n",
       "    </tr>\n",
       "    <tr>\n",
<<<<<<< HEAD
       "      <th>3</th>\n",
=======
       "      <th>4</th>\n",
>>>>>>> parent of 2d563d9 (55%)
       "      <td>-592.649109</td>\n",
       "      <td>67.523392</td>\n",
       "      <td>-4.463047</td>\n",
       "      <td>15.199685</td>\n",
       "      <td>-1.826691</td>\n",
       "      <td>-6.050766</td>\n",
       "      <td>-12.518244</td>\n",
       "      <td>-12.480824</td>\n",
       "      <td>-13.755399</td>\n",
       "      <td>1.120708</td>\n",
       "      <td>...</td>\n",
       "      <td>0.000009</td>\n",
<<<<<<< HEAD
       "      <td>6.031017e-06</td>\n",
=======
       "      <td>0.000006</td>\n",
>>>>>>> parent of 2d563d9 (55%)
       "      <td>0.000007</td>\n",
       "      <td>0.000010</td>\n",
       "      <td>0.000008</td>\n",
       "      <td>6.372401e-06</td>\n",
       "      <td>0.000006</td>\n",
       "      <td>0.000002</td>\n",
       "      <td>4.764982e-08</td>\n",
<<<<<<< HEAD
       "      <td>surprised</td>\n",
       "    </tr>\n",
       "    <tr>\n",
       "      <th>4</th>\n",
       "      <td>57.403811</td>\n",
       "      <td>-98.073084</td>\n",
       "      <td>26.251412</td>\n",
       "      <td>-16.099310</td>\n",
       "      <td>-0.569975</td>\n",
       "      <td>-21.891479</td>\n",
       "      <td>-2.223549</td>\n",
       "      <td>9.460541</td>\n",
       "      <td>43.312953</td>\n",
       "      <td>54.585534</td>\n",
       "      <td>...</td>\n",
       "      <td>995473.352637</td>\n",
       "      <td>2.024227e+06</td>\n",
       "      <td>0.079325</td>\n",
       "      <td>0.000433</td>\n",
       "      <td>26.398546</td>\n",
       "      <td>2.640420e+06</td>\n",
       "      <td>127111.687433</td>\n",
       "      <td>0.000121</td>\n",
       "      <td>1.788293e+04</td>\n",
=======
>>>>>>> parent of 2d563d9 (55%)
       "      <td>surprised</td>\n",
       "    </tr>\n",
       "  </tbody>\n",
       "</table>\n",
       "<p>5 rows × 152 columns</p>\n",
       "</div>"
      ],
      "text/plain": [
       "            0          1          2          3          4          5  \\\n",
       "0 -503.185974  57.042301  -8.313340  13.147138  -7.274663  -6.099257   \n",
<<<<<<< HEAD
       "1   29.912209 -99.705097  27.487908 -15.716419  -0.736366 -22.383708   \n",
       "2 -582.685486 -13.861852 -24.370552  -1.403817 -17.714478 -13.501724   \n",
       "3 -592.649109  67.523392  -4.463047  15.199685  -1.826691  -6.050766   \n",
       "4   57.403811 -98.073084  26.251412 -16.099310  -0.569975 -21.891479   \n",
       "\n",
       "           6          7          8          9  ...            142  \\\n",
       "0 -16.450794 -20.211823 -11.638207   0.479528  ...       0.000839   \n",
       "1  -1.618126  10.088343  43.293486  54.078932  ...  645433.349228   \n",
       "2 -22.958916 -24.587143 -15.874348  -2.136194  ...       0.003045   \n",
       "3 -12.518244 -12.480824 -13.755399   1.120708  ...       0.000009   \n",
       "4  -2.223549   9.460541  43.312953  54.585534  ...  995473.352637   \n",
       "\n",
       "            143       144       145        146           147            148  \\\n",
       "0  5.788149e-04  0.000471  0.000436   0.000508  4.320344e-04       0.000399   \n",
       "1  1.312445e+06  0.051437  0.000283  17.295957  1.729966e+06   83281.804426   \n",
       "2  2.144882e-03  0.001774  0.001669   0.001966  1.693892e-03       0.001574   \n",
       "3  6.031017e-06  0.000007  0.000010   0.000008  6.372401e-06       0.000006   \n",
       "4  2.024227e+06  0.079325  0.000433  26.398546  2.640420e+06  127111.687433   \n",
       "\n",
       "        149           150     labels  \n",
       "0  0.000087  9.128546e-06  surprised  \n",
       "1  0.000080  1.221729e+04  surprised  \n",
       "2  0.000344  3.638589e-05  surprised  \n",
       "3  0.000002  4.764982e-08  surprised  \n",
       "4  0.000121  1.788293e+04  surprised  \n",
=======
       "1 -279.354313  21.384784   7.238647   4.618329  -1.714096  -3.579236   \n",
       "2 -544.517212  52.048786  -9.206811   7.362798 -12.053159 -12.181351   \n",
       "3 -582.685486 -13.861852 -24.370552  -1.403817 -17.714478 -13.501724   \n",
       "4 -592.649109  67.523392  -4.463047  15.199685  -1.826691  -6.050766   \n",
       "\n",
       "           6          7          8         9  ...       142       143  \\\n",
       "0 -16.450794 -20.211823 -11.638207  0.479528  ...  0.000839  0.000579   \n",
       "1  -8.576690  -9.877300  -6.228374 -2.328395  ...  0.002587  0.002321   \n",
       "2 -23.823946 -20.220573  -4.840364 -1.850617  ...  0.000254  0.000243   \n",
       "3 -22.958916 -24.587143 -15.874348 -2.136194  ...  0.003045  0.002145   \n",
       "4 -12.518244 -12.480824 -13.755399  1.120708  ...  0.000009  0.000006   \n",
       "\n",
       "        144       145       146       147       148       149           150  \\\n",
       "0  0.000471  0.000436  0.000508  0.000432  0.000399  0.000087  9.128546e-06   \n",
       "1  0.002120  0.002077  0.002034  0.002162  0.002165  0.001842  1.849014e-03   \n",
       "2  0.000339  0.000260  0.000185  0.000143  0.000063  0.000014  1.361576e-06   \n",
       "3  0.001774  0.001669  0.001966  0.001694  0.001574  0.000344  3.638589e-05   \n",
       "4  0.000007  0.000010  0.000008  0.000006  0.000006  0.000002  4.764982e-08   \n",
       "\n",
       "      labels  \n",
       "0  surprised  \n",
       "1  surprised  \n",
       "2  surprised  \n",
       "3  surprised  \n",
       "4  surprised  \n",
>>>>>>> parent of 2d563d9 (55%)
       "\n",
       "[5 rows x 152 columns]"
      ]
     },
<<<<<<< HEAD
     "execution_count": 663,
=======
     "execution_count": 52,
>>>>>>> parent of 2d563d9 (55%)
     "metadata": {},
     "output_type": "execute_result"
    }
   ],
   "source": [
    "Features = pd.DataFrame(X)\n",
    "Features['labels'] = Y\n",
    "Features.to_csv('features.csv', index=False)\n",
    "Features.head()"
   ]
  },
  {
   "cell_type": "code",
<<<<<<< HEAD
   "execution_count": 664,
=======
   "execution_count": 53,
>>>>>>> parent of 2d563d9 (55%)
   "metadata": {},
   "outputs": [],
   "source": [
    "X = Features.iloc[: ,:-1].values\n",
    "Y = Features['labels'].values"
   ]
  },
  {
   "cell_type": "code",
<<<<<<< HEAD
   "execution_count": 665,
=======
   "execution_count": 54,
>>>>>>> parent of 2d563d9 (55%)
   "metadata": {},
   "outputs": [],
   "source": [
    "# As this is a multiclass classification problem onehotencoding our Y.\n",
    "encoder = OneHotEncoder()\n",
    "Y = encoder.fit_transform(np.array(Y).reshape(-1,1)).toarray()"
   ]
  },
  {
   "cell_type": "code",
<<<<<<< HEAD
   "execution_count": 666,
=======
   "execution_count": 55,
>>>>>>> parent of 2d563d9 (55%)
   "metadata": {},
   "outputs": [
    {
     "data": {
      "text/plain": [
<<<<<<< HEAD
       "((3105, 151), (3105, 8), (1035, 151), (1035, 8))"
      ]
     },
     "execution_count": 666,
=======
       "((4140, 151), (4140, 8), (1380, 151), (1380, 8))"
      ]
     },
     "execution_count": 55,
>>>>>>> parent of 2d563d9 (55%)
     "metadata": {},
     "output_type": "execute_result"
    }
   ],
   "source": [
    "# splitting data\n",
    "x_train, x_test, y_train, y_test = train_test_split(X, Y, random_state=0, shuffle=True)\n",
    "x_train.shape, y_train.shape, x_test.shape, y_test.shape"
   ]
  },
  {
   "cell_type": "code",
<<<<<<< HEAD
   "execution_count": 667,
=======
   "execution_count": 56,
>>>>>>> parent of 2d563d9 (55%)
   "metadata": {},
   "outputs": [
    {
     "data": {
      "text/plain": [
<<<<<<< HEAD
       "((3105, 151), (3105, 8), (1035, 151), (1035, 8))"
      ]
     },
     "execution_count": 667,
=======
       "((4140, 151), (4140, 8), (1380, 151), (1380, 8))"
      ]
     },
     "execution_count": 56,
>>>>>>> parent of 2d563d9 (55%)
     "metadata": {},
     "output_type": "execute_result"
    }
   ],
   "source": [
    "# scaling our data with sklearn's Standard scaler\n",
    "scaler = StandardScaler()\n",
    "x_train = scaler.fit_transform(x_train)\n",
    "x_test = scaler.transform(x_test)\n",
    "x_train.shape, y_train.shape, x_test.shape, y_test.shape"
   ]
  },
  {
   "cell_type": "code",
<<<<<<< HEAD
   "execution_count": 668,
=======
   "execution_count": 57,
>>>>>>> parent of 2d563d9 (55%)
   "metadata": {},
   "outputs": [
    {
     "data": {
      "text/plain": [
<<<<<<< HEAD
       "((3105, 151, 1), (3105, 8), (1035, 151, 1), (1035, 8))"
      ]
     },
     "execution_count": 668,
=======
       "((4140, 151, 1), (4140, 8), (1380, 151, 1), (1380, 8))"
      ]
     },
     "execution_count": 57,
>>>>>>> parent of 2d563d9 (55%)
     "metadata": {},
     "output_type": "execute_result"
    }
   ],
   "source": [
    "# making our data compatible to model.\n",
    "x_train = np.expand_dims(x_train, axis=2)\n",
    "x_test = np.expand_dims(x_test, axis=2)\n",
    "x_train.shape, y_train.shape, x_test.shape, y_test.shape"
   ]
  },
  {
   "cell_type": "code",
<<<<<<< HEAD
   "execution_count": 669,
=======
   "execution_count": 60,
>>>>>>> parent of 2d563d9 (55%)
   "metadata": {},
   "outputs": [
    {
     "name": "stdout",
     "output_type": "stream",
     "text": [
      "Model: \"sequential_15\"\n",
      "_________________________________________________________________\n",
      " Layer (type)                Output Shape              Param #   \n",
      "=================================================================\n",
<<<<<<< HEAD
      " conv1d_60 (Conv1D)          (None, 151, 256)          1536      \n",
      "                                                                 \n",
      " max_pooling1d_60 (MaxPoolin  (None, 76, 256)          0         \n",
      " g1D)                                                            \n",
      "                                                                 \n",
      " conv1d_61 (Conv1D)          (None, 76, 256)           327936    \n",
      "                                                                 \n",
      " max_pooling1d_61 (MaxPoolin  (None, 38, 256)          0         \n",
      " g1D)                                                            \n",
      "                                                                 \n",
      " conv1d_62 (Conv1D)          (None, 38, 128)           163968    \n",
      "                                                                 \n",
      " max_pooling1d_62 (MaxPoolin  (None, 19, 128)          0         \n",
      " g1D)                                                            \n",
      "                                                                 \n",
      " dropout_30 (Dropout)        (None, 19, 128)           0         \n",
      "                                                                 \n",
      " conv1d_63 (Conv1D)          (None, 19, 64)            41024     \n",
      "                                                                 \n",
      " max_pooling1d_63 (MaxPoolin  (None, 10, 64)           0         \n",
      " g1D)                                                            \n",
      "                                                                 \n",
      " flatten_16 (Flatten)        (None, 640)               0         \n",
      "                                                                 \n",
      " dense_30 (Dense)            (None, 32)                20512     \n",
      "                                                                 \n",
      " dropout_31 (Dropout)        (None, 32)                0         \n",
      "                                                                 \n",
      " flatten_17 (Flatten)        (None, 32)                0         \n",
      "                                                                 \n",
      " dense_31 (Dense)            (None, 8)                 264       \n",
=======
      " conv1d (Conv1D)             (None, 151, 256)          1536      \n",
      "                                                                 \n",
      " max_pooling1d (MaxPooling1D  (None, 76, 256)          0         \n",
      " )                                                               \n",
      "                                                                 \n",
      " conv1d_1 (Conv1D)           (None, 76, 256)           327936    \n",
      "                                                                 \n",
      " max_pooling1d_1 (MaxPooling  (None, 38, 256)          0         \n",
      " 1D)                                                             \n",
      "                                                                 \n",
      " conv1d_2 (Conv1D)           (None, 38, 128)           163968    \n",
      "                                                                 \n",
      " max_pooling1d_2 (MaxPooling  (None, 19, 128)          0         \n",
      " 1D)                                                             \n",
      "                                                                 \n",
      " dropout (Dropout)           (None, 19, 128)           0         \n",
      "                                                                 \n",
      " conv1d_3 (Conv1D)           (None, 19, 64)            41024     \n",
      "                                                                 \n",
      " max_pooling1d_3 (MaxPooling  (None, 10, 64)           0         \n",
      " 1D)                                                             \n",
      "                                                                 \n",
      " flatten (Flatten)           (None, 640)               0         \n",
      "                                                                 \n",
      " dense (Dense)               (None, 32)                20512     \n",
      "                                                                 \n",
      " dropout_1 (Dropout)         (None, 32)                0         \n",
      "                                                                 \n",
      " flatten_1 (Flatten)         (None, 32)                0         \n",
      "                                                                 \n",
      " dense_1 (Dense)             (None, 8)                 264       \n",
>>>>>>> parent of 2d563d9 (55%)
      "                                                                 \n",
      "=================================================================\n",
      "Total params: 555,240\n",
      "Trainable params: 555,240\n",
      "Non-trainable params: 0\n",
      "_________________________________________________________________\n"
     ]
    }
   ],
   "source": [
    "model=Sequential()\n",
    "model.add(Conv1D(256, kernel_size=5, strides=1, padding='same', activation='relu', input_shape=(x_train.shape[1], 1)))\n",
    "model.add(MaxPooling1D(pool_size=5, strides = 2, padding = 'same'))\n",
    "\n",
    "model.add(Conv1D(256, kernel_size=5, strides=1, padding='same', activation='relu'))\n",
    "model.add(MaxPooling1D(pool_size=5, strides = 2, padding = 'same'))\n",
    "\n",
    "model.add(Conv1D(128, kernel_size=5, strides=1, padding='same', activation='relu'))\n",
    "model.add(MaxPooling1D(pool_size=5, strides = 2, padding = 'same'))\n",
    "model.add(Dropout(0.2))\n",
    "\n",
    "model.add(Conv1D(64, kernel_size=5, strides=1, padding='same', activation='relu'))\n",
    "model.add(MaxPooling1D(pool_size=5, strides = 2, padding = 'same'))\n",
    "\n",
    "model.add(Flatten())\n",
    "model.add(Dense(units=32, activation='relu'))\n",
    "model.add(Dropout(0.3))\n",
    "\n",
    "model.add(Flatten())\n",
    "model.add(Dense(units=8, activation='softmax'))\n",
    "model.compile(optimizer = 'adam' , loss = 'categorical_crossentropy' , metrics = ['accuracy'])\n",
    "\n",
    "model.summary()"
   ]
  },
  {
   "cell_type": "markdown",
   "metadata": {},
   "source": []
  },
  {
   "cell_type": "code",
<<<<<<< HEAD
   "execution_count": 670,
=======
   "execution_count": 63,
>>>>>>> parent of 2d563d9 (55%)
   "metadata": {},
   "outputs": [
    {
     "name": "stdout",
     "output_type": "stream",
     "text": [
      "Epoch 1/50\n",
<<<<<<< HEAD
      "49/49 [==============================] - 5s 92ms/step - loss: 2.0551 - accuracy: 0.1588 - val_loss: 2.0307 - val_accuracy: 0.1816 - lr: 0.0010\n",
      "Epoch 2/50\n",
      "49/49 [==============================] - 5s 95ms/step - loss: 2.0050 - accuracy: 0.1749 - val_loss: 2.0058 - val_accuracy: 0.2106 - lr: 0.0010\n",
      "Epoch 3/50\n",
      "49/49 [==============================] - 5s 97ms/step - loss: 1.9732 - accuracy: 0.2100 - val_loss: 1.9531 - val_accuracy: 0.2164 - lr: 0.0010\n",
      "Epoch 4/50\n",
      "49/49 [==============================] - 5s 93ms/step - loss: 1.9173 - accuracy: 0.2377 - val_loss: 1.9121 - val_accuracy: 0.2589 - lr: 0.0010\n",
      "Epoch 5/50\n",
      "49/49 [==============================] - 5s 95ms/step - loss: 1.8730 - accuracy: 0.2541 - val_loss: 1.8569 - val_accuracy: 0.2638 - lr: 0.0010\n",
      "Epoch 6/50\n",
      "49/49 [==============================] - 5s 98ms/step - loss: 1.8482 - accuracy: 0.2557 - val_loss: 1.8436 - val_accuracy: 0.2560 - lr: 0.0010\n",
      "Epoch 7/50\n",
      "49/49 [==============================] - 5s 95ms/step - loss: 1.8049 - accuracy: 0.2876 - val_loss: 1.8180 - val_accuracy: 0.2899 - lr: 0.0010\n",
      "Epoch 8/50\n",
      "49/49 [==============================] - 5s 95ms/step - loss: 1.7842 - accuracy: 0.2834 - val_loss: 1.7883 - val_accuracy: 0.2899 - lr: 0.0010\n",
      "Epoch 9/50\n",
      "49/49 [==============================] - 5s 95ms/step - loss: 1.7588 - accuracy: 0.3037 - val_loss: 1.7377 - val_accuracy: 0.3082 - lr: 0.0010\n",
      "Epoch 10/50\n",
      "49/49 [==============================] - 5s 96ms/step - loss: 1.7291 - accuracy: 0.3121 - val_loss: 1.7571 - val_accuracy: 0.3005 - lr: 0.0010\n",
      "Epoch 11/50\n",
      "49/49 [==============================] - 5s 96ms/step - loss: 1.7080 - accuracy: 0.3314 - val_loss: 1.7069 - val_accuracy: 0.3140 - lr: 0.0010\n",
      "Epoch 12/50\n",
      "49/49 [==============================] - 5s 94ms/step - loss: 1.6819 - accuracy: 0.3291 - val_loss: 1.6760 - val_accuracy: 0.3333 - lr: 0.0010\n",
      "Epoch 13/50\n",
      "49/49 [==============================] - 5s 96ms/step - loss: 1.6787 - accuracy: 0.3378 - val_loss: 1.6994 - val_accuracy: 0.3179 - lr: 0.0010\n",
      "Epoch 14/50\n",
      "49/49 [==============================] - 5s 95ms/step - loss: 1.6535 - accuracy: 0.3362 - val_loss: 1.6607 - val_accuracy: 0.3401 - lr: 0.0010\n",
      "Epoch 15/50\n",
      "49/49 [==============================] - 5s 101ms/step - loss: 1.6359 - accuracy: 0.3481 - val_loss: 1.6715 - val_accuracy: 0.3372 - lr: 0.0010\n",
      "Epoch 16/50\n",
      "49/49 [==============================] - 5s 98ms/step - loss: 1.6101 - accuracy: 0.3652 - val_loss: 1.6438 - val_accuracy: 0.3372 - lr: 0.0010\n",
      "Epoch 17/50\n",
      "49/49 [==============================] - 5s 99ms/step - loss: 1.6020 - accuracy: 0.3829 - val_loss: 1.6439 - val_accuracy: 0.3478 - lr: 0.0010\n",
      "Epoch 18/50\n",
      "49/49 [==============================] - 5s 99ms/step - loss: 1.5834 - accuracy: 0.3787 - val_loss: 1.6178 - val_accuracy: 0.3594 - lr: 0.0010\n",
      "Epoch 19/50\n",
      "49/49 [==============================] - 5s 97ms/step - loss: 1.5837 - accuracy: 0.3768 - val_loss: 1.6227 - val_accuracy: 0.3546 - lr: 0.0010\n",
      "Epoch 20/50\n",
      "49/49 [==============================] - 5s 97ms/step - loss: 1.5602 - accuracy: 0.3884 - val_loss: 1.6398 - val_accuracy: 0.3401 - lr: 0.0010\n",
      "Epoch 21/50\n",
      "49/49 [==============================] - 5s 97ms/step - loss: 1.5394 - accuracy: 0.3929 - val_loss: 1.5825 - val_accuracy: 0.3845 - lr: 0.0010\n",
      "Epoch 22/50\n",
      "49/49 [==============================] - 5s 97ms/step - loss: 1.5029 - accuracy: 0.4132 - val_loss: 1.5836 - val_accuracy: 0.3739 - lr: 0.0010\n",
      "Epoch 23/50\n",
      "49/49 [==============================] - 5s 104ms/step - loss: 1.5058 - accuracy: 0.4097 - val_loss: 1.6220 - val_accuracy: 0.3517 - lr: 0.0010\n",
      "Epoch 24/50\n",
      "49/49 [==============================] - 5s 96ms/step - loss: 1.4948 - accuracy: 0.4093 - val_loss: 1.6096 - val_accuracy: 0.3652 - lr: 0.0010\n",
      "Epoch 25/50\n",
      "49/49 [==============================] - 5s 98ms/step - loss: 1.4755 - accuracy: 0.4258 - val_loss: 1.5720 - val_accuracy: 0.3749 - lr: 0.0010\n",
      "Epoch 26/50\n",
      "49/49 [==============================] - 5s 97ms/step - loss: 1.4676 - accuracy: 0.4419 - val_loss: 1.5861 - val_accuracy: 0.3845 - lr: 0.0010\n",
      "Epoch 27/50\n",
      "49/49 [==============================] - 5s 97ms/step - loss: 1.4539 - accuracy: 0.4393 - val_loss: 1.5680 - val_accuracy: 0.3845 - lr: 0.0010\n",
      "Epoch 28/50\n",
      "49/49 [==============================] - 5s 96ms/step - loss: 1.4267 - accuracy: 0.4509 - val_loss: 1.5309 - val_accuracy: 0.3952 - lr: 0.0010\n",
      "Epoch 29/50\n",
      "49/49 [==============================] - 5s 95ms/step - loss: 1.4257 - accuracy: 0.4528 - val_loss: 1.5302 - val_accuracy: 0.4087 - lr: 0.0010\n",
      "Epoch 30/50\n",
      "49/49 [==============================] - 5s 97ms/step - loss: 1.3841 - accuracy: 0.4651 - val_loss: 1.5279 - val_accuracy: 0.3807 - lr: 0.0010\n",
      "Epoch 31/50\n",
      "49/49 [==============================] - 5s 97ms/step - loss: 1.3997 - accuracy: 0.4525 - val_loss: 1.5483 - val_accuracy: 0.3981 - lr: 0.0010\n",
      "Epoch 32/50\n",
      "49/49 [==============================] - 5s 106ms/step - loss: 1.3707 - accuracy: 0.4831 - val_loss: 1.5411 - val_accuracy: 0.4010 - lr: 0.0010\n",
      "Epoch 33/50\n",
      "49/49 [==============================] - 6s 119ms/step - loss: 1.3449 - accuracy: 0.4837 - val_loss: 1.5119 - val_accuracy: 0.4000 - lr: 0.0010\n",
      "Epoch 34/50\n",
      "49/49 [==============================] - 5s 100ms/step - loss: 1.3120 - accuracy: 0.4792 - val_loss: 1.5244 - val_accuracy: 0.4145 - lr: 0.0010\n",
      "Epoch 35/50\n",
      "49/49 [==============================] - 5s 107ms/step - loss: 1.3049 - accuracy: 0.4860 - val_loss: 1.5233 - val_accuracy: 0.4329 - lr: 0.0010\n",
      "Epoch 36/50\n",
      "49/49 [==============================] - 5s 94ms/step - loss: 1.3053 - accuracy: 0.4937 - val_loss: 1.5682 - val_accuracy: 0.4155 - lr: 0.0010\n",
      "Epoch 37/50\n",
      "49/49 [==============================] - 5s 96ms/step - loss: 1.2973 - accuracy: 0.4966 - val_loss: 1.4870 - val_accuracy: 0.4377 - lr: 0.0010\n",
      "Epoch 38/50\n",
      "49/49 [==============================] - 5s 95ms/step - loss: 1.2704 - accuracy: 0.5092 - val_loss: 1.4759 - val_accuracy: 0.4464 - lr: 0.0010\n",
      "Epoch 39/50\n",
      "49/49 [==============================] - 4s 90ms/step - loss: 1.2508 - accuracy: 0.5237 - val_loss: 1.5648 - val_accuracy: 0.4097 - lr: 0.0010\n",
      "Epoch 40/50\n",
      "49/49 [==============================] - 5s 95ms/step - loss: 1.2388 - accuracy: 0.5156 - val_loss: 1.5239 - val_accuracy: 0.4174 - lr: 0.0010\n",
      "Epoch 41/50\n",
      "49/49 [==============================] - 4s 91ms/step - loss: 1.2438 - accuracy: 0.5233 - val_loss: 1.5097 - val_accuracy: 0.4174 - lr: 0.0010\n",
      "Epoch 42/50\n",
      "49/49 [==============================] - 5s 93ms/step - loss: 1.2260 - accuracy: 0.5282 - val_loss: 1.5700 - val_accuracy: 0.4406 - lr: 0.0010\n",
      "Epoch 43/50\n",
      "49/49 [==============================] - 5s 94ms/step - loss: 1.1894 - accuracy: 0.5301 - val_loss: 1.4599 - val_accuracy: 0.4473 - lr: 0.0010\n",
      "Epoch 44/50\n",
      "49/49 [==============================] - 5s 93ms/step - loss: 1.2078 - accuracy: 0.5404 - val_loss: 1.5162 - val_accuracy: 0.4174 - lr: 0.0010\n",
      "Epoch 45/50\n",
      "49/49 [==============================] - 4s 91ms/step - loss: 1.1636 - accuracy: 0.5491 - val_loss: 1.4942 - val_accuracy: 0.4386 - lr: 0.0010\n",
      "Epoch 46/50\n",
      "49/49 [==============================] - 5s 94ms/step - loss: 1.1674 - accuracy: 0.5488 - val_loss: 1.5146 - val_accuracy: 0.4415 - lr: 0.0010\n",
      "Epoch 47/50\n",
      "49/49 [==============================] - 5s 96ms/step - loss: 1.1362 - accuracy: 0.5630 - val_loss: 1.5173 - val_accuracy: 0.4599 - lr: 0.0010\n",
      "Epoch 48/50\n",
      "49/49 [==============================] - 4s 91ms/step - loss: 1.1026 - accuracy: 0.5694 - val_loss: 1.4993 - val_accuracy: 0.4560 - lr: 0.0010\n",
      "Epoch 49/50\n",
      "49/49 [==============================] - 5s 92ms/step - loss: 1.1083 - accuracy: 0.5742 - val_loss: 1.5262 - val_accuracy: 0.4667 - lr: 0.0010\n",
      "Epoch 50/50\n",
      "49/49 [==============================] - 5s 93ms/step - loss: 1.1139 - accuracy: 0.5826 - val_loss: 1.5406 - val_accuracy: 0.4512 - lr: 0.0010\n"
=======
      "65/65 [==============================] - 8s 100ms/step - loss: 1.9900 - accuracy: 0.1947 - val_loss: 1.9713 - val_accuracy: 0.1862 - lr: 0.0010\n",
      "Epoch 2/50\n",
      "65/65 [==============================] - 6s 90ms/step - loss: 1.9278 - accuracy: 0.2304 - val_loss: 1.8704 - val_accuracy: 0.2891 - lr: 0.0010\n",
      "Epoch 3/50\n",
      "65/65 [==============================] - 6s 99ms/step - loss: 1.8844 - accuracy: 0.2486 - val_loss: 1.8264 - val_accuracy: 0.2899 - lr: 0.0010\n",
      "Epoch 4/50\n",
      "65/65 [==============================] - 7s 102ms/step - loss: 1.8486 - accuracy: 0.2534 - val_loss: 1.7915 - val_accuracy: 0.3138 - lr: 0.0010\n",
      "Epoch 5/50\n",
      "65/65 [==============================] - 7s 110ms/step - loss: 1.8151 - accuracy: 0.2693 - val_loss: 1.7691 - val_accuracy: 0.3181 - lr: 0.0010\n",
      "Epoch 6/50\n",
      "65/65 [==============================] - 7s 101ms/step - loss: 1.8099 - accuracy: 0.2838 - val_loss: 1.7543 - val_accuracy: 0.3290 - lr: 0.0010\n",
      "Epoch 7/50\n",
      "65/65 [==============================] - 7s 112ms/step - loss: 1.7756 - accuracy: 0.2928 - val_loss: 1.7387 - val_accuracy: 0.3348 - lr: 0.0010\n",
      "Epoch 8/50\n",
      "65/65 [==============================] - 7s 113ms/step - loss: 1.7355 - accuracy: 0.3060 - val_loss: 1.7187 - val_accuracy: 0.3159 - lr: 0.0010\n",
      "Epoch 9/50\n",
      "65/65 [==============================] - 6s 99ms/step - loss: 1.7152 - accuracy: 0.3220 - val_loss: 1.6865 - val_accuracy: 0.3681 - lr: 0.0010\n",
      "Epoch 10/50\n",
      "65/65 [==============================] - 6s 97ms/step - loss: 1.6871 - accuracy: 0.3428 - val_loss: 1.6479 - val_accuracy: 0.3399 - lr: 0.0010\n",
      "Epoch 11/50\n",
      "65/65 [==============================] - 6s 98ms/step - loss: 1.6690 - accuracy: 0.3500 - val_loss: 1.6188 - val_accuracy: 0.3652 - lr: 0.0010\n",
      "Epoch 12/50\n",
      "65/65 [==============================] - 6s 92ms/step - loss: 1.6271 - accuracy: 0.3577 - val_loss: 1.6110 - val_accuracy: 0.3659 - lr: 0.0010\n",
      "Epoch 13/50\n",
      "65/65 [==============================] - 6s 92ms/step - loss: 1.5996 - accuracy: 0.3727 - val_loss: 1.5904 - val_accuracy: 0.3928 - lr: 0.0010\n",
      "Epoch 14/50\n",
      "65/65 [==============================] - 7s 102ms/step - loss: 1.5517 - accuracy: 0.3928 - val_loss: 1.5391 - val_accuracy: 0.3971 - lr: 0.0010\n",
      "Epoch 15/50\n",
      "65/65 [==============================] - 8s 123ms/step - loss: 1.5393 - accuracy: 0.4024 - val_loss: 1.5665 - val_accuracy: 0.4036 - lr: 0.0010\n",
      "Epoch 16/50\n",
      "65/65 [==============================] - 7s 107ms/step - loss: 1.5019 - accuracy: 0.4229 - val_loss: 1.4886 - val_accuracy: 0.4217 - lr: 0.0010\n",
      "Epoch 17/50\n",
      "65/65 [==============================] - 6s 96ms/step - loss: 1.4682 - accuracy: 0.4316 - val_loss: 1.4686 - val_accuracy: 0.4370 - lr: 0.0010\n",
      "Epoch 18/50\n",
      "65/65 [==============================] - 6s 93ms/step - loss: 1.4461 - accuracy: 0.4399 - val_loss: 1.5589 - val_accuracy: 0.3986 - lr: 0.0010\n",
      "Epoch 19/50\n",
      "65/65 [==============================] - 6s 95ms/step - loss: 1.4196 - accuracy: 0.4512 - val_loss: 1.4369 - val_accuracy: 0.4500 - lr: 0.0010\n",
      "Epoch 20/50\n",
      "65/65 [==============================] - 6s 91ms/step - loss: 1.3809 - accuracy: 0.4727 - val_loss: 1.4685 - val_accuracy: 0.4428 - lr: 0.0010\n",
      "Epoch 21/50\n",
      "65/65 [==============================] - 6s 91ms/step - loss: 1.3395 - accuracy: 0.4879 - val_loss: 1.4310 - val_accuracy: 0.4652 - lr: 0.0010\n",
      "Epoch 22/50\n",
      "65/65 [==============================] - 6s 96ms/step - loss: 1.3126 - accuracy: 0.5012 - val_loss: 1.4038 - val_accuracy: 0.4732 - lr: 0.0010\n",
      "Epoch 23/50\n",
      "65/65 [==============================] - 6s 96ms/step - loss: 1.2711 - accuracy: 0.5196 - val_loss: 1.4139 - val_accuracy: 0.4667 - lr: 0.0010\n",
      "Epoch 24/50\n",
      "65/65 [==============================] - 6s 94ms/step - loss: 1.2415 - accuracy: 0.5355 - val_loss: 1.4671 - val_accuracy: 0.4696 - lr: 0.0010\n",
      "Epoch 25/50\n",
      "65/65 [==============================] - 6s 92ms/step - loss: 1.2177 - accuracy: 0.5377 - val_loss: 1.3886 - val_accuracy: 0.4862 - lr: 0.0010\n",
      "Epoch 26/50\n",
      "65/65 [==============================] - 6s 93ms/step - loss: 1.1934 - accuracy: 0.5440 - val_loss: 1.4085 - val_accuracy: 0.4761 - lr: 0.0010\n",
      "Epoch 27/50\n",
      "65/65 [==============================] - 6s 93ms/step - loss: 1.1767 - accuracy: 0.5635 - val_loss: 1.3699 - val_accuracy: 0.4906 - lr: 0.0010\n",
      "Epoch 28/50\n",
      "65/65 [==============================] - 6s 96ms/step - loss: 1.1255 - accuracy: 0.5744 - val_loss: 1.3762 - val_accuracy: 0.4935 - lr: 0.0010\n",
      "Epoch 29/50\n",
      "65/65 [==============================] - 6s 95ms/step - loss: 1.1158 - accuracy: 0.5773 - val_loss: 1.3462 - val_accuracy: 0.5051 - lr: 0.0010\n",
      "Epoch 30/50\n",
      "65/65 [==============================] - 6s 91ms/step - loss: 1.0580 - accuracy: 0.6039 - val_loss: 1.4044 - val_accuracy: 0.5072 - lr: 0.0010\n",
      "Epoch 31/50\n",
      "65/65 [==============================] - 6s 93ms/step - loss: 1.0326 - accuracy: 0.6196 - val_loss: 1.3644 - val_accuracy: 0.5217 - lr: 0.0010\n",
      "Epoch 32/50\n",
      "65/65 [==============================] - 6s 91ms/step - loss: 1.0218 - accuracy: 0.6203 - val_loss: 1.3913 - val_accuracy: 0.5159 - lr: 0.0010\n",
      "Epoch 33/50\n",
      "65/65 [==============================] - 6s 93ms/step - loss: 0.9625 - accuracy: 0.6374 - val_loss: 1.3456 - val_accuracy: 0.5449 - lr: 0.0010\n",
      "Epoch 34/50\n",
      "65/65 [==============================] - 6s 93ms/step - loss: 0.9467 - accuracy: 0.6476 - val_loss: 1.3178 - val_accuracy: 0.5420 - lr: 0.0010\n",
      "Epoch 35/50\n",
      "65/65 [==============================] - 6s 92ms/step - loss: 0.9282 - accuracy: 0.6575 - val_loss: 1.3887 - val_accuracy: 0.5210 - lr: 0.0010\n",
      "Epoch 36/50\n",
      "65/65 [==============================] - 6s 92ms/step - loss: 0.8935 - accuracy: 0.6630 - val_loss: 1.3070 - val_accuracy: 0.5529 - lr: 0.0010\n",
      "Epoch 37/50\n",
      "65/65 [==============================] - 6s 100ms/step - loss: 0.8540 - accuracy: 0.6797 - val_loss: 1.3894 - val_accuracy: 0.5391 - lr: 0.0010\n",
      "Epoch 38/50\n",
      "65/65 [==============================] - 7s 103ms/step - loss: 0.8431 - accuracy: 0.6882 - val_loss: 1.4215 - val_accuracy: 0.5304 - lr: 0.0010\n",
      "Epoch 39/50\n",
      "65/65 [==============================] - 7s 108ms/step - loss: 0.8073 - accuracy: 0.7036 - val_loss: 1.3857 - val_accuracy: 0.5652 - lr: 0.0010\n",
      "Epoch 40/50\n",
      "65/65 [==============================] - 7s 102ms/step - loss: 0.7852 - accuracy: 0.7056 - val_loss: 1.4660 - val_accuracy: 0.5348 - lr: 0.0010\n",
      "Epoch 41/50\n",
      "65/65 [==============================] - 6s 93ms/step - loss: 0.7778 - accuracy: 0.7169 - val_loss: 1.4051 - val_accuracy: 0.5413 - lr: 0.0010\n",
      "Epoch 42/50\n",
      "65/65 [==============================] - 6s 96ms/step - loss: 0.7537 - accuracy: 0.7225 - val_loss: 1.3668 - val_accuracy: 0.5319 - lr: 0.0010\n",
      "Epoch 43/50\n",
      "65/65 [==============================] - 6s 94ms/step - loss: 0.7108 - accuracy: 0.7415 - val_loss: 1.3975 - val_accuracy: 0.5667 - lr: 0.0010\n",
      "Epoch 44/50\n",
      "65/65 [==============================] - 7s 101ms/step - loss: 0.6801 - accuracy: 0.7517 - val_loss: 1.4085 - val_accuracy: 0.5630 - lr: 0.0010\n",
      "Epoch 45/50\n",
      "65/65 [==============================] - 6s 95ms/step - loss: 0.6971 - accuracy: 0.7420 - val_loss: 1.5097 - val_accuracy: 0.5616 - lr: 0.0010\n",
      "Epoch 46/50\n",
      "65/65 [==============================] - 6s 96ms/step - loss: 0.6758 - accuracy: 0.7570 - val_loss: 1.4551 - val_accuracy: 0.5681 - lr: 0.0010\n",
      "Epoch 47/50\n",
      "65/65 [==============================] - 6s 98ms/step - loss: 0.6295 - accuracy: 0.7744 - val_loss: 1.4343 - val_accuracy: 0.5457 - lr: 0.0010\n",
      "Epoch 48/50\n",
      "65/65 [==============================] - 6s 94ms/step - loss: 0.5911 - accuracy: 0.7879 - val_loss: 1.5480 - val_accuracy: 0.5609 - lr: 0.0010\n",
      "Epoch 49/50\n",
      "65/65 [==============================] - 6s 90ms/step - loss: 0.6001 - accuracy: 0.7780 - val_loss: 1.6511 - val_accuracy: 0.5551 - lr: 0.0010\n",
      "Epoch 50/50\n",
      "65/65 [==============================] - 6s 94ms/step - loss: 0.5815 - accuracy: 0.7906 - val_loss: 1.5637 - val_accuracy: 0.5710 - lr: 0.0010\n"
>>>>>>> parent of 2d563d9 (55%)
     ]
    }
   ],
   "source": [
    "rlrp = ReduceLROnPlateau(monitor='loss', factor=0.4, verbose=0, patience=2, min_lr=0.0000001)\n",
    "history=model.fit(x_train, y_train, batch_size=64, epochs=50, validation_data=(x_test, y_test), callbacks=[rlrp])"
   ]
  },
  {
   "cell_type": "code",
<<<<<<< HEAD
   "execution_count": 678,
=======
   "execution_count": 64,
>>>>>>> parent of 2d563d9 (55%)
   "metadata": {},
   "outputs": [
    {
     "data": {
      "text/plain": [
<<<<<<< HEAD
       "(1035, 1)"
      ]
     },
     "execution_count": 678,
=======
       "(1380, 8)"
      ]
     },
     "execution_count": 64,
>>>>>>> parent of 2d563d9 (55%)
     "metadata": {},
     "output_type": "execute_result"
    }
   ],
   "source": [
    "y_test.shape"
   ]
  },
  {
   "cell_type": "code",
<<<<<<< HEAD
   "execution_count": 655,
=======
   "execution_count": 65,
>>>>>>> parent of 2d563d9 (55%)
   "metadata": {},
   "outputs": [
    {
     "name": "stdout",
     "output_type": "stream",
     "text": [
<<<<<<< HEAD
      "33/33 [==============================] - 0s 11ms/step - loss: 1.7713 - accuracy: 0.2908\n",
      "Accuracy of our model on test data :  29.082125425338745 %\n"
     ]
    },
    {
     "ename": "ValueError",
     "evalue": "x and y must have same first dimension, but have shapes (50,) and (10,)",
     "output_type": "error",
     "traceback": [
      "\u001b[0;31m---------------------------------------------------------------------------\u001b[0m",
      "\u001b[0;31mValueError\u001b[0m                                Traceback (most recent call last)",
      "\u001b[0;32m/var/folders/m3/ywsrz7k170vbk8511l1h_6840000gn/T/ipykernel_10403/2878951498.py\u001b[0m in \u001b[0;36m<module>\u001b[0;34m\u001b[0m\n\u001b[1;32m      9\u001b[0m \u001b[0;34m\u001b[0m\u001b[0m\n\u001b[1;32m     10\u001b[0m \u001b[0mfig\u001b[0m\u001b[0;34m.\u001b[0m\u001b[0mset_size_inches\u001b[0m\u001b[0;34m(\u001b[0m\u001b[0;36m20\u001b[0m\u001b[0;34m,\u001b[0m\u001b[0;36m6\u001b[0m\u001b[0;34m)\u001b[0m\u001b[0;34m\u001b[0m\u001b[0;34m\u001b[0m\u001b[0m\n\u001b[0;32m---> 11\u001b[0;31m \u001b[0max\u001b[0m\u001b[0;34m[\u001b[0m\u001b[0;36m0\u001b[0m\u001b[0;34m]\u001b[0m\u001b[0;34m.\u001b[0m\u001b[0mplot\u001b[0m\u001b[0;34m(\u001b[0m\u001b[0mepochs\u001b[0m \u001b[0;34m,\u001b[0m \u001b[0mtrain_loss\u001b[0m \u001b[0;34m,\u001b[0m \u001b[0mlabel\u001b[0m \u001b[0;34m=\u001b[0m \u001b[0;34m'Training Loss'\u001b[0m\u001b[0;34m)\u001b[0m\u001b[0;34m\u001b[0m\u001b[0;34m\u001b[0m\u001b[0m\n\u001b[0m\u001b[1;32m     12\u001b[0m \u001b[0max\u001b[0m\u001b[0;34m[\u001b[0m\u001b[0;36m0\u001b[0m\u001b[0;34m]\u001b[0m\u001b[0;34m.\u001b[0m\u001b[0mplot\u001b[0m\u001b[0;34m(\u001b[0m\u001b[0mepochs\u001b[0m \u001b[0;34m,\u001b[0m \u001b[0mtest_loss\u001b[0m \u001b[0;34m,\u001b[0m \u001b[0mlabel\u001b[0m \u001b[0;34m=\u001b[0m \u001b[0;34m'Testing Loss'\u001b[0m\u001b[0;34m)\u001b[0m\u001b[0;34m\u001b[0m\u001b[0;34m\u001b[0m\u001b[0m\n\u001b[1;32m     13\u001b[0m \u001b[0max\u001b[0m\u001b[0;34m[\u001b[0m\u001b[0;36m0\u001b[0m\u001b[0;34m]\u001b[0m\u001b[0;34m.\u001b[0m\u001b[0mset_title\u001b[0m\u001b[0;34m(\u001b[0m\u001b[0;34m'Training & Testing Loss'\u001b[0m\u001b[0;34m)\u001b[0m\u001b[0;34m\u001b[0m\u001b[0;34m\u001b[0m\u001b[0m\n",
      "\u001b[0;32m~/opt/anaconda3/envs/torch_env/lib/python3.9/site-packages/matplotlib/axes/_axes.py\u001b[0m in \u001b[0;36mplot\u001b[0;34m(self, scalex, scaley, data, *args, **kwargs)\u001b[0m\n\u001b[1;32m   1603\u001b[0m         \"\"\"\n\u001b[1;32m   1604\u001b[0m         \u001b[0mkwargs\u001b[0m \u001b[0;34m=\u001b[0m \u001b[0mcbook\u001b[0m\u001b[0;34m.\u001b[0m\u001b[0mnormalize_kwargs\u001b[0m\u001b[0;34m(\u001b[0m\u001b[0mkwargs\u001b[0m\u001b[0;34m,\u001b[0m \u001b[0mmlines\u001b[0m\u001b[0;34m.\u001b[0m\u001b[0mLine2D\u001b[0m\u001b[0;34m)\u001b[0m\u001b[0;34m\u001b[0m\u001b[0;34m\u001b[0m\u001b[0m\n\u001b[0;32m-> 1605\u001b[0;31m         \u001b[0mlines\u001b[0m \u001b[0;34m=\u001b[0m \u001b[0;34m[\u001b[0m\u001b[0;34m*\u001b[0m\u001b[0mself\u001b[0m\u001b[0;34m.\u001b[0m\u001b[0m_get_lines\u001b[0m\u001b[0;34m(\u001b[0m\u001b[0;34m*\u001b[0m\u001b[0margs\u001b[0m\u001b[0;34m,\u001b[0m \u001b[0mdata\u001b[0m\u001b[0;34m=\u001b[0m\u001b[0mdata\u001b[0m\u001b[0;34m,\u001b[0m \u001b[0;34m**\u001b[0m\u001b[0mkwargs\u001b[0m\u001b[0;34m)\u001b[0m\u001b[0;34m]\u001b[0m\u001b[0;34m\u001b[0m\u001b[0;34m\u001b[0m\u001b[0m\n\u001b[0m\u001b[1;32m   1606\u001b[0m         \u001b[0;32mfor\u001b[0m \u001b[0mline\u001b[0m \u001b[0;32min\u001b[0m \u001b[0mlines\u001b[0m\u001b[0;34m:\u001b[0m\u001b[0;34m\u001b[0m\u001b[0;34m\u001b[0m\u001b[0m\n\u001b[1;32m   1607\u001b[0m             \u001b[0mself\u001b[0m\u001b[0;34m.\u001b[0m\u001b[0madd_line\u001b[0m\u001b[0;34m(\u001b[0m\u001b[0mline\u001b[0m\u001b[0;34m)\u001b[0m\u001b[0;34m\u001b[0m\u001b[0;34m\u001b[0m\u001b[0m\n",
      "\u001b[0;32m~/opt/anaconda3/envs/torch_env/lib/python3.9/site-packages/matplotlib/axes/_base.py\u001b[0m in \u001b[0;36m__call__\u001b[0;34m(self, data, *args, **kwargs)\u001b[0m\n\u001b[1;32m    313\u001b[0m                 \u001b[0mthis\u001b[0m \u001b[0;34m+=\u001b[0m \u001b[0margs\u001b[0m\u001b[0;34m[\u001b[0m\u001b[0;36m0\u001b[0m\u001b[0;34m]\u001b[0m\u001b[0;34m,\u001b[0m\u001b[0;34m\u001b[0m\u001b[0;34m\u001b[0m\u001b[0m\n\u001b[1;32m    314\u001b[0m                 \u001b[0margs\u001b[0m \u001b[0;34m=\u001b[0m \u001b[0margs\u001b[0m\u001b[0;34m[\u001b[0m\u001b[0;36m1\u001b[0m\u001b[0;34m:\u001b[0m\u001b[0;34m]\u001b[0m\u001b[0;34m\u001b[0m\u001b[0;34m\u001b[0m\u001b[0m\n\u001b[0;32m--> 315\u001b[0;31m             \u001b[0;32myield\u001b[0m \u001b[0;32mfrom\u001b[0m \u001b[0mself\u001b[0m\u001b[0;34m.\u001b[0m\u001b[0m_plot_args\u001b[0m\u001b[0;34m(\u001b[0m\u001b[0mthis\u001b[0m\u001b[0;34m,\u001b[0m \u001b[0mkwargs\u001b[0m\u001b[0;34m)\u001b[0m\u001b[0;34m\u001b[0m\u001b[0;34m\u001b[0m\u001b[0m\n\u001b[0m\u001b[1;32m    316\u001b[0m \u001b[0;34m\u001b[0m\u001b[0m\n\u001b[1;32m    317\u001b[0m     \u001b[0;32mdef\u001b[0m \u001b[0mget_next_color\u001b[0m\u001b[0;34m(\u001b[0m\u001b[0mself\u001b[0m\u001b[0;34m)\u001b[0m\u001b[0;34m:\u001b[0m\u001b[0;34m\u001b[0m\u001b[0;34m\u001b[0m\u001b[0m\n",
      "\u001b[0;32m~/opt/anaconda3/envs/torch_env/lib/python3.9/site-packages/matplotlib/axes/_base.py\u001b[0m in \u001b[0;36m_plot_args\u001b[0;34m(self, tup, kwargs, return_kwargs)\u001b[0m\n\u001b[1;32m    499\u001b[0m \u001b[0;34m\u001b[0m\u001b[0m\n\u001b[1;32m    500\u001b[0m         \u001b[0;32mif\u001b[0m \u001b[0mx\u001b[0m\u001b[0;34m.\u001b[0m\u001b[0mshape\u001b[0m\u001b[0;34m[\u001b[0m\u001b[0;36m0\u001b[0m\u001b[0;34m]\u001b[0m \u001b[0;34m!=\u001b[0m \u001b[0my\u001b[0m\u001b[0;34m.\u001b[0m\u001b[0mshape\u001b[0m\u001b[0;34m[\u001b[0m\u001b[0;36m0\u001b[0m\u001b[0;34m]\u001b[0m\u001b[0;34m:\u001b[0m\u001b[0;34m\u001b[0m\u001b[0;34m\u001b[0m\u001b[0m\n\u001b[0;32m--> 501\u001b[0;31m             raise ValueError(f\"x and y must have same first dimension, but \"\n\u001b[0m\u001b[1;32m    502\u001b[0m                              f\"have shapes {x.shape} and {y.shape}\")\n\u001b[1;32m    503\u001b[0m         \u001b[0;32mif\u001b[0m \u001b[0mx\u001b[0m\u001b[0;34m.\u001b[0m\u001b[0mndim\u001b[0m \u001b[0;34m>\u001b[0m \u001b[0;36m2\u001b[0m \u001b[0;32mor\u001b[0m \u001b[0my\u001b[0m\u001b[0;34m.\u001b[0m\u001b[0mndim\u001b[0m \u001b[0;34m>\u001b[0m \u001b[0;36m2\u001b[0m\u001b[0;34m:\u001b[0m\u001b[0;34m\u001b[0m\u001b[0;34m\u001b[0m\u001b[0m\n",
      "\u001b[0;31mValueError\u001b[0m: x and y must have same first dimension, but have shapes (50,) and (10,)"
=======
      "44/44 [==============================] - 1s 12ms/step - loss: 1.5637 - accuracy: 0.5710\n",
      "Accuracy of our model on test data :  57.10144639015198 %\n"
>>>>>>> parent of 2d563d9 (55%)
     ]
    },
    {
     "data": {
<<<<<<< HEAD
      "image/png": "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",
=======
      "image/png": "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",
>>>>>>> parent of 2d563d9 (55%)
      "text/plain": [
       "<Figure size 1440x432 with 2 Axes>"
      ]
     },
     "metadata": {
      "needs_background": "light"
     },
     "output_type": "display_data"
    }
   ],
   "source": [
    "print(\"Accuracy of our model on test data : \" , model.evaluate(x_test,y_test)[1]*100 , \"%\")\n",
    "\n",
    "epochs = [i for i in range(50)]\n",
    "fig , ax = plt.subplots(1,2)\n",
    "train_acc = history.history['accuracy']\n",
    "train_loss = history.history['loss']\n",
    "test_acc = history.history['val_accuracy']\n",
    "test_loss = history.history['val_loss']\n",
    "\n",
    "fig.set_size_inches(20,6)\n",
    "ax[0].plot(epochs , train_loss , label = 'Training Loss')\n",
    "ax[0].plot(epochs , test_loss , label = 'Testing Loss')\n",
    "ax[0].set_title('Training & Testing Loss')\n",
    "ax[0].legend()\n",
    "ax[0].set_xlabel(\"Epochs\")\n",
    "\n",
    "ax[1].plot(epochs , train_acc , label = 'Training Accuracy')\n",
    "ax[1].plot(epochs , test_acc , label = 'Testing Accuracy')\n",
    "ax[1].set_title('Training & Testing Accuracy')\n",
    "ax[1].legend()\n",
    "ax[1].set_xlabel(\"Epochs\")\n",
    "plt.show()"
   ]
  },
  {
   "cell_type": "code",
<<<<<<< HEAD
   "execution_count": 671,
=======
   "execution_count": 66,
>>>>>>> parent of 2d563d9 (55%)
   "metadata": {},
   "outputs": [],
   "source": [
    "# predicting on test data.\n",
    "pred_test = model.predict(x_test)\n",
    "y_pred = encoder.inverse_transform(pred_test)\n",
    "\n",
    "y_test = encoder.inverse_transform(y_test)"
   ]
  },
  {
   "cell_type": "code",
<<<<<<< HEAD
   "execution_count": 672,
=======
   "execution_count": 67,
>>>>>>> parent of 2d563d9 (55%)
   "metadata": {},
   "outputs": [
    {
     "data": {
      "text/html": [
       "<div>\n",
       "<style scoped>\n",
       "    .dataframe tbody tr th:only-of-type {\n",
       "        vertical-align: middle;\n",
       "    }\n",
       "\n",
       "    .dataframe tbody tr th {\n",
       "        vertical-align: top;\n",
       "    }\n",
       "\n",
       "    .dataframe thead th {\n",
       "        text-align: right;\n",
       "    }\n",
       "</style>\n",
       "<table border=\"1\" class=\"dataframe\">\n",
       "  <thead>\n",
       "    <tr style=\"text-align: right;\">\n",
       "      <th></th>\n",
       "      <th>Predicted Labels</th>\n",
       "      <th>Actual Labels</th>\n",
       "    </tr>\n",
       "  </thead>\n",
       "  <tbody>\n",
       "    <tr>\n",
       "      <th>0</th>\n",
<<<<<<< HEAD
       "      <td>calm</td>\n",
       "      <td>sad</td>\n",
=======
       "      <td>surprised</td>\n",
       "      <td>surprised</td>\n",
>>>>>>> parent of 2d563d9 (55%)
       "    </tr>\n",
       "    <tr>\n",
       "      <th>1</th>\n",
       "      <td>happy</td>\n",
       "      <td>happy</td>\n",
       "    </tr>\n",
       "    <tr>\n",
       "      <th>2</th>\n",
<<<<<<< HEAD
       "      <td>happy</td>\n",
       "      <td>happy</td>\n",
=======
       "      <td>angry</td>\n",
       "      <td>angry</td>\n",
>>>>>>> parent of 2d563d9 (55%)
       "    </tr>\n",
       "    <tr>\n",
       "      <th>3</th>\n",
       "      <td>happy</td>\n",
       "      <td>fearful</td>\n",
       "    </tr>\n",
       "    <tr>\n",
       "      <th>4</th>\n",
       "      <td>happy</td>\n",
       "      <td>surprised</td>\n",
       "    </tr>\n",
       "    <tr>\n",
       "      <th>5</th>\n",
<<<<<<< HEAD
       "      <td>surprised</td>\n",
       "      <td>neutral</td>\n",
       "    </tr>\n",
       "    <tr>\n",
       "      <th>6</th>\n",
       "      <td>surprised</td>\n",
       "      <td>calm</td>\n",
       "    </tr>\n",
       "    <tr>\n",
       "      <th>7</th>\n",
       "      <td>happy</td>\n",
       "      <td>angry</td>\n",
       "    </tr>\n",
       "    <tr>\n",
       "      <th>8</th>\n",
       "      <td>calm</td>\n",
       "      <td>calm</td>\n",
=======
       "      <td>calm</td>\n",
       "      <td>calm</td>\n",
       "    </tr>\n",
       "    <tr>\n",
       "      <th>6</th>\n",
       "      <td>neutral</td>\n",
       "      <td>neutral</td>\n",
       "    </tr>\n",
       "    <tr>\n",
       "      <th>7</th>\n",
       "      <td>sad</td>\n",
       "      <td>fearful</td>\n",
       "    </tr>\n",
       "    <tr>\n",
       "      <th>8</th>\n",
       "      <td>angry</td>\n",
       "      <td>fearful</td>\n",
>>>>>>> parent of 2d563d9 (55%)
       "    </tr>\n",
       "    <tr>\n",
       "      <th>9</th>\n",
       "      <td>calm</td>\n",
       "      <td>calm</td>\n",
       "    </tr>\n",
       "  </tbody>\n",
       "</table>\n",
       "</div>"
      ],
      "text/plain": [
       "  Predicted Labels Actual Labels\n",
<<<<<<< HEAD
       "0             calm           sad\n",
       "1             calm          calm\n",
       "2            happy         happy\n",
       "3        surprised     surprised\n",
       "4          disgust       disgust\n",
       "5        surprised       neutral\n",
       "6        surprised          calm\n",
       "7            happy         angry\n",
       "8             calm          calm\n",
       "9             calm          calm"
      ]
     },
     "execution_count": 672,
=======
       "0        surprised     surprised\n",
       "1            happy         happy\n",
       "2            angry         angry\n",
       "3            happy       fearful\n",
       "4            happy     surprised\n",
       "5             calm          calm\n",
       "6          neutral       neutral\n",
       "7              sad       fearful\n",
       "8            angry       fearful\n",
       "9             calm          calm"
      ]
     },
     "execution_count": 67,
>>>>>>> parent of 2d563d9 (55%)
     "metadata": {},
     "output_type": "execute_result"
    }
   ],
   "source": [
    "df = pd.DataFrame(columns=['Predicted Labels', 'Actual Labels'])\n",
    "df['Predicted Labels'] = y_pred.flatten()\n",
    "df['Actual Labels'] = y_test.flatten()\n",
    "\n",
    "df.head(10)"
   ]
  },
  {
   "cell_type": "code",
<<<<<<< HEAD
   "execution_count": 673,
=======
   "execution_count": 68,
>>>>>>> parent of 2d563d9 (55%)
   "metadata": {},
   "outputs": [
    {
     "data": {
<<<<<<< HEAD
      "image/png": "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",
=======
      "image/png": "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",
>>>>>>> parent of 2d563d9 (55%)
      "text/plain": [
       "<Figure size 864x720 with 2 Axes>"
      ]
     },
     "metadata": {
      "needs_background": "light"
     },
     "output_type": "display_data"
    }
   ],
   "source": [
    "cm = confusion_matrix(y_test, y_pred)\n",
    "plt.figure(figsize = (12, 10))\n",
    "cm = pd.DataFrame(cm , index = [i for i in encoder.categories_] , columns = [i for i in encoder.categories_])\n",
    "sns.heatmap(cm, linecolor='white', cmap='Blues', linewidth=1, annot=True, fmt='')\n",
    "plt.title('Confusion Matrix', size=20)\n",
    "plt.xlabel('Predicted Labels', size=14)\n",
    "plt.ylabel('Actual Labels', size=14)\n",
    "plt.show()"
   ]
  },
  {
   "cell_type": "code",
<<<<<<< HEAD
   "execution_count": 674,
=======
   "execution_count": 69,
>>>>>>> parent of 2d563d9 (55%)
   "metadata": {},
   "outputs": [
    {
     "name": "stdout",
     "output_type": "stream",
     "text": [
      "              precision    recall  f1-score   support\n",
      "\n",
<<<<<<< HEAD
      "       angry       0.79      0.52      0.62       124\n",
      "        calm       0.53      0.78      0.63       143\n",
      "     disgust       0.41      0.41      0.41       137\n",
      "     fearful       0.58      0.39      0.46       140\n",
      "       happy       0.42      0.37      0.40       139\n",
      "     neutral       0.40      0.09      0.15        67\n",
      "         sad       0.47      0.31      0.37       153\n",
      "   surprised       0.28      0.58      0.37       132\n",
      "\n",
      "    accuracy                           0.45      1035\n",
      "   macro avg       0.48      0.43      0.43      1035\n",
      "weighted avg       0.49      0.45      0.44      1035\n",
=======
      "       angry       0.74      0.67      0.70       167\n",
      "        calm       0.65      0.73      0.69       187\n",
      "     disgust       0.47      0.60      0.53       171\n",
      "     fearful       0.69      0.46      0.56       224\n",
      "       happy       0.51      0.47      0.49       187\n",
      "     neutral       0.41      0.35      0.37        92\n",
      "         sad       0.47      0.57      0.52       169\n",
      "   surprised       0.60      0.63      0.62       183\n",
      "\n",
      "    accuracy                           0.57      1380\n",
      "   macro avg       0.57      0.56      0.56      1380\n",
      "weighted avg       0.58      0.57      0.57      1380\n",
>>>>>>> parent of 2d563d9 (55%)
      "\n"
     ]
    }
   ],
   "source": [
    "print(classification_report(y_test, y_pred))"
   ]
  },
  {
   "cell_type": "code",
   "execution_count": null,
   "metadata": {},
   "outputs": [],
   "source": []
  },
  {
   "cell_type": "markdown",
   "metadata": {},
   "source": [
    "Biggest Challenge: Dealing with combining features and reshaping dimensions to fit CNN. Although overfitting has been solved with data augmentation. One challenge is dealing with feature extraction which now takes up sometime because of vertically stacking feature outputs into arrays. \n",
    "\n",
    "\n",
    "Today: worked on new feature extractions and applied audio data augmentation which has significantly improved overfitting although runtime has also increased signaifiantlly. MVP model is finished and markdown is almost complete. Readme has begun. \n",
    "\n",
    "Next: may attempt at adding the singing portion of the dataset since its already there and in the same format as the speech dataset. \n",
    "\n",
    "Issues: runtime has significantly increased but the trade off is a less overfit model. "
   ]
  }
 ],
 "metadata": {
  "interpreter": {
   "hash": "f3358073929bd3d27ff594bc6528257efc4213b34ba9d7c6bd240dce3a23a83d"
  },
  "kernelspec": {
   "display_name": "Python 3.9.7 64-bit ('torch_env': conda)",
   "language": "python",
   "name": "python3"
  },
  "language_info": {
   "codemirror_mode": {
    "name": "ipython",
    "version": 3
   },
   "file_extension": ".py",
   "mimetype": "text/x-python",
   "name": "python",
   "nbconvert_exporter": "python",
   "pygments_lexer": "ipython3",
   "version": "3.9.7"
  },
  "orig_nbformat": 4
 },
 "nbformat": 4,
 "nbformat_minor": 2
}
