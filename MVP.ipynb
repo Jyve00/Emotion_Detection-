{
 "cells": [
  {
   "cell_type": "markdown",
   "metadata": {},
   "source": [
    "# Speech Recognition with Delta-Delta's\n",
    "This model will convert recorded speech data into Mel-Spectrogram and then to Delta and finally the Delta-Delta's."
   ]
  },
  {
   "cell_type": "code",
   "execution_count": 23,
   "metadata": {},
   "outputs": [],
   "source": [
    "import pandas as pd \n",
    "import numpy as np\n",
    "import math\n",
    "import os\n",
    "from scipy import signal \n",
    "import matplotlib.pyplot as plt\n",
    "import seaborn as sns\n",
    "import librosa \n",
    "import librosa.display \n",
    "import IPython.display as ipd\n",
    "\n",
    "\n",
    "from sklearn.preprocessing import StandardScaler, OneHotEncoder\n",
    "from sklearn.metrics import confusion_matrix, classification_report\n",
    "from sklearn.model_selection import train_test_split\n",
    "\n",
    "from tensorflow import keras\n",
    "from tensorflow.keras import layers\n",
    "from tensorflow.keras import Sequential\n",
    "from tensorflow.random import set_seed\n",
    "from keras import regularizers\n",
    "from keras.callbacks import EarlyStopping, ModelCheckpoint\n",
    "from keras.models import load_model\n",
    "from tensorflow.keras import optimizers\n",
    "from tensorflow.keras.layers import *\n",
    "from tensorflow.keras.callbacks import ReduceLROnPlateau"
   ]
  },
  {
   "cell_type": "markdown",
   "metadata": {},
   "source": [
    "# Organizing Data\n",
    "loading in a CSV that was created in EDA https://github.com/Jyve00/Emotion_Dectection/blob/main/EDA.ipynb"
   ]
  },
  {
   "cell_type": "code",
   "execution_count": 24,
   "metadata": {},
   "outputs": [
    {
     "data": {
      "text/html": [
       "<div>\n",
       "<style scoped>\n",
       "    .dataframe tbody tr th:only-of-type {\n",
       "        vertical-align: middle;\n",
       "    }\n",
       "\n",
       "    .dataframe tbody tr th {\n",
       "        vertical-align: top;\n",
       "    }\n",
       "\n",
       "    .dataframe thead th {\n",
       "        text-align: right;\n",
       "    }\n",
       "</style>\n",
       "<table border=\"1\" class=\"dataframe\">\n",
       "  <thead>\n",
       "    <tr style=\"text-align: right;\">\n",
       "      <th></th>\n",
       "      <th>Emotions</th>\n",
       "      <th>Path</th>\n",
       "    </tr>\n",
       "  </thead>\n",
       "  <tbody>\n",
       "    <tr>\n",
       "      <th>0</th>\n",
       "      <td>angry</td>\n",
       "      <td>/Users/stephen/Emotion_Detection-/data/RAVDESS...</td>\n",
       "    </tr>\n",
       "    <tr>\n",
       "      <th>1</th>\n",
       "      <td>fear</td>\n",
       "      <td>/Users/stephen/Emotion_Detection-/data/RAVDESS...</td>\n",
       "    </tr>\n",
       "    <tr>\n",
       "      <th>2</th>\n",
       "      <td>fear</td>\n",
       "      <td>/Users/stephen/Emotion_Detection-/data/RAVDESS...</td>\n",
       "    </tr>\n",
       "    <tr>\n",
       "      <th>3</th>\n",
       "      <td>angry</td>\n",
       "      <td>/Users/stephen/Emotion_Detection-/data/RAVDESS...</td>\n",
       "    </tr>\n",
       "    <tr>\n",
       "      <th>4</th>\n",
       "      <td>disgust</td>\n",
       "      <td>/Users/stephen/Emotion_Detection-/data/RAVDESS...</td>\n",
       "    </tr>\n",
       "  </tbody>\n",
       "</table>\n",
       "</div>"
      ],
      "text/plain": [
       "  Emotions                                               Path\n",
       "0    angry  /Users/stephen/Emotion_Detection-/data/RAVDESS...\n",
       "1     fear  /Users/stephen/Emotion_Detection-/data/RAVDESS...\n",
       "2     fear  /Users/stephen/Emotion_Detection-/data/RAVDESS...\n",
       "3    angry  /Users/stephen/Emotion_Detection-/data/RAVDESS...\n",
       "4  disgust  /Users/stephen/Emotion_Detection-/data/RAVDESS..."
      ]
     },
     "execution_count": 24,
     "metadata": {},
     "output_type": "execute_result"
    }
   ],
   "source": [
    "Ravdess = '/Users/stephen/Emotion_Detection-/data/RAVDESS/'\n",
    "\n",
    "ravdess_directory_list = os.listdir(Ravdess)\n",
    "ravdess_directory_list.sort\n",
    "\n",
    "file_emotion = []\n",
    "file_path = []\n",
    "for dir in ravdess_directory_list:\n",
    "    # as their are 20 different actors in our previous directory we need to extract files for each actor.\n",
    "    actor = os.listdir(Ravdess + dir)\n",
    "    for file in actor:\n",
    "        part = file.split('.')[0]\n",
    "        part = part.split('-')\n",
    "        # third part in each file represents the emotion associated to that file.\n",
    "        file_emotion.append(int(part[2]))\n",
    "        file_path.append(Ravdess + dir + '/' + file)\n",
    "        \n",
    "# dataframe for emotion of files\n",
    "emotion_df = pd.DataFrame(file_emotion, columns=['Emotions'])\n",
    "\n",
    "# dataframe for path of files.\n",
    "path_df = pd.DataFrame(file_path, columns=['Path'])\n",
    "Ravdess_df = pd.concat([emotion_df, path_df], axis=1)\n",
    "\n",
    "# changing integers to actual emotions.\n",
    "Ravdess_df.Emotions.replace({1:'neutral', 2:'calm', 3:'happy', 4:'sad', 5:'angry', 6:'fear', 7:'disgust', 8:'surprise'}, inplace=True)\n",
    "Ravdess_df.head()"
   ]
  },
  {
   "cell_type": "markdown",
   "metadata": {},
   "source": [
    "# Data Augmentation Functions\n",
    "It is common practice to transform audio data with data augmentation tools like time adding white noise, time-stretching and pitch shifts. We'll make duplicates of each wav file so our model will have more variable input data."
   ]
  },
  {
   "cell_type": "code",
   "execution_count": 25,
   "metadata": {},
   "outputs": [
    {
     "name": "stdout",
     "output_type": "stream",
     "text": [
      ".wav file shape: (61929,)\n",
      "sample rate: 16000\n"
     ]
    },
    {
     "data": {
      "text/plain": [
       "Text(0.5, 1.0, 'Strong Anger')"
      ]
     },
     "execution_count": 25,
     "metadata": {},
     "output_type": "execute_result"
    },
    {
     "data": {
      "image/png": "[encoded data removed]",
      "text/plain": [
       "<Figure size 1008x360 with 1 Axes>"
      ]
     },
     "metadata": {
      "needs_background": "light"
     },
     "output_type": "display_data"
    }
   ],
   "source": [
    "# test ideas and visualize \n",
    "\n",
    "# randomly choosen file                                                                     \n",
    "# Emotion is 'Anger' and Intensity is strong \n",
    "test_wav_path = '/Users/stephen/Emotion_Detection-/data/RAVDESS/Actor_04/03-01-05-02-01-02-04.wav'\n",
    "sig, sr = librosa.load(test_wav_path, sr=16000) # \n",
    "print('.wav file shape: ' + str(sig.shape))\n",
    "print('sample rate: ' + str(sr))\n",
    "plt.figure(figsize=(14, 5))\n",
    "librosa.display.waveplot(sig, sr=sr)\n",
    "plt.title('Strong Anger')"
   ]
  },
  {
   "cell_type": "code",
   "execution_count": 26,
   "metadata": {},
   "outputs": [
    {
     "data": {
      "text/plain": [
       "<matplotlib.collections.QuadMesh at 0x7fb522ec1490>"
      ]
     },
     "execution_count": 26,
     "metadata": {},
     "output_type": "execute_result"
    },
    {
     "data": {
      "image/png": "[encoded data removed]",
      "text/plain": [
       "<Figure size 1008x360 with 1 Axes>"
      ]
     },
     "metadata": {
      "needs_background": "light"
     },
     "output_type": "display_data"
    }
   ],
   "source": [
    "# mellllllsss\n",
    "mel = librosa.feature.melspectrogram(sig)\n",
    "mel_db = librosa.amplitude_to_db(mel)\n",
    "plt.figure(figsize=(14, 5))\n",
    "plt.title('Anger')\n",
    "librosa.display.specshow(mel_db, sr=sr, x_axis='time', y_axis='hz')"
   ]
  },
  {
   "cell_type": "markdown",
   "metadata": {},
   "source": [
    "# Feature Extraction\n",
    "one of the best ASR (automatic Speech Recognition) audio feature extract methods is using a combination of MFCC's, the delta of those MFCC's, and the delta of those deltas (AKA Delta-Deltas). Here we will create functions to\n",
    "\n",
    "deltas - trajectories of the MFCC coefficients over time\n",
    "\n",
    "http://practicalcryptography.com/miscellaneous/machine-learning/guide-mel-frequency-cepstral-coefficients-mfccs/"
   ]
  },
  {
   "cell_type": "code",
   "execution_count": 27,
   "metadata": {},
   "outputs": [
    {
     "data": {
      "text/plain": [
       "<matplotlib.colorbar.Colorbar at 0x7fb523b889d0>"
      ]
     },
     "execution_count": 27,
     "metadata": {},
     "output_type": "execute_result"
    },
    {
     "data": {
      "image/png": "[encoded data removed]",
      "text/plain": [
       "<Figure size 432x288 with 6 Axes>"
      ]
     },
     "metadata": {
      "needs_background": "light"
     },
     "output_type": "display_data"
    }
   ],
   "source": [
    "# Showing actual feature extractions used \n",
    "# resource: https://librosa.org/doc/main/generated/librosa.feature.delta.html?highlight=delta#librosa.feature.delta\n",
    "\n",
    "test_mfcc = librosa.feature.mfcc(y=sig, sr=sr)\n",
    "test_mfcc_delta = librosa.feature.delta(test_mfcc)\n",
    "test_mfcc_delta2 = librosa.feature.delta(test_mfcc, order=2)\n",
    "\n",
    "\n",
    "\n",
    "\n",
    "fig, ax = plt.subplots(nrows=3, sharex=True, sharey=True)\n",
    "img1 = librosa.display.specshow(test_mfcc, ax=ax[0], x_axis='time')\n",
    "ax[0].set(title='MFCC')\n",
    "ax[0].label_outer()\n",
    "img2 = librosa.display.specshow(test_mfcc_delta, ax=ax[1], x_axis='time')\n",
    "ax[1].set(title=r'MFCC-$\\Delta$')\n",
    "ax[1].label_outer()\n",
    "img3 = librosa.display.specshow(test_mfcc_delta2, ax=ax[2], x_axis='time')\n",
    "ax[2].set(title=r'MFCC-$\\Delta^2$')\n",
    "fig.colorbar(img1, ax=[ax[0]])\n",
    "fig.colorbar(img2, ax=[ax[1]])\n",
    "fig.colorbar(img3, ax=[ax[2]])"
   ]
  },
  {
   "cell_type": "markdown",
   "metadata": {},
   "source": [
    "# Data Augmentation Functions\n",
    "It is common practice to transform audio data with data augmentation tools like time adding white noise, time-stretching and pitch shifts. We'll make duplicates of each wav file so our model will have more variable input data."
   ]
  },
  {
   "cell_type": "code",
   "execution_count": 28,
   "metadata": {},
   "outputs": [],
   "source": [
    "# adding Additive White Gausian Noise\n",
    "def noise(data, SNR=10):   # https://medium.com/analytics-vidhya/adding-noise-to-audio-clips-5d8cee24ccb8\n",
    "    # RMS value of signal \n",
    "    RMS_s = math.sqrt(np.mean(data**2))\n",
    "    # RMS values of noise \n",
    "    RMS_n = math.sqrt(RMS_s**2/(pow(10,SNR/10)))\n",
    "    # using population formula for standard daviation \n",
    "\n",
    "    STD_n = RMS_n \n",
    "    noise = np.random.normal(0, STD_n, data.shape[0])\n",
    "    new_data = data + noise\n",
    "    return new_data\n",
    "#np.mean(librosa.feature.mfcc(y=new_data, sr=16000, n_mfcc=13).T, axis=0)\n",
    "\n",
    "# Time Strectching \n",
    "def stretch(data, rate=0.75):\n",
    "    return librosa.effects.time_stretch(data, rate)\n",
    "\n",
    "def shift(data):\n",
    "    shift_range = int(np.random.uniform(low=-5, high = 5)*1000)\n",
    "    return np.roll(data, shift_range)\n",
    "\n",
    "# Pre Emphasis     info on Pre-Emphasis in speech recognition: https://wiki.aalto.fi/display/ITSP/Pre-emphasis\n",
    "def pre_emphasize(data):\n",
    "    return librosa.effects.preemphasis(data, coef=1)\n",
    "\n",
    "def pitch(data, sampling_rate):\n",
    "    return librosa.effects.pitch_shift(data, sampling_rate, n_steps=3, bins_per_octave=24)\n",
    "# taking any example and checking for techniques.\n",
    "path = np.array(Ravdess_df.Path)[1]\n",
    "data, sample_rate = librosa.load(path)"
   ]
  },
  {
   "cell_type": "code",
   "execution_count": 29,
   "metadata": {},
   "outputs": [],
   "source": [
    "# https://librosa.org/doc/main/generated/librosa.feature.delta.html\n",
    "\n",
    "def extract_features(data):\n",
    "    sample_rate = 16000\n",
    "\n",
    "    result = np.array([])\n",
    "\n",
    "    # MFCC\n",
    "    mfcc = np.mean(librosa.feature.mfcc(y=data, sr=sample_rate).T, axis=0)\n",
    "    result = np.hstack((result, mfcc)) # stacking horizontally\n",
    "\n",
    "    # MFCC Delta\n",
    "    mfcc_delta = np.mean(librosa.feature.delta(data=mfcc).T, axis=0)\n",
    "    result = np.hstack((result, mfcc_delta)) # stacking horizontally\n",
    "\n",
    "    # MFCC Delta-Delta\n",
    "    mfcc_delta2 = np.mean(librosa.feature.delta(data=mfcc, order=2).T, axis=0)\n",
    "    result = np.hstack((result, mfcc_delta2)) # stacking horizontally\n",
    "\n",
    "    # Root Mean Square Value\n",
    "    rms = np.mean(librosa.feature.rms(y=data).T, axis=0)\n",
    "    result = np.hstack((result, rms)) # stacking horizontally\n",
    "    \n",
    "    # MelSpectogram\n",
    "    mel = np.mean(librosa.feature.melspectrogram(y=data, sr=sample_rate).T, axis=0)\n",
    "    result = np.hstack((result, mel)) # stacking horizontally\n",
    "\n",
    "    # Zero-crossing \n",
    "    zcr = np.mean(librosa.feature.zero_crossing_rate(y=data).T, axis=0)\n",
    "    result=np.hstack((result, zcr)) # stacking horizontally\n",
    "\n",
    "\n",
    "\n",
    "    return result\n",
    "\n",
    "def get_features(path): \n",
    "    # duration and offset are used to take care of the no audio in start and the ending of each audio files .\n",
    "    _data, sample_rate = librosa.load(path, sr=16000, duration=2.5, offset=0.6) \n",
    "    # apply High Pass filter to attenuate all signals below 100 hz\n",
    "    sos = signal.butter(4, 80, 'hp', fs=1000, output='sos') # butterworth filter \n",
    "    data = signal.sosfilt(sos, _data)\n",
    "\n",
    "    # without augmentation\n",
    "    res1 = extract_features(data)\n",
    "    result = np.array(res1)\n",
    "    \n",
    "    # data with noise\n",
    "    noise_data = noise(data)\n",
    "    res2 = extract_features(noise_data)\n",
    "    result = np.vstack((result, res2)) # stacking vertically\n",
    "    \n",
    "    # data with stretching and pitching\n",
    "    new_data = stretch(data)\n",
    "    data_stretch_pitch = pitch(new_data, sample_rate)\n",
    "    res3 = extract_features(data_stretch_pitch)\n",
    "    result = np.vstack((result, res3)) # stacking vertically\n",
    "\n",
    "    pre_emp_data = pre_emphasize(data)\n",
    "    res4 = extract_features(pre_emp_data)\n",
    "    result = np.vstack((result, res4)) # stacking vertically\n",
    "    \n",
    "    return result"
   ]
  },
  {
   "cell_type": "markdown",
   "metadata": {},
   "source": [
    "# Calling Functions and preparing data for CNN\n",
    "So the outline of our features are:"
   ]
  },
  {
   "cell_type": "code",
   "execution_count": 35,
   "metadata": {},
   "outputs": [],
   "source": [
    "X, Y = [], []\n",
    "for path, emotion in zip(Ravdess_df.Path, Ravdess_df.Emotions):\n",
    "    feature = get_features(path)\n",
    "    for ele in feature:\n",
    "        X.append(ele)\n",
    "        # appending emotion 4 times as we have made 4 augmentation techniques on each audio file.\n",
    "        Y.append(emotion)"
   ]
  },
  {
   "cell_type": "code",
   "execution_count": 38,
   "metadata": {},
   "outputs": [
    {
     "data": {
      "text/plain": [
       "(5760, 5760, (1440,))"
      ]
     },
     "execution_count": 38,
     "metadata": {},
     "output_type": "execute_result"
    }
   ],
   "source": [
    "len(X), len(Y), Ravdess_df.Path.shape"
   ]
  },
  {
   "cell_type": "code",
   "execution_count": 39,
   "metadata": {},
   "outputs": [
    {
     "data": {
      "text/html": [
       "<div>\n",
       "<style scoped>\n",
       "    .dataframe tbody tr th:only-of-type {\n",
       "        vertical-align: middle;\n",
       "    }\n",
       "\n",
       "    .dataframe tbody tr th {\n",
       "        vertical-align: top;\n",
       "    }\n",
       "\n",
       "    .dataframe thead th {\n",
       "        text-align: right;\n",
       "    }\n",
       "</style>\n",
       "<table border=\"1\" class=\"dataframe\">\n",
       "  <thead>\n",
       "    <tr style=\"text-align: right;\">\n",
       "      <th></th>\n",
       "      <th>0</th>\n",
       "      <th>1</th>\n",
       "      <th>2</th>\n",
       "      <th>3</th>\n",
       "      <th>4</th>\n",
       "      <th>5</th>\n",
       "      <th>6</th>\n",
       "      <th>7</th>\n",
       "      <th>8</th>\n",
       "      <th>9</th>\n",
       "      <th>...</th>\n",
       "      <th>143</th>\n",
       "      <th>144</th>\n",
       "      <th>145</th>\n",
       "      <th>146</th>\n",
       "      <th>147</th>\n",
       "      <th>148</th>\n",
       "      <th>149</th>\n",
       "      <th>150</th>\n",
       "      <th>151</th>\n",
       "      <th>labels</th>\n",
       "    </tr>\n",
       "  </thead>\n",
       "  <tbody>\n",
       "    <tr>\n",
       "      <th>0</th>\n",
       "      <td>-536.970032</td>\n",
       "      <td>-70.208008</td>\n",
       "      <td>-79.724160</td>\n",
       "      <td>-27.816592</td>\n",
       "      <td>-21.776632</td>\n",
       "      <td>-1.671302</td>\n",
       "      <td>-14.497605</td>\n",
       "      <td>-9.052683</td>\n",
       "      <td>4.116251</td>\n",
       "      <td>5.237724</td>\n",
       "      <td>...</td>\n",
       "      <td>0.011748</td>\n",
       "      <td>0.011426</td>\n",
       "      <td>0.010883</td>\n",
       "      <td>0.006832</td>\n",
       "      <td>0.004739</td>\n",
       "      <td>0.003541</td>\n",
       "      <td>0.000767</td>\n",
       "      <td>0.000079</td>\n",
       "      <td>0.365080</td>\n",
       "      <td>angry</td>\n",
       "    </tr>\n",
       "    <tr>\n",
       "      <th>1</th>\n",
       "      <td>-292.679049</td>\n",
       "      <td>-11.687091</td>\n",
       "      <td>-13.066652</td>\n",
       "      <td>-1.403741</td>\n",
       "      <td>-0.677876</td>\n",
       "      <td>4.567958</td>\n",
       "      <td>0.611427</td>\n",
       "      <td>-4.989501</td>\n",
       "      <td>3.883654</td>\n",
       "      <td>0.451739</td>\n",
       "      <td>...</td>\n",
       "      <td>0.013590</td>\n",
       "      <td>0.013048</td>\n",
       "      <td>0.012360</td>\n",
       "      <td>0.008342</td>\n",
       "      <td>0.006529</td>\n",
       "      <td>0.005319</td>\n",
       "      <td>0.002367</td>\n",
       "      <td>0.001722</td>\n",
       "      <td>0.461055</td>\n",
       "      <td>angry</td>\n",
       "    </tr>\n",
       "    <tr>\n",
       "      <th>2</th>\n",
       "      <td>-590.285121</td>\n",
       "      <td>-86.213247</td>\n",
       "      <td>-86.954716</td>\n",
       "      <td>-32.809328</td>\n",
       "      <td>-20.514147</td>\n",
       "      <td>-2.666670</td>\n",
       "      <td>-19.127017</td>\n",
       "      <td>-3.934791</td>\n",
       "      <td>10.835286</td>\n",
       "      <td>0.172643</td>\n",
       "      <td>...</td>\n",
       "      <td>0.000481</td>\n",
       "      <td>0.000810</td>\n",
       "      <td>0.001204</td>\n",
       "      <td>0.002024</td>\n",
       "      <td>0.002851</td>\n",
       "      <td>0.001567</td>\n",
       "      <td>0.000432</td>\n",
       "      <td>0.000019</td>\n",
       "      <td>0.424581</td>\n",
       "      <td>angry</td>\n",
       "    </tr>\n",
       "    <tr>\n",
       "      <th>3</th>\n",
       "      <td>-552.492930</td>\n",
       "      <td>-109.823557</td>\n",
       "      <td>-59.950173</td>\n",
       "      <td>-14.824648</td>\n",
       "      <td>-9.015608</td>\n",
       "      <td>8.212083</td>\n",
       "      <td>-6.740179</td>\n",
       "      <td>-3.396895</td>\n",
       "      <td>7.125379</td>\n",
       "      <td>6.756815</td>\n",
       "      <td>...</td>\n",
       "      <td>0.043559</td>\n",
       "      <td>0.043036</td>\n",
       "      <td>0.041581</td>\n",
       "      <td>0.026425</td>\n",
       "      <td>0.018571</td>\n",
       "      <td>0.013968</td>\n",
       "      <td>0.003045</td>\n",
       "      <td>0.000315</td>\n",
       "      <td>0.460357</td>\n",
       "      <td>angry</td>\n",
       "    </tr>\n",
       "    <tr>\n",
       "      <th>4</th>\n",
       "      <td>-615.813548</td>\n",
       "      <td>-78.952161</td>\n",
       "      <td>-91.796245</td>\n",
       "      <td>-23.684091</td>\n",
       "      <td>-20.161961</td>\n",
       "      <td>-14.288984</td>\n",
       "      <td>-22.787479</td>\n",
       "      <td>-8.504503</td>\n",
       "      <td>6.004041</td>\n",
       "      <td>-6.007226</td>\n",
       "      <td>...</td>\n",
       "      <td>0.001610</td>\n",
       "      <td>0.001820</td>\n",
       "      <td>0.001444</td>\n",
       "      <td>0.001527</td>\n",
       "      <td>0.002631</td>\n",
       "      <td>0.002630</td>\n",
       "      <td>0.000628</td>\n",
       "      <td>0.000026</td>\n",
       "      <td>0.320943</td>\n",
       "      <td>fear</td>\n",
       "    </tr>\n",
       "  </tbody>\n",
       "</table>\n",
       "<p>5 rows × 153 columns</p>\n",
       "</div>"
      ],
      "text/plain": [
       "            0           1          2          3          4          5  \\\n",
       "0 -536.970032  -70.208008 -79.724160 -27.816592 -21.776632  -1.671302   \n",
       "1 -292.679049  -11.687091 -13.066652  -1.403741  -0.677876   4.567958   \n",
       "2 -590.285121  -86.213247 -86.954716 -32.809328 -20.514147  -2.666670   \n",
       "3 -552.492930 -109.823557 -59.950173 -14.824648  -9.015608   8.212083   \n",
       "4 -615.813548  -78.952161 -91.796245 -23.684091 -20.161961 -14.288984   \n",
       "\n",
       "           6         7          8         9  ...       143       144  \\\n",
       "0 -14.497605 -9.052683   4.116251  5.237724  ...  0.011748  0.011426   \n",
       "1   0.611427 -4.989501   3.883654  0.451739  ...  0.013590  0.013048   \n",
       "2 -19.127017 -3.934791  10.835286  0.172643  ...  0.000481  0.000810   \n",
       "3  -6.740179 -3.396895   7.125379  6.756815  ...  0.043559  0.043036   \n",
       "4 -22.787479 -8.504503   6.004041 -6.007226  ...  0.001610  0.001820   \n",
       "\n",
       "        145       146       147       148       149       150       151  \\\n",
       "0  0.010883  0.006832  0.004739  0.003541  0.000767  0.000079  0.365080   \n",
       "1  0.012360  0.008342  0.006529  0.005319  0.002367  0.001722  0.461055   \n",
       "2  0.001204  0.002024  0.002851  0.001567  0.000432  0.000019  0.424581   \n",
       "3  0.041581  0.026425  0.018571  0.013968  0.003045  0.000315  0.460357   \n",
       "4  0.001444  0.001527  0.002631  0.002630  0.000628  0.000026  0.320943   \n",
       "\n",
       "   labels  \n",
       "0   angry  \n",
       "1   angry  \n",
       "2   angry  \n",
       "3   angry  \n",
       "4    fear  \n",
       "\n",
       "[5 rows x 153 columns]"
      ]
     },
     "execution_count": 39,
     "metadata": {},
     "output_type": "execute_result"
    }
   ],
   "source": [
    "Features = pd.DataFrame(X)\n",
    "Features['labels'] = Y\n",
    "Features.to_csv('features.csv', index=False)\n",
    "Features.head()"
   ]
  },
  {
   "cell_type": "code",
   "execution_count": 40,
   "metadata": {},
   "outputs": [],
   "source": [
    "X = Features.iloc[: ,:-1].values\n",
    "Y = Features['labels'].values"
   ]
  },
  {
   "cell_type": "code",
   "execution_count": 41,
   "metadata": {},
   "outputs": [],
   "source": [
    "# As this is a multiclass classification problem onehotencoding our Y.\n",
    "encoder = OneHotEncoder()\n",
    "Y = encoder.fit_transform(np.array(Y).reshape(-1,1)).toarray()"
   ]
  },
  {
   "cell_type": "code",
   "execution_count": 42,
   "metadata": {},
   "outputs": [
    {
     "data": {
      "text/plain": [
       "((4320, 152), (4320, 8), (1440, 152), (1440, 8))"
      ]
     },
     "execution_count": 42,
     "metadata": {},
     "output_type": "execute_result"
    }
   ],
   "source": [
    "# splitting data\n",
    "x_train, x_test, y_train, y_test = train_test_split(X, Y, random_state=0, shuffle=True)\n",
    "x_train.shape, y_train.shape, x_test.shape, y_test.shape"
   ]
  },
  {
   "cell_type": "code",
   "execution_count": 43,
   "metadata": {},
   "outputs": [
    {
     "data": {
      "text/plain": [
       "((4320, 152), (4320, 8), (1440, 152), (1440, 8))"
      ]
     },
     "execution_count": 43,
     "metadata": {},
     "output_type": "execute_result"
    }
   ],
   "source": [
    "# scaling our data with sklearn's Standard scaler\n",
    "scaler = StandardScaler()\n",
    "x_train = scaler.fit_transform(x_train)\n",
    "x_test = scaler.transform(x_test)\n",
    "x_train.shape, y_train.shape, x_test.shape, y_test.shape"
   ]
  },
  {
   "cell_type": "code",
   "execution_count": 44,
   "metadata": {},
   "outputs": [
    {
     "data": {
      "text/plain": [
       "((4320, 152, 1), (4320, 8), (1440, 152, 1), (1440, 8))"
      ]
     },
     "execution_count": 44,
     "metadata": {},
     "output_type": "execute_result"
    }
   ],
   "source": [
    "# making our data compatible to model.\n",
    "x_train = np.expand_dims(x_train, axis=2)\n",
    "x_test = np.expand_dims(x_test, axis=2)\n",
    "x_train.shape, y_train.shape, x_test.shape, y_test.shape"
   ]
  },
  {
   "cell_type": "code",
   "execution_count": 45,
   "metadata": {},
   "outputs": [
    {
     "name": "stdout",
     "output_type": "stream",
     "text": [
      "Model: \"sequential\"\n",
      "_________________________________________________________________\n",
      " Layer (type)                Output Shape              Param #   \n",
      "=================================================================\n",
      " conv1d (Conv1D)             (None, 152, 256)          1536      \n",
      "                                                                 \n",
      " max_pooling1d (MaxPooling1D  (None, 76, 256)          0         \n",
      " )                                                               \n",
      "                                                                 \n",
      " conv1d_1 (Conv1D)           (None, 76, 256)           327936    \n",
      "                                                                 \n",
      " max_pooling1d_1 (MaxPooling  (None, 38, 256)          0         \n",
      " 1D)                                                             \n",
      "                                                                 \n",
      " conv1d_2 (Conv1D)           (None, 38, 128)           163968    \n",
      "                                                                 \n",
      " max_pooling1d_2 (MaxPooling  (None, 19, 128)          0         \n",
      " 1D)                                                             \n",
      "                                                                 \n",
      " dropout (Dropout)           (None, 19, 128)           0         \n",
      "                                                                 \n",
      " conv1d_3 (Conv1D)           (None, 19, 64)            41024     \n",
      "                                                                 \n",
      " max_pooling1d_3 (MaxPooling  (None, 10, 64)           0         \n",
      " 1D)                                                             \n",
      "                                                                 \n",
      " flatten (Flatten)           (None, 640)               0         \n",
      "                                                                 \n",
      " dense (Dense)               (None, 32)                20512     \n",
      "                                                                 \n",
      " dropout_1 (Dropout)         (None, 32)                0         \n",
      "                                                                 \n",
      " flatten_1 (Flatten)         (None, 32)                0         \n",
      "                                                                 \n",
      " dense_1 (Dense)             (None, 8)                 264       \n",
      "                                                                 \n",
      "=================================================================\n",
      "Total params: 555,240\n",
      "Trainable params: 555,240\n",
      "Non-trainable params: 0\n",
      "_________________________________________________________________\n"
     ]
    },
    {
     "name": "stderr",
     "output_type": "stream",
     "text": [
      "2021-12-03 11:10:12.522444: I tensorflow/core/platform/cpu_feature_guard.cc:151] This TensorFlow binary is optimized with oneAPI Deep Neural Network Library (oneDNN) to use the following CPU instructions in performance-critical operations:  AVX2 FMA\n",
      "To enable them in other operations, rebuild TensorFlow with the appropriate compiler flags.\n"
     ]
    }
   ],
   "source": [
    "model=Sequential()\n",
    "model.add(Conv1D(256, kernel_size=5, strides=1, padding='same', activation='relu', input_shape=(x_train.shape[1], 1)))\n",
    "model.add(MaxPooling1D(pool_size=5, strides = 2, padding = 'same'))\n",
    "\n",
    "model.add(Conv1D(256, kernel_size=5, strides=1, padding='same', activation='relu'))\n",
    "model.add(MaxPooling1D(pool_size=5, strides = 2, padding = 'same'))\n",
    "\n",
    "model.add(Conv1D(128, kernel_size=5, strides=1, padding='same', activation='relu'))\n",
    "model.add(MaxPooling1D(pool_size=5, strides = 2, padding = 'same'))\n",
    "model.add(Dropout(0.2))\n",
    "\n",
    "model.add(Conv1D(64, kernel_size=5, strides=1, padding='same', activation='relu'))\n",
    "model.add(MaxPooling1D(pool_size=5, strides = 2, padding = 'same'))\n",
    "\n",
    "model.add(Flatten())\n",
    "model.add(Dense(units=32, activation='relu'))\n",
    "model.add(Dropout(0.3))\n",
    "\n",
    "model.add(Flatten())\n",
    "model.add(Dense(units=8, activation='softmax'))\n",
    "model.compile(optimizer = 'adam' , loss = 'categorical_crossentropy' , metrics = ['accuracy'])\n",
    "\n",
    "model.summary()"
   ]
  },
  {
   "cell_type": "code",
   "execution_count": 46,
   "metadata": {},
   "outputs": [
    {
     "name": "stdout",
     "output_type": "stream",
     "text": [
      "Epoch 1/50\n",
      "68/68 [==============================] - 8s 103ms/step - loss: 1.9824 - accuracy: 0.2111 - val_loss: 1.9011 - val_accuracy: 0.2264 - lr: 0.0010\n",
      "Epoch 2/50\n",
      "68/68 [==============================] - 7s 102ms/step - loss: 1.8947 - accuracy: 0.2426 - val_loss: 1.8352 - val_accuracy: 0.2694 - lr: 0.0010\n",
      "Epoch 3/50\n",
      "68/68 [==============================] - 8s 118ms/step - loss: 1.8429 - accuracy: 0.2581 - val_loss: 1.8109 - val_accuracy: 0.2896 - lr: 0.0010\n",
      "Epoch 4/50\n",
      "68/68 [==============================] - 9s 128ms/step - loss: 1.8028 - accuracy: 0.2866 - val_loss: 1.7515 - val_accuracy: 0.3028 - lr: 0.0010\n",
      "Epoch 5/50\n",
      "68/68 [==============================] - 8s 118ms/step - loss: 1.7765 - accuracy: 0.2896 - val_loss: 1.7330 - val_accuracy: 0.3264 - lr: 0.0010\n",
      "Epoch 6/50\n",
      "68/68 [==============================] - 7s 107ms/step - loss: 1.7335 - accuracy: 0.3201 - val_loss: 1.6698 - val_accuracy: 0.3507 - lr: 0.0010\n",
      "Epoch 7/50\n",
      "68/68 [==============================] - 6s 95ms/step - loss: 1.7026 - accuracy: 0.3310 - val_loss: 1.6665 - val_accuracy: 0.3444 - lr: 0.0010\n",
      "Epoch 8/50\n",
      "68/68 [==============================] - 7s 109ms/step - loss: 1.6635 - accuracy: 0.3535 - val_loss: 1.6162 - val_accuracy: 0.3771 - lr: 0.0010\n",
      "Epoch 9/50\n",
      "68/68 [==============================] - 7s 104ms/step - loss: 1.6362 - accuracy: 0.3539 - val_loss: 1.6059 - val_accuracy: 0.3694 - lr: 0.0010\n",
      "Epoch 10/50\n",
      "68/68 [==============================] - 6s 96ms/step - loss: 1.6153 - accuracy: 0.3669 - val_loss: 1.5784 - val_accuracy: 0.3812 - lr: 0.0010\n",
      "Epoch 11/50\n",
      "68/68 [==============================] - 7s 96ms/step - loss: 1.5916 - accuracy: 0.3843 - val_loss: 1.5944 - val_accuracy: 0.3750 - lr: 0.0010\n",
      "Epoch 12/50\n",
      "68/68 [==============================] - 6s 95ms/step - loss: 1.5713 - accuracy: 0.3863 - val_loss: 1.5759 - val_accuracy: 0.3833 - lr: 0.0010\n",
      "Epoch 13/50\n",
      "68/68 [==============================] - 7s 105ms/step - loss: 1.5463 - accuracy: 0.3979 - val_loss: 1.5925 - val_accuracy: 0.3826 - lr: 0.0010\n",
      "Epoch 14/50\n",
      "68/68 [==============================] - 7s 102ms/step - loss: 1.5188 - accuracy: 0.4204 - val_loss: 1.5547 - val_accuracy: 0.3986 - lr: 0.0010\n",
      "Epoch 15/50\n",
      "68/68 [==============================] - 7s 106ms/step - loss: 1.4760 - accuracy: 0.4222 - val_loss: 1.5336 - val_accuracy: 0.4125 - lr: 0.0010\n",
      "Epoch 16/50\n",
      "68/68 [==============================] - 8s 110ms/step - loss: 1.4517 - accuracy: 0.4461 - val_loss: 1.4862 - val_accuracy: 0.4174 - lr: 0.0010\n",
      "Epoch 17/50\n",
      "68/68 [==============================] - 7s 105ms/step - loss: 1.4155 - accuracy: 0.4583 - val_loss: 1.5159 - val_accuracy: 0.4076 - lr: 0.0010\n",
      "Epoch 18/50\n",
      "68/68 [==============================] - 6s 93ms/step - loss: 1.4075 - accuracy: 0.4676 - val_loss: 1.4468 - val_accuracy: 0.4313 - lr: 0.0010\n",
      "Epoch 19/50\n",
      "68/68 [==============================] - 6s 90ms/step - loss: 1.3573 - accuracy: 0.4826 - val_loss: 1.4590 - val_accuracy: 0.4424 - lr: 0.0010\n",
      "Epoch 20/50\n",
      "68/68 [==============================] - 6s 91ms/step - loss: 1.3388 - accuracy: 0.5021 - val_loss: 1.4311 - val_accuracy: 0.4549 - lr: 0.0010\n",
      "Epoch 21/50\n",
      "68/68 [==============================] - 6s 94ms/step - loss: 1.2872 - accuracy: 0.5144 - val_loss: 1.4189 - val_accuracy: 0.4625 - lr: 0.0010\n",
      "Epoch 22/50\n",
      "68/68 [==============================] - 6s 93ms/step - loss: 1.2654 - accuracy: 0.5294 - val_loss: 1.4050 - val_accuracy: 0.4764 - lr: 0.0010\n",
      "Epoch 23/50\n",
      "68/68 [==============================] - 7s 103ms/step - loss: 1.2472 - accuracy: 0.5350 - val_loss: 1.3940 - val_accuracy: 0.4694 - lr: 0.0010\n",
      "Epoch 24/50\n",
      "68/68 [==============================] - 7s 106ms/step - loss: 1.1920 - accuracy: 0.5546 - val_loss: 1.4188 - val_accuracy: 0.4736 - lr: 0.0010\n",
      "Epoch 25/50\n",
      "68/68 [==============================] - 6s 93ms/step - loss: 1.1622 - accuracy: 0.5625 - val_loss: 1.3561 - val_accuracy: 0.4965 - lr: 0.0010\n",
      "Epoch 26/50\n",
      "68/68 [==============================] - 6s 94ms/step - loss: 1.1145 - accuracy: 0.5840 - val_loss: 1.3560 - val_accuracy: 0.5076 - lr: 0.0010\n",
      "Epoch 27/50\n",
      "68/68 [==============================] - 6s 93ms/step - loss: 1.0857 - accuracy: 0.5970 - val_loss: 1.3671 - val_accuracy: 0.4972 - lr: 0.0010\n",
      "Epoch 28/50\n",
      "68/68 [==============================] - 6s 91ms/step - loss: 1.0728 - accuracy: 0.6014 - val_loss: 1.3496 - val_accuracy: 0.5056 - lr: 0.0010\n",
      "Epoch 29/50\n",
      "68/68 [==============================] - 6s 93ms/step - loss: 1.0293 - accuracy: 0.6197 - val_loss: 1.3493 - val_accuracy: 0.5243 - lr: 0.0010\n",
      "Epoch 30/50\n",
      "68/68 [==============================] - 6s 95ms/step - loss: 0.9886 - accuracy: 0.6340 - val_loss: 1.3099 - val_accuracy: 0.5292 - lr: 0.0010\n",
      "Epoch 31/50\n",
      "68/68 [==============================] - 7s 104ms/step - loss: 0.9614 - accuracy: 0.6468 - val_loss: 1.3508 - val_accuracy: 0.5264 - lr: 0.0010\n",
      "Epoch 32/50\n",
      "68/68 [==============================] - 7s 109ms/step - loss: 0.9305 - accuracy: 0.6572 - val_loss: 1.3788 - val_accuracy: 0.5347 - lr: 0.0010\n",
      "Epoch 33/50\n",
      "68/68 [==============================] - 7s 102ms/step - loss: 0.9056 - accuracy: 0.6736 - val_loss: 1.4035 - val_accuracy: 0.5382 - lr: 0.0010\n",
      "Epoch 34/50\n",
      "68/68 [==============================] - 7s 109ms/step - loss: 0.8364 - accuracy: 0.6954 - val_loss: 1.3884 - val_accuracy: 0.5375 - lr: 0.0010\n",
      "Epoch 35/50\n",
      "68/68 [==============================] - 7s 107ms/step - loss: 0.8141 - accuracy: 0.7014 - val_loss: 1.4128 - val_accuracy: 0.5451 - lr: 0.0010\n",
      "Epoch 36/50\n",
      "68/68 [==============================] - 8s 120ms/step - loss: 0.7884 - accuracy: 0.7137 - val_loss: 1.3658 - val_accuracy: 0.5500 - lr: 0.0010\n",
      "Epoch 37/50\n",
      "68/68 [==============================] - 8s 119ms/step - loss: 0.7348 - accuracy: 0.7317 - val_loss: 1.4255 - val_accuracy: 0.5507 - lr: 0.0010\n",
      "Epoch 38/50\n",
      "68/68 [==============================] - 8s 114ms/step - loss: 0.7112 - accuracy: 0.7389 - val_loss: 1.4179 - val_accuracy: 0.5333 - lr: 0.0010\n",
      "Epoch 39/50\n",
      "68/68 [==============================] - 9s 126ms/step - loss: 0.7546 - accuracy: 0.7370 - val_loss: 1.4900 - val_accuracy: 0.5333 - lr: 0.0010\n",
      "Epoch 40/50\n",
      "68/68 [==============================] - 8s 114ms/step - loss: 0.7005 - accuracy: 0.7491 - val_loss: 1.5144 - val_accuracy: 0.5354 - lr: 0.0010\n",
      "Epoch 41/50\n",
      "68/68 [==============================] - 7s 108ms/step - loss: 0.6299 - accuracy: 0.7704 - val_loss: 1.4849 - val_accuracy: 0.5410 - lr: 0.0010\n",
      "Epoch 42/50\n",
      "68/68 [==============================] - 9s 129ms/step - loss: 0.6387 - accuracy: 0.7706 - val_loss: 1.4833 - val_accuracy: 0.5562 - lr: 0.0010\n",
      "Epoch 43/50\n",
      "68/68 [==============================] - 7s 100ms/step - loss: 0.6135 - accuracy: 0.7859 - val_loss: 1.5454 - val_accuracy: 0.5340 - lr: 0.0010\n",
      "Epoch 44/50\n",
      "68/68 [==============================] - 8s 117ms/step - loss: 0.5761 - accuracy: 0.7963 - val_loss: 1.5854 - val_accuracy: 0.5597 - lr: 0.0010\n",
      "Epoch 45/50\n",
      "68/68 [==============================] - 8s 113ms/step - loss: 0.5613 - accuracy: 0.7972 - val_loss: 1.6952 - val_accuracy: 0.5583 - lr: 0.0010\n",
      "Epoch 46/50\n",
      "68/68 [==============================] - 7s 104ms/step - loss: 0.5236 - accuracy: 0.8104 - val_loss: 1.6023 - val_accuracy: 0.5778 - lr: 0.0010\n",
      "Epoch 47/50\n",
      "68/68 [==============================] - 7s 100ms/step - loss: 0.4887 - accuracy: 0.8222 - val_loss: 1.6997 - val_accuracy: 0.5715 - lr: 0.0010\n",
      "Epoch 48/50\n",
      "68/68 [==============================] - 7s 105ms/step - loss: 0.4933 - accuracy: 0.8347 - val_loss: 1.6074 - val_accuracy: 0.5521 - lr: 0.0010\n",
      "Epoch 49/50\n",
      "68/68 [==============================] - 8s 111ms/step - loss: 0.4449 - accuracy: 0.8417 - val_loss: 1.6285 - val_accuracy: 0.5625 - lr: 0.0010\n",
      "Epoch 50/50\n",
      "68/68 [==============================] - 7s 103ms/step - loss: 0.4214 - accuracy: 0.8521 - val_loss: 1.7251 - val_accuracy: 0.5556 - lr: 0.0010\n"
     ]
    }
   ],
   "source": [
    "rlrp = ReduceLROnPlateau(monitor='loss', factor=0.4, verbose=0, patience=2, min_lr=0.0000001)\n",
    "history=model.fit(x_train, y_train, batch_size=64, epochs=50, validation_data=(x_test, y_test), callbacks=[rlrp])"
   ]
  },
  {
   "cell_type": "code",
   "execution_count": 47,
   "metadata": {},
   "outputs": [
    {
     "data": {
      "text/plain": [
       "(1440, 8)"
      ]
     },
     "execution_count": 47,
     "metadata": {},
     "output_type": "execute_result"
    }
   ],
   "source": [
    "y_test.shape"
   ]
  },
  {
   "cell_type": "code",
   "execution_count": 48,
   "metadata": {},
   "outputs": [
    {
     "name": "stdout",
     "output_type": "stream",
     "text": [
      "45/45 [==============================] - 1s 12ms/step - loss: 1.7251 - accuracy: 0.5556\n",
      "Accuracy of our model on test data :  55.55555820465088 %\n"
     ]
    },
    {
     "data": {
      "image/png": "[encoded data removed]",
      "text/plain": [
       "<Figure size 1440x432 with 2 Axes>"
      ]
     },
     "metadata": {
      "needs_background": "light"
     },
     "output_type": "display_data"
    }
   ],
   "source": [
    "print(\"Accuracy of our model on test data : \" , model.evaluate(x_test,y_test)[1]*100 , \"%\")\n",
    "\n",
    "epochs = [i for i in range(50)]\n",
    "fig , ax = plt.subplots(1,2)\n",
    "train_acc = history.history['accuracy']\n",
    "train_loss = history.history['loss']\n",
    "test_acc = history.history['val_accuracy']\n",
    "test_loss = history.history['val_loss']\n",
    "\n",
    "fig.set_size_inches(20,6)\n",
    "ax[0].plot(epochs , train_loss , label = 'Training Loss')\n",
    "ax[0].plot(epochs , test_loss , label = 'Testing Loss')\n",
    "ax[0].set_title('Training & Testing Loss')\n",
    "ax[0].legend()\n",
    "ax[0].set_xlabel(\"Epochs\")\n",
    "\n",
    "ax[1].plot(epochs , train_acc , label = 'Training Accuracy')\n",
    "ax[1].plot(epochs , test_acc , label = 'Testing Accuracy')\n",
    "ax[1].set_title('Training & Testing Accuracy')\n",
    "ax[1].legend()\n",
    "ax[1].set_xlabel(\"Epochs\")\n",
    "plt.show()"
   ]
  },
  {
   "cell_type": "code",
   "execution_count": 49,
   "metadata": {},
   "outputs": [],
   "source": [
    "# predicting on test data.\n",
    "pred_test = model.predict(x_test)\n",
    "y_pred = encoder.inverse_transform(pred_test)\n",
    "\n",
    "y_test = encoder.inverse_transform(y_test)"
   ]
  },
  {
   "cell_type": "code",
   "execution_count": 50,
   "metadata": {},
   "outputs": [
    {
     "data": {
      "text/html": [
       "<div>\n",
       "<style scoped>\n",
       "    .dataframe tbody tr th:only-of-type {\n",
       "        vertical-align: middle;\n",
       "    }\n",
       "\n",
       "    .dataframe tbody tr th {\n",
       "        vertical-align: top;\n",
       "    }\n",
       "\n",
       "    .dataframe thead th {\n",
       "        text-align: right;\n",
       "    }\n",
       "</style>\n",
       "<table border=\"1\" class=\"dataframe\">\n",
       "  <thead>\n",
       "    <tr style=\"text-align: right;\">\n",
       "      <th></th>\n",
       "      <th>Predicted Labels</th>\n",
       "      <th>Actual Labels</th>\n",
       "    </tr>\n",
       "  </thead>\n",
       "  <tbody>\n",
       "    <tr>\n",
       "      <th>0</th>\n",
       "      <td>happy</td>\n",
       "      <td>sad</td>\n",
       "    </tr>\n",
       "    <tr>\n",
       "      <th>1</th>\n",
       "      <td>sad</td>\n",
       "      <td>sad</td>\n",
       "    </tr>\n",
       "    <tr>\n",
       "      <th>2</th>\n",
       "      <td>sad</td>\n",
       "      <td>sad</td>\n",
       "    </tr>\n",
       "    <tr>\n",
       "      <th>3</th>\n",
       "      <td>calm</td>\n",
       "      <td>calm</td>\n",
       "    </tr>\n",
       "    <tr>\n",
       "      <th>4</th>\n",
       "      <td>angry</td>\n",
       "      <td>fear</td>\n",
       "    </tr>\n",
       "    <tr>\n",
       "      <th>5</th>\n",
       "      <td>fear</td>\n",
       "      <td>fear</td>\n",
       "    </tr>\n",
       "    <tr>\n",
       "      <th>6</th>\n",
       "      <td>calm</td>\n",
       "      <td>calm</td>\n",
       "    </tr>\n",
       "    <tr>\n",
       "      <th>7</th>\n",
       "      <td>happy</td>\n",
       "      <td>happy</td>\n",
       "    </tr>\n",
       "    <tr>\n",
       "      <th>8</th>\n",
       "      <td>calm</td>\n",
       "      <td>calm</td>\n",
       "    </tr>\n",
       "    <tr>\n",
       "      <th>9</th>\n",
       "      <td>neutral</td>\n",
       "      <td>neutral</td>\n",
       "    </tr>\n",
       "  </tbody>\n",
       "</table>\n",
       "</div>"
      ],
      "text/plain": [
       "  Predicted Labels Actual Labels\n",
       "0            happy           sad\n",
       "1              sad           sad\n",
       "2              sad           sad\n",
       "3             calm          calm\n",
       "4            angry          fear\n",
       "5             fear          fear\n",
       "6             calm          calm\n",
       "7            happy         happy\n",
       "8             calm          calm\n",
       "9          neutral       neutral"
      ]
     },
     "execution_count": 50,
     "metadata": {},
     "output_type": "execute_result"
    }
   ],
   "source": [
    "df = pd.DataFrame(columns=['Predicted Labels', 'Actual Labels'])\n",
    "df['Predicted Labels'] = y_pred.flatten()\n",
    "df['Actual Labels'] = y_test.flatten()\n",
    "\n",
    "df.head(10)"
   ]
  },
  {
   "cell_type": "code",
   "execution_count": 51,
   "metadata": {},
   "outputs": [
    {
     "data": {
      "image/png": "[encoded data removed]",
      "text/plain": [
       "<Figure size 864x720 with 2 Axes>"
      ]
     },
     "metadata": {
      "needs_background": "light"
     },
     "output_type": "display_data"
    }
   ],
   "source": [
    "cm = confusion_matrix(y_test, y_pred)\n",
    "plt.figure(figsize = (12, 10))\n",
    "cm = pd.DataFrame(cm , index = [i for i in encoder.categories_] , columns = [i for i in encoder.categories_])\n",
    "sns.heatmap(cm, linecolor='white', cmap='Blues', linewidth=1, annot=True, fmt='')\n",
    "plt.title('Confusion Matrix', size=20)\n",
    "plt.xlabel('Predicted Labels', size=14)\n",
    "plt.ylabel('Actual Labels', size=14)\n",
    "plt.show()"
   ]
  },
  {
   "cell_type": "code",
   "execution_count": 52,
   "metadata": {},
   "outputs": [
    {
     "name": "stdout",
     "output_type": "stream",
     "text": [
      "              precision    recall  f1-score   support\n",
      "\n",
      "       angry       0.64      0.76      0.70       194\n",
      "        calm       0.66      0.66      0.66       188\n",
      "     disgust       0.66      0.48      0.55       193\n",
      "        fear       0.54      0.48      0.51       191\n",
      "       happy       0.51      0.50      0.51       185\n",
      "     neutral       0.32      0.36      0.34        96\n",
      "         sad       0.51      0.47      0.49       184\n",
      "    surprise       0.52      0.62      0.57       209\n",
      "\n",
      "    accuracy                           0.56      1440\n",
      "   macro avg       0.54      0.54      0.54      1440\n",
      "weighted avg       0.56      0.56      0.55      1440\n",
      "\n"
     ]
    }
   ],
   "source": [
    "print(classification_report(y_test, y_pred))\n"
   ]
  },
  {
   "cell_type": "markdown",
   "metadata": {},
   "source": []
  }
 ],
 "metadata": {
  "interpreter": {
   "hash": "f3358073929bd3d27ff594bc6528257efc4213b34ba9d7c6bd240dce3a23a83d"
  },
  "kernelspec": {
   "display_name": "Python 3.9.7 64-bit ('torch_env': conda)",
   "language": "python",
   "name": "python3"
  },
  "language_info": {
   "codemirror_mode": {
    "name": "ipython",
    "version": 3
   },
   "file_extension": ".py",
   "mimetype": "text/x-python",
   "name": "python",
   "nbconvert_exporter": "python",
   "pygments_lexer": "ipython3",
   "version": "3.9.7"
  },
  "orig_nbformat": 4
 },
 "nbformat": 4,
 "nbformat_minor": 2
}
