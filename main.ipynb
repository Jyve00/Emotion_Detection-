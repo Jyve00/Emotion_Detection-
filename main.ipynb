{
 "cells": [
  {
   "cell_type": "markdown",
   "metadata": {},
   "source": [
    "# Emotion Detection Using Speech \n"
   ]
  },
  {
   "cell_type": "markdown",
   "metadata": {},
   "source": [
    "# Business Summary "
   ]
  },
  {
   "cell_type": "markdown",
   "metadata": {},
   "source": [
    "# Import Libraries "
   ]
  },
  {
   "cell_type": "code",
   "execution_count": 56,
   "metadata": {},
   "outputs": [],
   "source": [
    "\n",
    "\n",
    "import pandas as pd \n",
    "import numpy as np\n",
    "import math\n",
    "import os\n",
    "from scipy import signal \n",
    "import matplotlib.pyplot as plt\n",
    "import seaborn as sns\n",
    "import librosa \n",
    "import librosa.display \n",
    "\n",
    "from sklearn.preprocessing import StandardScaler, OneHotEncoder\n",
    "from sklearn.metrics import confusion_matrix, classification_report\n",
    "from sklearn.model_selection import train_test_split\n",
    "\n",
    "from tensorflow import keras\n",
    "from tensorflow.keras import layers\n",
    "from tensorflow.keras import Sequential\n",
    "from tensorflow.random import set_seed\n",
    "from keras import regularizers\n",
    "from keras.callbacks import EarlyStopping, ModelCheckpoint\n",
    "from keras.models import load_model\n",
    "from tensorflow.keras import optimizers\n",
    "from tensorflow.keras.layers import *\n",
    "from tensorflow.keras.callbacks import ReduceLROnPlateau"
   ]
  },
  {
   "cell_type": "markdown",
   "metadata": {},
   "source": [
    "# EDA \n",
    "\n",
    "The RAVDESS (Ryerson Audio-Visual Database of Emotional Speech and Song) is a widely used dataset for emotion classification using recorded speech because of its high quality and consistent audio quality.\n",
    "\n",
    "\n",
    "RAVDESS does not come with any sort of metadata table with information on the recordings but instead the filename themselves have all the information. Each filename has a 7 part numerical identifier (ex. 03-01-04-01-01-02-12.wav). The identifiers represent the following: \n",
    "\n",
    "    1.) Modality (01 = full-AV, 02 = video-only, 03 = audio-only).\n",
    "    2.) Vocal channel (01 = speech, 02 = song).\n",
    "    3.) Emotion (01 = neutral, 02 = calm, 03 = happy, 04 = sad, 05 = angry, 06 = fearful, 07 = disgust, 08 = surprised).\n",
    "    4.) Emotional intensity (01 = normal, 02 = strong). NOTE: There is no strong intensity for the ‘neutral’ emotion.\n",
    "    5.) Statement (01 = “Kids are talking by the door”, 02 = “Dogs are sitting by the door”).\n",
    "    6.) Repetition (01 = 1st repetition, 02 = 2nd repetition).\n",
    "    7.) Actor (01 to 24. Odd numbered actors are male, even numbered actors are female).\n",
    "\n",
    "So for example the file 03-01-04-01-01-02-12.wav contains the following metadata: \n",
    "\n",
    "    1.) Audio-only (03)\n",
    "    2.) Speech (01)\n",
    "    3.) Sad (04)\n",
    "    4.) Normal Intensity (01)\n",
    "    5.) \"Kids are talking by the door\" (01)\n",
    "    6.) Second Repetition (02)\n",
    "    7.) Actor-12 Male (12) "
   ]
  },
  {
   "cell_type": "code",
   "execution_count": 57,
   "metadata": {},
   "outputs": [
    {
     "data": {
      "text/html": [
       "<div>\n",
       "<style scoped>\n",
       "    .dataframe tbody tr th:only-of-type {\n",
       "        vertical-align: middle;\n",
       "    }\n",
       "\n",
       "    .dataframe tbody tr th {\n",
       "        vertical-align: top;\n",
       "    }\n",
       "\n",
       "    .dataframe thead th {\n",
       "        text-align: right;\n",
       "    }\n",
       "</style>\n",
       "<table border=\"1\" class=\"dataframe\">\n",
       "  <thead>\n",
       "    <tr style=\"text-align: right;\">\n",
       "      <th></th>\n",
       "      <th>Emotions</th>\n",
       "      <th>Path</th>\n",
       "    </tr>\n",
       "  </thead>\n",
       "  <tbody>\n",
       "    <tr>\n",
       "      <th>0</th>\n",
       "      <td>angry</td>\n",
       "      <td>/Users/stephen/Emotion_Detection-/data/RAVDESS...</td>\n",
       "    </tr>\n",
       "    <tr>\n",
       "      <th>1</th>\n",
       "      <td>fear</td>\n",
       "      <td>/Users/stephen/Emotion_Detection-/data/RAVDESS...</td>\n",
       "    </tr>\n",
       "    <tr>\n",
       "      <th>2</th>\n",
       "      <td>fear</td>\n",
       "      <td>/Users/stephen/Emotion_Detection-/data/RAVDESS...</td>\n",
       "    </tr>\n",
       "    <tr>\n",
       "      <th>3</th>\n",
       "      <td>angry</td>\n",
       "      <td>/Users/stephen/Emotion_Detection-/data/RAVDESS...</td>\n",
       "    </tr>\n",
       "    <tr>\n",
       "      <th>4</th>\n",
       "      <td>disgust</td>\n",
       "      <td>/Users/stephen/Emotion_Detection-/data/RAVDESS...</td>\n",
       "    </tr>\n",
       "  </tbody>\n",
       "</table>\n",
       "</div>"
      ],
      "text/plain": [
       "  Emotions                                               Path\n",
       "0    angry  /Users/stephen/Emotion_Detection-/data/RAVDESS...\n",
       "1     fear  /Users/stephen/Emotion_Detection-/data/RAVDESS...\n",
       "2     fear  /Users/stephen/Emotion_Detection-/data/RAVDESS...\n",
       "3    angry  /Users/stephen/Emotion_Detection-/data/RAVDESS...\n",
       "4  disgust  /Users/stephen/Emotion_Detection-/data/RAVDESS..."
      ]
     },
     "execution_count": 57,
     "metadata": {},
     "output_type": "execute_result"
    }
   ],
   "source": [
    "Ravdess = '/Users/stephen/Emotion_Detection-/data/RAVDESS/'\n",
    "\n",
    "ravdess_directory_list = os.listdir(Ravdess)\n",
    "ravdess_directory_list.sort\n",
    "\n",
    "file_emotion = []\n",
    "file_path = []\n",
    "for dir in ravdess_directory_list:\n",
    "    # as their are 20 different actors in our previous directory we need to extract files for each actor.\n",
    "    actor = os.listdir(Ravdess + dir)\n",
    "    for file in actor:\n",
    "        part = file.split('.')[0]\n",
    "        part = part.split('-')\n",
    "        # third part in each file represents the emotion associated to that file.\n",
    "        file_emotion.append(int(part[2]))\n",
    "        file_path.append(Ravdess + dir + '/' + file)\n",
    "        \n",
    "# dataframe for emotion of files\n",
    "emotion_df = pd.DataFrame(file_emotion, columns=['Emotions'])\n",
    "\n",
    "# dataframe for path of files.\n",
    "path_df = pd.DataFrame(file_path, columns=['Path'])\n",
    "Ravdess_df = pd.concat([emotion_df, path_df], axis=1)\n",
    "\n",
    "# changing integers to actual emotions.\n",
    "Ravdess_df.Emotions.replace({1:'neutral', 2:'calm', 3:'happy', 4:'sad', 5:'angry', 6:'fear', 7:'disgust', 8:'surprise'}, inplace=True)\n",
    "Ravdess_df.head()"
   ]
  },
  {
   "cell_type": "code",
   "execution_count": 58,
   "metadata": {},
   "outputs": [
    {
     "name": "stderr",
     "output_type": "stream",
     "text": [
      "/Users/stephen/opt/anaconda3/envs/torch_env/lib/python3.9/site-packages/seaborn/_decorators.py:36: FutureWarning: Pass the following variable as a keyword arg: x. From version 0.12, the only valid positional argument will be `data`, and passing other arguments without an explicit keyword will result in an error or misinterpretation.\n",
      "  warnings.warn(\n"
     ]
    },
    {
     "data": {
      "image/png": "[encoded data removed]",
      "text/plain": [
       "<Figure size 432x288 with 1 Axes>"
      ]
     },
     "metadata": {
      "needs_background": "light"
     },
     "output_type": "display_data"
    }
   ],
   "source": [
    "plt.title('Count of Emotions', size=16)\n",
    "sns.countplot(Ravdess_df.Emotions)\n",
    "plt.ylabel('Count', size=12)\n",
    "plt.xlabel('Emotions', size=12)\n",
    "sns.despine(top=True, right=True, left=False, bottom=False)\n",
    "plt.show()"
   ]
  },
  {
   "cell_type": "markdown",
   "metadata": {},
   "source": [
    "# Data Augmentation \n",
    "creating synthetic data \n",
    "\n"
   ]
  },
  {
   "cell_type": "code",
   "execution_count": 59,
   "metadata": {},
   "outputs": [],
   "source": [
    "# adding Additive White Gausian Noise\n",
    "def noise(data, SNR=10):   # https://medium.com/analytics-vidhya/adding-noise-to-audio-clips-5d8cee24ccb8\n",
    "    # RMS value of signal \n",
    "    RMS_s = math.sqrt(np.mean(data**2))\n",
    "    # RMS values of noise \n",
    "    RMS_n = math.sqrt(RMS_s**2/(pow(10,SNR/10)))\n",
    "    # using population formula for standard daviation \n",
    "\n",
    "    STD_n = RMS_n \n",
    "    noise = np.random.normal(0, STD_n, data.shape[0])\n",
    "    new_data = data + noise\n",
    "    return new_data\n",
    "\n",
    "# Time Strectching \n",
    "def stretch(data, rate=0.90):\n",
    "    return librosa.effects.time_stretch(data, rate)\n",
    "\n",
    "def shift(data):\n",
    "    shift_range = int(np.random.uniform(low=-2, high = 3)*1000)\n",
    "    return np.roll(data, shift_range)\n",
    "\n",
    "# Pre Emphasis     info on Pre-Emphasis in speech recognition: https://wiki.aalto.fi/display/ITSP/Pre-emphasis\n",
    "def pre_emphasize(data):\n",
    "    return librosa.effects.preemphasis(data, coef=1)\n",
    "\n",
    "def pitch(data, sampling_rate):\n",
    "    return librosa.effects.pitch_shift(data, sampling_rate, n_steps=1, bins_per_octave=24)"
   ]
  },
  {
   "cell_type": "markdown",
   "metadata": {},
   "source": [
    "# Extracting Audio Data Features "
   ]
  },
  {
   "cell_type": "markdown",
   "metadata": {},
   "source": [
    "# Baseline Model "
   ]
  },
  {
   "cell_type": "markdown",
   "metadata": {},
   "source": []
  },
  {
   "cell_type": "code",
   "execution_count": 60,
   "metadata": {},
   "outputs": [],
   "source": [
    "def mel_features(path): \n",
    "    result = np.array([])\n",
    "     \n",
    "    mel = np.mean(librosa.feature.melspectrogram(y=path, sr=16000).T, axis=0)\n",
    "    result = np.hstack((result, mel)) # stacking horizontally\n",
    "    \n",
    "    return result\n",
    "\n",
    "\n",
    "def get_mel_features(path): \n",
    "    # duration and offset are used to take care of the no audio in start and the ending of each audio files .\n",
    "    _data, sample_rate = librosa.load(path, sr=16000, duration=2.5, offset=0.6) \n",
    "    # apply High Pass filter to attenuate all signals below 80 hz\n",
    "    sos = signal.butter(4, 80, 'hp', fs=1000, output='sos') # butterworth filter \n",
    "    data = signal.sosfilt(sos, _data)\n",
    "\n",
    "\n",
    "    # without augmentation\n",
    "    res1 = mel_features(data)\n",
    "    result = np.array(res1)\n",
    "    \n",
    "    # data with noise\n",
    "    noise_data = noise(data)\n",
    "    res2 = mel_features(noise_data)\n",
    "    result = np.vstack((result, res2)) # stacking vertically\n",
    "    \n",
    "    # data with stretching and pitching\n",
    "    new_data = stretch(data)\n",
    "    data_stretch_pitch = pitch(new_data, sample_rate)\n",
    "    res3 = mel_features(data_stretch_pitch)\n",
    "    result = np.vstack((result, res3)) # stacking vertically\n",
    "\n",
    "    pre_emp_data = pre_emphasize(data)\n",
    "    res4 = mel_features(pre_emp_data)\n",
    "    result = np.vstack((result, res4)) # stacking vertically\n",
    "    \n",
    "    return result\n"
   ]
  },
  {
   "cell_type": "code",
   "execution_count": 61,
   "metadata": {},
   "outputs": [],
   "source": [
    "X, Y = [], []\n",
    "for path, emotion in zip(Ravdess_df.Path, Ravdess_df.Emotions):\n",
    "    feature = get_mel_features(path)\n",
    "    for ele in feature:\n",
    "        X.append(ele)\n",
    "        # appending emotion 4 times as we have made 4 augmentation techniques on each audio file.\n",
    "        Y.append(emotion)"
   ]
  },
  {
   "cell_type": "code",
   "execution_count": 62,
   "metadata": {},
   "outputs": [
    {
     "data": {
      "text/plain": [
       "(5760, 5760, (1440,))"
      ]
     },
     "execution_count": 62,
     "metadata": {},
     "output_type": "execute_result"
    }
   ],
   "source": [
    "len(X), len(Y), Ravdess_df.Path.shape"
   ]
  },
  {
   "cell_type": "code",
   "execution_count": 63,
   "metadata": {},
   "outputs": [
    {
     "data": {
      "text/html": [
       "<div>\n",
       "<style scoped>\n",
       "    .dataframe tbody tr th:only-of-type {\n",
       "        vertical-align: middle;\n",
       "    }\n",
       "\n",
       "    .dataframe tbody tr th {\n",
       "        vertical-align: top;\n",
       "    }\n",
       "\n",
       "    .dataframe thead th {\n",
       "        text-align: right;\n",
       "    }\n",
       "</style>\n",
       "<table border=\"1\" class=\"dataframe\">\n",
       "  <thead>\n",
       "    <tr style=\"text-align: right;\">\n",
       "      <th></th>\n",
       "      <th>0</th>\n",
       "      <th>1</th>\n",
       "      <th>2</th>\n",
       "      <th>3</th>\n",
       "      <th>4</th>\n",
       "      <th>5</th>\n",
       "      <th>6</th>\n",
       "      <th>7</th>\n",
       "      <th>8</th>\n",
       "      <th>9</th>\n",
       "      <th>...</th>\n",
       "      <th>119</th>\n",
       "      <th>120</th>\n",
       "      <th>121</th>\n",
       "      <th>122</th>\n",
       "      <th>123</th>\n",
       "      <th>124</th>\n",
       "      <th>125</th>\n",
       "      <th>126</th>\n",
       "      <th>127</th>\n",
       "      <th>labels</th>\n",
       "    </tr>\n",
       "  </thead>\n",
       "  <tbody>\n",
       "    <tr>\n",
       "      <th>0</th>\n",
       "      <td>6.164128e-14</td>\n",
       "      <td>6.467168e-14</td>\n",
       "      <td>9.365516e-14</td>\n",
       "      <td>2.751639e-13</td>\n",
       "      <td>1.373921e-12</td>\n",
       "      <td>1.474758e-10</td>\n",
       "      <td>3.422967e-09</td>\n",
       "      <td>1.843225e-08</td>\n",
       "      <td>3.115034e-07</td>\n",
       "      <td>8.323617e-07</td>\n",
       "      <td>...</td>\n",
       "      <td>0.007071</td>\n",
       "      <td>0.011748</td>\n",
       "      <td>0.011426</td>\n",
       "      <td>0.010883</td>\n",
       "      <td>0.006832</td>\n",
       "      <td>0.004739</td>\n",
       "      <td>0.003541</td>\n",
       "      <td>0.000767</td>\n",
       "      <td>0.000079</td>\n",
       "      <td>angry</td>\n",
       "    </tr>\n",
       "    <tr>\n",
       "      <th>1</th>\n",
       "      <td>1.369259e-03</td>\n",
       "      <td>1.611664e-03</td>\n",
       "      <td>1.616773e-03</td>\n",
       "      <td>1.795063e-03</td>\n",
       "      <td>1.591095e-03</td>\n",
       "      <td>1.746002e-03</td>\n",
       "      <td>1.484136e-03</td>\n",
       "      <td>1.942515e-03</td>\n",
       "      <td>2.011458e-03</td>\n",
       "      <td>2.019620e-03</td>\n",
       "      <td>...</td>\n",
       "      <td>0.008566</td>\n",
       "      <td>0.013377</td>\n",
       "      <td>0.013018</td>\n",
       "      <td>0.012499</td>\n",
       "      <td>0.008188</td>\n",
       "      <td>0.006304</td>\n",
       "      <td>0.005351</td>\n",
       "      <td>0.002465</td>\n",
       "      <td>0.001743</td>\n",
       "      <td>angry</td>\n",
       "    </tr>\n",
       "    <tr>\n",
       "      <th>2</th>\n",
       "      <td>1.178604e-10</td>\n",
       "      <td>1.039265e-10</td>\n",
       "      <td>1.455528e-10</td>\n",
       "      <td>1.033174e-10</td>\n",
       "      <td>1.240323e-10</td>\n",
       "      <td>1.216049e-10</td>\n",
       "      <td>2.604228e-10</td>\n",
       "      <td>1.444700e-09</td>\n",
       "      <td>3.345894e-08</td>\n",
       "      <td>1.548455e-07</td>\n",
       "      <td>...</td>\n",
       "      <td>0.000899</td>\n",
       "      <td>0.001422</td>\n",
       "      <td>0.002639</td>\n",
       "      <td>0.002793</td>\n",
       "      <td>0.002877</td>\n",
       "      <td>0.001478</td>\n",
       "      <td>0.000618</td>\n",
       "      <td>0.000194</td>\n",
       "      <td>0.000003</td>\n",
       "      <td>angry</td>\n",
       "    </tr>\n",
       "    <tr>\n",
       "      <th>3</th>\n",
       "      <td>1.722043e-12</td>\n",
       "      <td>1.725052e-12</td>\n",
       "      <td>1.730277e-12</td>\n",
       "      <td>1.737284e-12</td>\n",
       "      <td>1.749920e-12</td>\n",
       "      <td>2.304626e-12</td>\n",
       "      <td>1.729200e-11</td>\n",
       "      <td>1.135216e-10</td>\n",
       "      <td>2.349300e-09</td>\n",
       "      <td>6.907684e-09</td>\n",
       "      <td>...</td>\n",
       "      <td>0.025747</td>\n",
       "      <td>0.043559</td>\n",
       "      <td>0.043036</td>\n",
       "      <td>0.041581</td>\n",
       "      <td>0.026425</td>\n",
       "      <td>0.018571</td>\n",
       "      <td>0.013968</td>\n",
       "      <td>0.003045</td>\n",
       "      <td>0.000315</td>\n",
       "      <td>angry</td>\n",
       "    </tr>\n",
       "    <tr>\n",
       "      <th>4</th>\n",
       "      <td>2.379134e-12</td>\n",
       "      <td>2.385174e-12</td>\n",
       "      <td>2.407262e-12</td>\n",
       "      <td>2.489640e-12</td>\n",
       "      <td>3.177041e-12</td>\n",
       "      <td>5.186895e-11</td>\n",
       "      <td>1.157138e-09</td>\n",
       "      <td>2.065697e-08</td>\n",
       "      <td>1.564348e-07</td>\n",
       "      <td>5.026606e-07</td>\n",
       "      <td>...</td>\n",
       "      <td>0.001535</td>\n",
       "      <td>0.001610</td>\n",
       "      <td>0.001820</td>\n",
       "      <td>0.001444</td>\n",
       "      <td>0.001527</td>\n",
       "      <td>0.002631</td>\n",
       "      <td>0.002630</td>\n",
       "      <td>0.000628</td>\n",
       "      <td>0.000026</td>\n",
       "      <td>fear</td>\n",
       "    </tr>\n",
       "  </tbody>\n",
       "</table>\n",
       "<p>5 rows × 129 columns</p>\n",
       "</div>"
      ],
      "text/plain": [
       "              0             1             2             3             4  \\\n",
       "0  6.164128e-14  6.467168e-14  9.365516e-14  2.751639e-13  1.373921e-12   \n",
       "1  1.369259e-03  1.611664e-03  1.616773e-03  1.795063e-03  1.591095e-03   \n",
       "2  1.178604e-10  1.039265e-10  1.455528e-10  1.033174e-10  1.240323e-10   \n",
       "3  1.722043e-12  1.725052e-12  1.730277e-12  1.737284e-12  1.749920e-12   \n",
       "4  2.379134e-12  2.385174e-12  2.407262e-12  2.489640e-12  3.177041e-12   \n",
       "\n",
       "              5             6             7             8             9  ...  \\\n",
       "0  1.474758e-10  3.422967e-09  1.843225e-08  3.115034e-07  8.323617e-07  ...   \n",
       "1  1.746002e-03  1.484136e-03  1.942515e-03  2.011458e-03  2.019620e-03  ...   \n",
       "2  1.216049e-10  2.604228e-10  1.444700e-09  3.345894e-08  1.548455e-07  ...   \n",
       "3  2.304626e-12  1.729200e-11  1.135216e-10  2.349300e-09  6.907684e-09  ...   \n",
       "4  5.186895e-11  1.157138e-09  2.065697e-08  1.564348e-07  5.026606e-07  ...   \n",
       "\n",
       "        119       120       121       122       123       124       125  \\\n",
       "0  0.007071  0.011748  0.011426  0.010883  0.006832  0.004739  0.003541   \n",
       "1  0.008566  0.013377  0.013018  0.012499  0.008188  0.006304  0.005351   \n",
       "2  0.000899  0.001422  0.002639  0.002793  0.002877  0.001478  0.000618   \n",
       "3  0.025747  0.043559  0.043036  0.041581  0.026425  0.018571  0.013968   \n",
       "4  0.001535  0.001610  0.001820  0.001444  0.001527  0.002631  0.002630   \n",
       "\n",
       "        126       127  labels  \n",
       "0  0.000767  0.000079   angry  \n",
       "1  0.002465  0.001743   angry  \n",
       "2  0.000194  0.000003   angry  \n",
       "3  0.003045  0.000315   angry  \n",
       "4  0.000628  0.000026    fear  \n",
       "\n",
       "[5 rows x 129 columns]"
      ]
     },
     "execution_count": 63,
     "metadata": {},
     "output_type": "execute_result"
    }
   ],
   "source": [
    "Features = pd.DataFrame(X)\n",
    "Features['labels'] = Y\n",
    "Features.to_csv('features.csv', index=False)\n",
    "Features.head()"
   ]
  },
  {
   "cell_type": "code",
   "execution_count": 64,
   "metadata": {},
   "outputs": [],
   "source": [
    "X = Features.iloc[: ,:-1].values\n",
    "Y = Features['labels'].values"
   ]
  },
  {
   "cell_type": "code",
   "execution_count": 65,
   "metadata": {},
   "outputs": [],
   "source": [
    "# As this is a multiclass classification problem onehotencoding our Y.\n",
    "encoder = OneHotEncoder()\n",
    "Y = encoder.fit_transform(np.array(Y).reshape(-1,1)).toarray()"
   ]
  },
  {
   "cell_type": "code",
   "execution_count": 66,
   "metadata": {},
   "outputs": [
    {
     "data": {
      "text/plain": [
       "((4320, 128), (4320, 8), (1440, 128), (1440, 8))"
      ]
     },
     "execution_count": 66,
     "metadata": {},
     "output_type": "execute_result"
    }
   ],
   "source": [
    "# splitting data\n",
    "x_train, x_test, y_train, y_test = train_test_split(X, Y, random_state=0, shuffle=True)\n",
    "x_train.shape, y_train.shape, x_test.shape, y_test.shape"
   ]
  },
  {
   "cell_type": "code",
   "execution_count": 67,
   "metadata": {},
   "outputs": [
    {
     "data": {
      "text/plain": [
       "((4320, 128), (4320, 8), (1440, 128), (1440, 8))"
      ]
     },
     "execution_count": 67,
     "metadata": {},
     "output_type": "execute_result"
    }
   ],
   "source": [
    "# scaling our data with sklearn's Standard scaler\n",
    "scaler = StandardScaler()\n",
    "x_train = scaler.fit_transform(x_train)\n",
    "x_test = scaler.transform(x_test)\n",
    "x_train.shape, y_train.shape, x_test.shape, y_test.shape"
   ]
  },
  {
   "cell_type": "code",
   "execution_count": 68,
   "metadata": {},
   "outputs": [
    {
     "data": {
      "text/plain": [
       "((4320, 128, 1), (4320, 8), (1440, 128, 1), (1440, 8))"
      ]
     },
     "execution_count": 68,
     "metadata": {},
     "output_type": "execute_result"
    }
   ],
   "source": [
    "# making our data compatible to model.\n",
    "x_train = np.expand_dims(x_train, axis=2)\n",
    "x_test = np.expand_dims(x_test, axis=2)\n",
    "x_train.shape, y_train.shape, x_test.shape, y_test.shape"
   ]
  },
  {
   "cell_type": "code",
   "execution_count": 69,
   "metadata": {},
   "outputs": [
    {
     "name": "stdout",
     "output_type": "stream",
     "text": [
      "Model: \"sequential\"\n",
      "_________________________________________________________________\n",
      " Layer (type)                Output Shape              Param #   \n",
      "=================================================================\n",
      " conv1d (Conv1D)             (None, 128, 256)          1536      \n",
      "                                                                 \n",
      " max_pooling1d (MaxPooling1D  (None, 64, 256)          0         \n",
      " )                                                               \n",
      "                                                                 \n",
      " conv1d_1 (Conv1D)           (None, 64, 256)           327936    \n",
      "                                                                 \n",
      " max_pooling1d_1 (MaxPooling  (None, 32, 256)          0         \n",
      " 1D)                                                             \n",
      "                                                                 \n",
      " conv1d_2 (Conv1D)           (None, 32, 128)           163968    \n",
      "                                                                 \n",
      " max_pooling1d_2 (MaxPooling  (None, 16, 128)          0         \n",
      " 1D)                                                             \n",
      "                                                                 \n",
      " dropout (Dropout)           (None, 16, 128)           0         \n",
      "                                                                 \n",
      " conv1d_3 (Conv1D)           (None, 16, 64)            41024     \n",
      "                                                                 \n",
      " max_pooling1d_3 (MaxPooling  (None, 8, 64)            0         \n",
      " 1D)                                                             \n",
      "                                                                 \n",
      " flatten (Flatten)           (None, 512)               0         \n",
      "                                                                 \n",
      " dense (Dense)               (None, 32)                16416     \n",
      "                                                                 \n",
      " dropout_1 (Dropout)         (None, 32)                0         \n",
      "                                                                 \n",
      " flatten_1 (Flatten)         (None, 32)                0         \n",
      "                                                                 \n",
      " dense_1 (Dense)             (None, 8)                 264       \n",
      "                                                                 \n",
      "=================================================================\n",
      "Total params: 551,144\n",
      "Trainable params: 551,144\n",
      "Non-trainable params: 0\n",
      "_________________________________________________________________\n"
     ]
    },
    {
     "name": "stderr",
     "output_type": "stream",
     "text": [
      "2021-12-05 20:30:59.039010: I tensorflow/core/platform/cpu_feature_guard.cc:151] This TensorFlow binary is optimized with oneAPI Deep Neural Network Library (oneDNN) to use the following CPU instructions in performance-critical operations:  AVX2 FMA\n",
      "To enable them in other operations, rebuild TensorFlow with the appropriate compiler flags.\n"
     ]
    }
   ],
   "source": [
    "model=Sequential()\n",
    "model.add(Conv1D(256, kernel_size=5, strides=1, padding='same', activation='relu', input_shape=(x_train.shape[1], 1)))\n",
    "model.add(MaxPooling1D(pool_size=5, strides = 2, padding = 'same'))\n",
    "\n",
    "model.add(Conv1D(256, kernel_size=5, strides=1, padding='same', activation='relu'))\n",
    "model.add(MaxPooling1D(pool_size=5, strides = 2, padding = 'same'))\n",
    "\n",
    "model.add(Conv1D(128, kernel_size=5, strides=1, padding='same', activation='relu'))\n",
    "model.add(MaxPooling1D(pool_size=5, strides = 2, padding = 'same'))\n",
    "model.add(Dropout(0.2))\n",
    "\n",
    "model.add(Conv1D(64, kernel_size=5, strides=1, padding='same', activation='relu'))\n",
    "model.add(MaxPooling1D(pool_size=5, strides = 2, padding = 'same'))\n",
    "\n",
    "model.add(Flatten())\n",
    "model.add(Dense(units=32, activation='relu'))\n",
    "model.add(Dropout(0.3))\n",
    "\n",
    "model.add(Flatten())\n",
    "model.add(Dense(units=8, activation='softmax'))\n",
    "model.compile(optimizer = 'adam' , loss = 'categorical_crossentropy' , metrics = ['accuracy'])\n",
    "\n",
    "model.summary()"
   ]
  },
  {
   "cell_type": "code",
   "execution_count": 70,
   "metadata": {},
   "outputs": [
    {
     "name": "stdout",
     "output_type": "stream",
     "text": [
      "Epoch 1/50\n",
      "68/68 [==============================] - 6s 81ms/step - loss: 2.0145 - accuracy: 0.1884 - val_loss: 1.9518 - val_accuracy: 0.2090 - lr: 0.0010\n",
      "Epoch 2/50\n",
      "68/68 [==============================] - 5s 75ms/step - loss: 1.9370 - accuracy: 0.2220 - val_loss: 1.8885 - val_accuracy: 0.2500 - lr: 0.0010\n",
      "Epoch 3/50\n",
      "68/68 [==============================] - 5s 74ms/step - loss: 1.8990 - accuracy: 0.2403 - val_loss: 1.9046 - val_accuracy: 0.2285 - lr: 0.0010\n",
      "Epoch 4/50\n",
      "68/68 [==============================] - 5s 72ms/step - loss: 1.8671 - accuracy: 0.2465 - val_loss: 1.9302 - val_accuracy: 0.2375 - lr: 0.0010\n",
      "Epoch 5/50\n",
      "68/68 [==============================] - 5s 78ms/step - loss: 1.8703 - accuracy: 0.2495 - val_loss: 1.8295 - val_accuracy: 0.2625 - lr: 0.0010\n",
      "Epoch 6/50\n",
      "68/68 [==============================] - 6s 89ms/step - loss: 1.8453 - accuracy: 0.2623 - val_loss: 1.8010 - val_accuracy: 0.2812 - lr: 0.0010\n",
      "Epoch 7/50\n",
      "68/68 [==============================] - 5s 75ms/step - loss: 1.8310 - accuracy: 0.2625 - val_loss: 1.8065 - val_accuracy: 0.2701 - lr: 0.0010\n",
      "Epoch 8/50\n",
      "68/68 [==============================] - 5s 74ms/step - loss: 1.8131 - accuracy: 0.2796 - val_loss: 1.7924 - val_accuracy: 0.2993 - lr: 0.0010\n",
      "Epoch 9/50\n",
      "68/68 [==============================] - 5s 72ms/step - loss: 1.8219 - accuracy: 0.2762 - val_loss: 1.7964 - val_accuracy: 0.2882 - lr: 0.0010\n",
      "Epoch 10/50\n",
      "68/68 [==============================] - 6s 82ms/step - loss: 1.8084 - accuracy: 0.2880 - val_loss: 1.7959 - val_accuracy: 0.3042 - lr: 0.0010\n",
      "Epoch 11/50\n",
      "68/68 [==============================] - 6s 84ms/step - loss: 1.8043 - accuracy: 0.2889 - val_loss: 1.7945 - val_accuracy: 0.2833 - lr: 0.0010\n",
      "Epoch 12/50\n",
      "68/68 [==============================] - 5s 77ms/step - loss: 1.8038 - accuracy: 0.2896 - val_loss: 1.8151 - val_accuracy: 0.2993 - lr: 0.0010\n",
      "Epoch 13/50\n",
      "68/68 [==============================] - 5s 77ms/step - loss: 1.7957 - accuracy: 0.2806 - val_loss: 1.7797 - val_accuracy: 0.3090 - lr: 0.0010\n",
      "Epoch 14/50\n",
      "68/68 [==============================] - 5s 78ms/step - loss: 1.7717 - accuracy: 0.2921 - val_loss: 1.7642 - val_accuracy: 0.3056 - lr: 0.0010\n",
      "Epoch 15/50\n",
      "68/68 [==============================] - 5s 78ms/step - loss: 1.7834 - accuracy: 0.2993 - val_loss: 1.7943 - val_accuracy: 0.3083 - lr: 0.0010\n",
      "Epoch 16/50\n",
      "68/68 [==============================] - 5s 77ms/step - loss: 1.7777 - accuracy: 0.2958 - val_loss: 1.7554 - val_accuracy: 0.2965 - lr: 0.0010\n",
      "Epoch 17/50\n",
      "68/68 [==============================] - 7s 98ms/step - loss: 1.7484 - accuracy: 0.3090 - val_loss: 1.7322 - val_accuracy: 0.3167 - lr: 4.0000e-04\n",
      "Epoch 18/50\n",
      "68/68 [==============================] - 6s 82ms/step - loss: 1.7312 - accuracy: 0.3074 - val_loss: 1.7369 - val_accuracy: 0.3201 - lr: 4.0000e-04\n",
      "Epoch 19/50\n",
      "68/68 [==============================] - 5s 77ms/step - loss: 1.7395 - accuracy: 0.3106 - val_loss: 1.7316 - val_accuracy: 0.3153 - lr: 4.0000e-04\n",
      "Epoch 20/50\n",
      "68/68 [==============================] - 6s 85ms/step - loss: 1.7451 - accuracy: 0.3125 - val_loss: 1.7286 - val_accuracy: 0.3313 - lr: 4.0000e-04\n",
      "Epoch 21/50\n",
      "68/68 [==============================] - 5s 78ms/step - loss: 1.7239 - accuracy: 0.3197 - val_loss: 1.7195 - val_accuracy: 0.3250 - lr: 1.6000e-04\n",
      "Epoch 22/50\n",
      "68/68 [==============================] - 5s 78ms/step - loss: 1.7188 - accuracy: 0.3206 - val_loss: 1.7155 - val_accuracy: 0.3208 - lr: 1.6000e-04\n",
      "Epoch 23/50\n",
      "68/68 [==============================] - 5s 79ms/step - loss: 1.7193 - accuracy: 0.3190 - val_loss: 1.7142 - val_accuracy: 0.3278 - lr: 1.6000e-04\n",
      "Epoch 24/50\n",
      "68/68 [==============================] - 6s 94ms/step - loss: 1.7156 - accuracy: 0.3211 - val_loss: 1.7132 - val_accuracy: 0.3285 - lr: 1.6000e-04\n",
      "Epoch 25/50\n",
      "68/68 [==============================] - 6s 91ms/step - loss: 1.7194 - accuracy: 0.3176 - val_loss: 1.7122 - val_accuracy: 0.3361 - lr: 1.6000e-04\n",
      "Epoch 26/50\n",
      "68/68 [==============================] - 5s 79ms/step - loss: 1.7079 - accuracy: 0.3197 - val_loss: 1.7060 - val_accuracy: 0.3292 - lr: 1.6000e-04\n",
      "Epoch 27/50\n",
      "68/68 [==============================] - 5s 81ms/step - loss: 1.7108 - accuracy: 0.3213 - val_loss: 1.7047 - val_accuracy: 0.3299 - lr: 1.6000e-04\n",
      "Epoch 28/50\n",
      "68/68 [==============================] - 6s 94ms/step - loss: 1.7009 - accuracy: 0.3190 - val_loss: 1.6990 - val_accuracy: 0.3306 - lr: 1.6000e-04\n",
      "Epoch 29/50\n",
      "68/68 [==============================] - 6s 85ms/step - loss: 1.7059 - accuracy: 0.3285 - val_loss: 1.7023 - val_accuracy: 0.3347 - lr: 1.6000e-04\n",
      "Epoch 30/50\n",
      "68/68 [==============================] - 6s 85ms/step - loss: 1.7036 - accuracy: 0.3308 - val_loss: 1.6994 - val_accuracy: 0.3208 - lr: 1.6000e-04\n",
      "Epoch 31/50\n",
      "68/68 [==============================] - 5s 73ms/step - loss: 1.6942 - accuracy: 0.3255 - val_loss: 1.6950 - val_accuracy: 0.3285 - lr: 6.4000e-05\n",
      "Epoch 32/50\n",
      "68/68 [==============================] - 5s 72ms/step - loss: 1.6949 - accuracy: 0.3292 - val_loss: 1.6991 - val_accuracy: 0.3285 - lr: 6.4000e-05\n",
      "Epoch 33/50\n",
      "68/68 [==============================] - 5s 76ms/step - loss: 1.6920 - accuracy: 0.3377 - val_loss: 1.6897 - val_accuracy: 0.3313 - lr: 6.4000e-05\n",
      "Epoch 34/50\n",
      "68/68 [==============================] - 5s 71ms/step - loss: 1.6903 - accuracy: 0.3333 - val_loss: 1.6895 - val_accuracy: 0.3292 - lr: 6.4000e-05\n",
      "Epoch 35/50\n",
      "68/68 [==============================] - 5s 72ms/step - loss: 1.6917 - accuracy: 0.3285 - val_loss: 1.6883 - val_accuracy: 0.3292 - lr: 6.4000e-05\n",
      "Epoch 36/50\n",
      "68/68 [==============================] - 5s 79ms/step - loss: 1.6919 - accuracy: 0.3289 - val_loss: 1.6898 - val_accuracy: 0.3299 - lr: 6.4000e-05\n",
      "Epoch 37/50\n",
      "68/68 [==============================] - 5s 74ms/step - loss: 1.6857 - accuracy: 0.3333 - val_loss: 1.6882 - val_accuracy: 0.3333 - lr: 2.5600e-05\n",
      "Epoch 38/50\n",
      "68/68 [==============================] - 6s 86ms/step - loss: 1.6829 - accuracy: 0.3343 - val_loss: 1.6869 - val_accuracy: 0.3306 - lr: 2.5600e-05\n",
      "Epoch 39/50\n",
      "68/68 [==============================] - 6s 92ms/step - loss: 1.6840 - accuracy: 0.3350 - val_loss: 1.6860 - val_accuracy: 0.3306 - lr: 2.5600e-05\n",
      "Epoch 40/50\n",
      "68/68 [==============================] - 6s 91ms/step - loss: 1.6808 - accuracy: 0.3384 - val_loss: 1.6881 - val_accuracy: 0.3326 - lr: 2.5600e-05\n",
      "Epoch 41/50\n",
      "68/68 [==============================] - 5s 72ms/step - loss: 1.6931 - accuracy: 0.3292 - val_loss: 1.6852 - val_accuracy: 0.3361 - lr: 2.5600e-05\n",
      "Epoch 42/50\n",
      "68/68 [==============================] - 5s 72ms/step - loss: 1.6834 - accuracy: 0.3338 - val_loss: 1.6861 - val_accuracy: 0.3319 - lr: 2.5600e-05\n",
      "Epoch 43/50\n",
      "68/68 [==============================] - 5s 71ms/step - loss: 1.6794 - accuracy: 0.3368 - val_loss: 1.6844 - val_accuracy: 0.3326 - lr: 1.0240e-05\n",
      "Epoch 44/50\n",
      "68/68 [==============================] - 5s 71ms/step - loss: 1.6902 - accuracy: 0.3262 - val_loss: 1.6850 - val_accuracy: 0.3319 - lr: 1.0240e-05\n",
      "Epoch 45/50\n",
      "68/68 [==============================] - 5s 71ms/step - loss: 1.6781 - accuracy: 0.3463 - val_loss: 1.6848 - val_accuracy: 0.3326 - lr: 1.0240e-05\n",
      "Epoch 46/50\n",
      "68/68 [==============================] - 5s 71ms/step - loss: 1.6873 - accuracy: 0.3303 - val_loss: 1.6846 - val_accuracy: 0.3340 - lr: 1.0240e-05\n",
      "Epoch 47/50\n",
      "68/68 [==============================] - 5s 71ms/step - loss: 1.6828 - accuracy: 0.3350 - val_loss: 1.6845 - val_accuracy: 0.3340 - lr: 1.0240e-05\n",
      "Epoch 48/50\n",
      "68/68 [==============================] - 5s 72ms/step - loss: 1.6848 - accuracy: 0.3324 - val_loss: 1.6846 - val_accuracy: 0.3313 - lr: 4.0960e-06\n",
      "Epoch 49/50\n",
      "68/68 [==============================] - 5s 71ms/step - loss: 1.6771 - accuracy: 0.3363 - val_loss: 1.6843 - val_accuracy: 0.3347 - lr: 4.0960e-06\n",
      "Epoch 50/50\n",
      "68/68 [==============================] - 5s 71ms/step - loss: 1.6854 - accuracy: 0.3326 - val_loss: 1.6845 - val_accuracy: 0.3306 - lr: 4.0960e-06\n"
     ]
    }
   ],
   "source": [
    "rlrp = ReduceLROnPlateau(monitor='loss', factor=0.4, verbose=0, patience=2, min_lr=0.0000001)\n",
    "history=model.fit(x_train, y_train, batch_size=64, epochs=50, validation_data=(x_test, y_test), callbacks=[rlrp])"
   ]
  },
  {
   "cell_type": "code",
   "execution_count": 71,
   "metadata": {},
   "outputs": [
    {
     "data": {
      "text/plain": [
       "(1440, 8)"
      ]
     },
     "execution_count": 71,
     "metadata": {},
     "output_type": "execute_result"
    }
   ],
   "source": [
    "y_test.shape"
   ]
  },
  {
   "cell_type": "code",
   "execution_count": 72,
   "metadata": {},
   "outputs": [
    {
     "name": "stdout",
     "output_type": "stream",
     "text": [
      "45/45 [==============================] - 1s 11ms/step - loss: 1.6845 - accuracy: 0.3306\n",
      "Accuracy of our model on test data :  33.05555582046509 %\n"
     ]
    },
    {
     "data": {
      "image/png": "[encoded data removed]",
      "text/plain": [
       "<Figure size 1440x432 with 2 Axes>"
      ]
     },
     "metadata": {
      "needs_background": "light"
     },
     "output_type": "display_data"
    },
    {
     "data": {
      "text/plain": [
       "<Figure size 432x288 with 0 Axes>"
      ]
     },
     "metadata": {},
     "output_type": "display_data"
    }
   ],
   "source": [
    "print(\"Accuracy of our model on test data : \" , model.evaluate(x_test,y_test)[1]*100 , \"%\")\n",
    "\n",
    "epochs = [i for i in range(50)]\n",
    "fig , ax = plt.subplots(1,2)\n",
    "train_acc = history.history['accuracy']\n",
    "train_loss = history.history['loss']\n",
    "test_acc = history.history['val_accuracy']\n",
    "test_loss = history.history['val_loss']\n",
    "\n",
    "fig.set_size_inches(20,6)\n",
    "ax[0].plot(epochs , train_loss , label = 'Training Loss')\n",
    "ax[0].plot(epochs , test_loss , label = 'Testing Loss')\n",
    "ax[0].set_title('Training & Testing Loss')\n",
    "ax[0].legend()\n",
    "ax[0].set_xlabel(\"Epochs\")\n",
    "\n",
    "ax[1].plot(epochs , train_acc , label = 'Training Accuracy')\n",
    "ax[1].plot(epochs , test_acc , label = 'Testing Accuracy')\n",
    "ax[1].set_title('Training & Testing Accuracy')\n",
    "ax[1].legend()\n",
    "ax[1].set_xlabel(\"Epochs\")\n",
    "plt.show()\n",
    "plt.savefig('Model Results')"
   ]
  },
  {
   "cell_type": "markdown",
   "metadata": {},
   "source": [
    "# Model with more feature extractions \n"
   ]
  },
  {
   "cell_type": "code",
   "execution_count": 74,
   "metadata": {},
   "outputs": [
    {
     "data": {
      "text/plain": [
       "array([[[-0.14016697],\n",
       "        [-0.14099848],\n",
       "        [-0.1379908 ],\n",
       "        ...,\n",
       "        [-0.27846762],\n",
       "        [-0.19627316],\n",
       "        [-0.14299119]],\n",
       "\n",
       "       [[-0.14016697],\n",
       "        [-0.14099848],\n",
       "        [-0.1379908 ],\n",
       "        ...,\n",
       "        [-0.27925086],\n",
       "        [-0.19656686],\n",
       "        [-0.14299714]],\n",
       "\n",
       "       [[-0.14016697],\n",
       "        [-0.14099848],\n",
       "        [-0.1379908 ],\n",
       "        ...,\n",
       "        [-0.27905805],\n",
       "        [-0.19649464],\n",
       "        [-0.14300034]],\n",
       "\n",
       "       ...,\n",
       "\n",
       "       [[-0.12147053],\n",
       "        [-0.12271017],\n",
       "        [-0.1238924 ],\n",
       "        ...,\n",
       "        [-0.16987686],\n",
       "        [-0.12545545],\n",
       "        [-0.12076216]],\n",
       "\n",
       "       [[-0.14016696],\n",
       "        [-0.14099847],\n",
       "        [-0.13799079],\n",
       "        ...,\n",
       "        [-0.22043991],\n",
       "        [-0.18136492],\n",
       "        [-0.14193496]],\n",
       "\n",
       "       [[-0.14016697],\n",
       "        [-0.14099848],\n",
       "        [-0.1379908 ],\n",
       "        ...,\n",
       "        [-0.24185868],\n",
       "        [-0.18013976],\n",
       "        [-0.14231431]]])"
      ]
     },
     "execution_count": 74,
     "metadata": {},
     "output_type": "execute_result"
    }
   ],
   "source": [
    "x_train"
   ]
  },
  {
   "cell_type": "code",
   "execution_count": 75,
   "metadata": {},
   "outputs": [],
   "source": [
    "%reset"
   ]
  },
  {
   "cell_type": "markdown",
   "metadata": {},
   "source": []
  }
 ],
 "metadata": {
  "interpreter": {
   "hash": "f3358073929bd3d27ff594bc6528257efc4213b34ba9d7c6bd240dce3a23a83d"
  },
  "kernelspec": {
   "display_name": "Python 3.9.7 64-bit ('torch_env': conda)",
   "language": "python",
   "name": "python3"
  },
  "language_info": {
   "codemirror_mode": {
    "name": "ipython",
    "version": 3
   },
   "file_extension": ".py",
   "mimetype": "text/x-python",
   "name": "python",
   "nbconvert_exporter": "python",
   "pygments_lexer": "ipython3",
   "version": "3.9.7"
  },
  "orig_nbformat": 4
 },
 "nbformat": 4,
 "nbformat_minor": 2
}
