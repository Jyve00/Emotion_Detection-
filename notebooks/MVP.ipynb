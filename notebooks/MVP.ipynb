{
 "cells": [
  {
   "cell_type": "markdown",
   "metadata": {},
   "source": [
    "# Speech Recognition with Delta-Delta's\n",
    "This model will convert recorded speech data into Mel-Spectrogram and then to Delta and finally the Delta-Delta's."
   ]
  },
  {
   "cell_type": "code",
   "execution_count": 112,
   "metadata": {},
   "outputs": [],
   "source": [
    "import pandas as pd \n",
    "import numpy as np\n",
    "import math\n",
    "import os\n",
    "from scipy import signal \n",
    "import matplotlib.pyplot as plt\n",
    "import seaborn as sns\n",
    "import librosa \n",
    "import librosa.display \n",
    "\n",
    "from sklearn.preprocessing import StandardScaler, OneHotEncoder\n",
    "from sklearn.metrics import confusion_matrix, classification_report\n",
    "from sklearn.model_selection import train_test_split\n",
    "\n",
    "from tensorflow import keras\n",
    "from tensorflow.keras import layers\n",
    "from tensorflow.keras import Sequential\n",
    "from tensorflow.random import set_seed\n",
    "from keras import regularizers\n",
    "from keras.callbacks import EarlyStopping, ModelCheckpoint\n",
    "from keras.models import load_model\n",
    "from tensorflow.keras import optimizers\n",
    "from tensorflow.keras.layers import *\n",
    "from tensorflow.keras.callbacks import ReduceLROnPlateau"
   ]
  },
  {
   "cell_type": "markdown",
   "metadata": {},
   "source": [
    "# Organizing Data\n",
    "loading in a CSV that was created in EDA https://github.com/Jyve00/Emotion_Dectection/blob/main/EDA.ipynb"
   ]
  },
  {
   "cell_type": "code",
   "execution_count": 113,
   "metadata": {},
   "outputs": [
    {
     "data": {
      "text/html": [
       "<div>\n",
       "<style scoped>\n",
       "    .dataframe tbody tr th:only-of-type {\n",
       "        vertical-align: middle;\n",
       "    }\n",
       "\n",
       "    .dataframe tbody tr th {\n",
       "        vertical-align: top;\n",
       "    }\n",
       "\n",
       "    .dataframe thead th {\n",
       "        text-align: right;\n",
       "    }\n",
       "</style>\n",
       "<table border=\"1\" class=\"dataframe\">\n",
       "  <thead>\n",
       "    <tr style=\"text-align: right;\">\n",
       "      <th></th>\n",
       "      <th>Emotions</th>\n",
       "      <th>Path</th>\n",
       "    </tr>\n",
       "  </thead>\n",
       "  <tbody>\n",
       "    <tr>\n",
       "      <th>0</th>\n",
       "      <td>angry</td>\n",
       "      <td>/Users/stephen/Emotion_Detection-/data/RAVDESS...</td>\n",
       "    </tr>\n",
       "    <tr>\n",
       "      <th>1</th>\n",
       "      <td>fear</td>\n",
       "      <td>/Users/stephen/Emotion_Detection-/data/RAVDESS...</td>\n",
       "    </tr>\n",
       "    <tr>\n",
       "      <th>2</th>\n",
       "      <td>fear</td>\n",
       "      <td>/Users/stephen/Emotion_Detection-/data/RAVDESS...</td>\n",
       "    </tr>\n",
       "    <tr>\n",
       "      <th>3</th>\n",
       "      <td>angry</td>\n",
       "      <td>/Users/stephen/Emotion_Detection-/data/RAVDESS...</td>\n",
       "    </tr>\n",
       "    <tr>\n",
       "      <th>4</th>\n",
       "      <td>disgust</td>\n",
       "      <td>/Users/stephen/Emotion_Detection-/data/RAVDESS...</td>\n",
       "    </tr>\n",
       "  </tbody>\n",
       "</table>\n",
       "</div>"
      ],
      "text/plain": [
       "  Emotions                                               Path\n",
       "0    angry  /Users/stephen/Emotion_Detection-/data/RAVDESS...\n",
       "1     fear  /Users/stephen/Emotion_Detection-/data/RAVDESS...\n",
       "2     fear  /Users/stephen/Emotion_Detection-/data/RAVDESS...\n",
       "3    angry  /Users/stephen/Emotion_Detection-/data/RAVDESS...\n",
       "4  disgust  /Users/stephen/Emotion_Detection-/data/RAVDESS..."
      ]
     },
     "execution_count": 113,
     "metadata": {},
     "output_type": "execute_result"
    }
   ],
   "source": [
    "Ravdess = '/Users/stephen/Emotion_Detection-/data/RAVDESS/'\n",
    "\n",
    "ravdess_directory_list = os.listdir(Ravdess)\n",
    "ravdess_directory_list.sort\n",
    "\n",
    "file_emotion = []\n",
    "file_path = []\n",
    "for dir in ravdess_directory_list:\n",
    "    # as their are 20 different actors in our previous directory we need to extract files for each actor.\n",
    "    actor = os.listdir(Ravdess + dir)\n",
    "    for file in actor:\n",
    "        part = file.split('.')[0]\n",
    "        part = part.split('-')\n",
    "        # third part in each file represents the emotion associated to that file.\n",
    "        file_emotion.append(int(part[2]))\n",
    "        file_path.append(Ravdess + dir + '/' + file)\n",
    "        \n",
    "# dataframe for emotion of files\n",
    "emotion_df = pd.DataFrame(file_emotion, columns=['Emotions'])\n",
    "\n",
    "# dataframe for path of files.\n",
    "path_df = pd.DataFrame(file_path, columns=['Path'])\n",
    "Ravdess_df = pd.concat([emotion_df, path_df], axis=1)\n",
    "\n",
    "# changing integers to actual emotions.\n",
    "Ravdess_df.Emotions.replace({1:'neutral', 2:'calm', 3:'happy', 4:'sad', 5:'angry', 6:'fear', 7:'disgust', 8:'surprise'}, inplace=True)\n",
    "Ravdess_df.head()"
   ]
  },
  {
   "cell_type": "markdown",
   "metadata": {},
   "source": [
    "# Data Augmentation Functions\n",
    "It is common practice to transform audio data with data augmentation tools like time adding white noise, time-stretching and pitch shifts. We'll make duplicates of each wav file so our model will have more variable input data."
   ]
  },
  {
   "cell_type": "code",
   "execution_count": 114,
   "metadata": {},
   "outputs": [
    {
     "name": "stdout",
     "output_type": "stream",
     "text": [
      ".wav file shape: (61929,)\n",
      "sample rate: 16000\n"
     ]
    },
    {
     "data": {
      "text/plain": [
       "Text(0.5, 1.0, 'Strong Anger')"
      ]
     },
     "execution_count": 114,
     "metadata": {},
     "output_type": "execute_result"
    },
    {
     "data": {
      "image/png": "[encoded data removed]",
      "text/plain": [
       "<Figure size 1008x360 with 1 Axes>"
      ]
     },
     "metadata": {
      "needs_background": "light"
     },
     "output_type": "display_data"
    }
   ],
   "source": [
    "# test ideas and visualize \n",
    "\n",
    "# randomly choosen file                                                                     \n",
    "# Emotion is 'Anger' and Intensity is strong \n",
    "test_wav_path = '/Users/stephen/Emotion_Detection-/data/RAVDESS/Actor_04/03-01-05-02-01-02-04.wav'\n",
    "sig, sr = librosa.load(test_wav_path, sr=16000) # \n",
    "print('.wav file shape: ' + str(sig.shape))\n",
    "print('sample rate: ' + str(sr))\n",
    "plt.figure(figsize=(14, 5))\n",
    "librosa.display.waveplot(sig, sr=sr)\n",
    "plt.title('Strong Anger')"
   ]
  },
  {
   "cell_type": "code",
   "execution_count": 115,
   "metadata": {},
   "outputs": [
    {
     "data": {
      "text/plain": [
       "<matplotlib.collections.QuadMesh at 0x7f911da3cb20>"
      ]
     },
     "execution_count": 115,
     "metadata": {},
     "output_type": "execute_result"
    },
    {
     "data": {
      "image/png": "[encoded data removed]",
      "text/plain": [
       "<Figure size 1008x360 with 1 Axes>"
      ]
     },
     "metadata": {
      "needs_background": "light"
     },
     "output_type": "display_data"
    }
   ],
   "source": [
    "# mellllllsss\n",
    "mel = librosa.feature.melspectrogram(sig)\n",
    "mel_db = librosa.amplitude_to_db(mel)\n",
    "plt.figure(figsize=(14, 5))\n",
    "plt.title('Anger')\n",
    "librosa.display.specshow(mel_db, sr=sr, x_axis='time', y_axis='hz')"
   ]
  },
  {
   "cell_type": "markdown",
   "metadata": {},
   "source": [
    "# Feature Extraction\n",
    "one of the best ASR (automatic Speech Recognition) audio feature extract methods is using a combination of MFCC's, the delta of those MFCC's, and the delta of those deltas (AKA Delta-Deltas). Here we will create functions to\n",
    "\n",
    "deltas - trajectories of the MFCC coefficients over time\n",
    "\n",
    "http://practicalcryptography.com/miscellaneous/machine-learning/guide-mel-frequency-cepstral-coefficients-mfccs/"
   ]
  },
  {
   "cell_type": "markdown",
   "metadata": {},
   "source": []
  },
  {
   "cell_type": "code",
   "execution_count": 116,
   "metadata": {},
   "outputs": [
    {
     "data": {
      "text/plain": [
       "<matplotlib.colorbar.Colorbar at 0x7f911d168760>"
      ]
     },
     "execution_count": 116,
     "metadata": {},
     "output_type": "execute_result"
    },
    {
     "data": {
      "image/png": "[encoded data removed]",
      "text/plain": [
       "<Figure size 432x288 with 6 Axes>"
      ]
     },
     "metadata": {
      "needs_background": "light"
     },
     "output_type": "display_data"
    }
   ],
   "source": [
    "# Showing actual feature extractions used \n",
    "# resource: https://librosa.org/doc/main/generated/librosa.feature.delta.html?highlight=delta#librosa.feature.delta\n",
    "\n",
    "test_mfcc = librosa.feature.mfcc(y=sig, sr=sr)\n",
    "test_mfcc_delta = librosa.feature.delta(test_mfcc)\n",
    "test_mfcc_delta2 = librosa.feature.delta(test_mfcc, order=2)\n",
    "\n",
    "\n",
    "\n",
    "\n",
    "fig, ax = plt.subplots(nrows=3, sharex=True, sharey=True)\n",
    "img1 = librosa.display.specshow(test_mfcc, ax=ax[0], x_axis='time')\n",
    "ax[0].set(title='MFCC')\n",
    "ax[0].label_outer()\n",
    "img2 = librosa.display.specshow(test_mfcc_delta, ax=ax[1], x_axis='time')\n",
    "ax[1].set(title=r'MFCC-$\\Delta$')\n",
    "ax[1].label_outer()\n",
    "img3 = librosa.display.specshow(test_mfcc_delta2, ax=ax[2], x_axis='time')\n",
    "ax[2].set(title=r'MFCC-$\\Delta^2$')\n",
    "fig.colorbar(img1, ax=[ax[0]])\n",
    "fig.colorbar(img2, ax=[ax[1]])\n",
    "fig.colorbar(img3, ax=[ax[2]])"
   ]
  },
  {
   "cell_type": "markdown",
   "metadata": {},
   "source": [
    "# Data Augmentation Functions\n",
    "It is common practice to transform audio data with data augmentation tools like time adding white noise, time-stretching and pitch shifts. We'll make duplicates of each wav file so our model will have more variable input data."
   ]
  },
  {
   "cell_type": "code",
   "execution_count": 117,
   "metadata": {},
   "outputs": [],
   "source": [
    "\n",
    "def noise(data, SNR=10): \n",
    "    \"\"\"\n",
    "    Adds Additive White Gausian Noise to signal \n",
    "    https://medium.com/analytics-vidhya/adding-noise-to-audio-clips-5d8cee24ccb\n",
    "\n",
    "    the higher the SNR the lower the noise amplitude is \n",
    "\n",
    "    Args:\n",
    "        data (np.darray): audio time series \n",
    "        SNR (int, optional): signal to noise ratio. Defaults to 10.\n",
    "\n",
    "    Returns:\n",
    "        (np.darray) : [Return original signal plus random noise]\n",
    "    \"\"\"\n",
    "    # RMS value of signal \n",
    "    RMS_s = math.sqrt(np.mean(data**2))\n",
    "    # RMS values of noise \n",
    "    RMS_n = math.sqrt(RMS_s**2/(pow(10,SNR/10)))\n",
    "    # using population formula for standard deviation \n",
    "    STD_n = RMS_n \n",
    "    noise = np.random.normal(0, STD_n, data.shape[0])\n",
    "    new_data = data + noise\n",
    "    return new_data\n",
    "\n",
    "# Time Strectching \n",
    "def stretch(data, rate=0.90):\n",
    "    \"\"\"\n",
    "    \n",
    "\n",
    "    Args:\n",
    "        data ([type]): [description]\n",
    "        rate (float, optional): [description]. Defaults to 0.90.\n",
    "\n",
    "    Returns:\n",
    "        [type]: [description]\n",
    "    \"\"\"\n",
    "    return librosa.effects.time_stretch(data, rate)\n",
    "\n",
    "def shift(data):\n",
    "    shift_range = int(np.random.uniform(low=-2, high = 3)*1000)\n",
    "    return np.roll(data, shift_range)\n",
    "\n",
    "# Pre Emphasis     info on Pre-Emphasis in speech recognition: https://wiki.aalto.fi/display/ITSP/Pre-emphasis\n",
    "def pre_emphasize(data):\n",
    "    return librosa.effects.preemphasis(data, coef=1)\n",
    "\n",
    "def pitch(data, sampling_rate):\n",
    "    return librosa.effects.pitch_shift(data, sampling_rate, n_steps=1, bins_per_octave=24)\n"
   ]
  },
  {
   "cell_type": "code",
   "execution_count": 118,
   "metadata": {},
   "outputs": [],
   "source": [
    "# https://librosa.org/doc/main/generated/librosa.feature.delta.html\n",
    "\n",
    "def extract_features(data):\n",
    "    sample_rate = 16000\n",
    "    result = np.array([])\n",
    "\n",
    "    # MFCC\n",
    "    mfcc = np.mean(librosa.feature.mfcc(y=data, sr=sample_rate).T, axis=0)\n",
    "    result = np.hstack((result, mfcc)) # stacking horizontally\n",
    "\n",
    "    # MFCC Delta\n",
    "    mfcc_delta = np.mean(librosa.feature.delta(data=mfcc).T, axis=0)\n",
    "    result = np.hstack((result, mfcc_delta)) # stacking horizontally\n",
    "\n",
    "    # MFCC Delta-Delta\n",
    "    mfcc_delta2 = np.mean(librosa.feature.delta(data=mfcc, order=2).T, axis=0)\n",
    "    result = np.hstack((result, mfcc_delta2)) # stacking horizontally\n",
    "\n",
    "    # Root Mean Square Value\n",
    "    rms = np.mean(librosa.feature.rms(y=data).T, axis=0)\n",
    "    result = np.hstack((result, rms)) # stacking horizontally\n",
    "    \n",
    "    # MelSpectogram\n",
    "    mel = np.mean(librosa.feature.melspectrogram(y=data, sr=sample_rate).T, axis=0)\n",
    "    result = np.hstack((result, mel)) # stacking horizontally\n",
    "\n",
    "    # Zero-crossing \n",
    "    zcr = np.mean(librosa.feature.zero_crossing_rate(y=data).T, axis=0)\n",
    "    result=np.hstack((result, zcr)) # stacking horizontally\n",
    "\n",
    "    return result\n",
    "\n",
    "def get_features(path): \n",
    "    # duration and offset are used to take care of the no audio in start and the ending of each audio files .\n",
    "    _data, sample_rate = librosa.load(path, sr=16000, duration=2.5, offset=0.6) \n",
    "    # apply High Pass filter to attenuate all signals below 80 hz\n",
    "    sos = signal.butter(4, 80, 'hp', fs=1000, output='sos') # butterworth filter \n",
    "    data = signal.sosfilt(sos, _data)\n",
    "\n",
    "    # without augmentation\n",
    "    res1 = extract_features(data)\n",
    "    result = np.array(res1)\n",
    "    \n",
    "    # data with noise\n",
    "    noise_data = noise(data)\n",
    "    res2 = extract_features(noise_data)\n",
    "    result = np.vstack((result, res2)) # stacking vertically\n",
    "    \n",
    "    # data with stretching and pitching\n",
    "    new_data = stretch(data)\n",
    "    data_stretch_pitch = pitch(new_data, sample_rate)\n",
    "    res3 = extract_features(data_stretch_pitch)\n",
    "    result = np.vstack((result, res3)) # stacking vertically\n",
    "\n",
    "    pre_emp_data = pre_emphasize(data)\n",
    "    res4 = extract_features(pre_emp_data)\n",
    "    result = np.vstack((result, res4)) # stacking vertically\n",
    "    \n",
    "    return result"
   ]
  },
  {
   "cell_type": "markdown",
   "metadata": {},
   "source": [
    "# Calling Functions and preparing data for CNN\n",
    "So the outline of our features are:"
   ]
  },
  {
   "cell_type": "code",
   "execution_count": 119,
   "metadata": {},
   "outputs": [],
   "source": [
    "X, Y = [], []\n",
    "for path, emotion in zip(Ravdess_df.Path, Ravdess_df.Emotions):\n",
    "    feature = get_features(path)\n",
    "    for ele in feature:\n",
    "        X.append(ele)\n",
    "        # appending emotion 4 times as we have made 4 augmentation techniques on each audio file.\n",
    "        Y.append(emotion)"
   ]
  },
  {
   "cell_type": "code",
   "execution_count": 120,
   "metadata": {},
   "outputs": [
    {
     "data": {
      "text/plain": [
       "(5760, 5760, (1440,))"
      ]
     },
     "execution_count": 120,
     "metadata": {},
     "output_type": "execute_result"
    }
   ],
   "source": [
    "len(X), len(Y), Ravdess_df.Path.shape"
   ]
  },
  {
   "cell_type": "code",
   "execution_count": 121,
   "metadata": {},
   "outputs": [
    {
     "data": {
      "text/html": [
       "<div>\n",
       "<style scoped>\n",
       "    .dataframe tbody tr th:only-of-type {\n",
       "        vertical-align: middle;\n",
       "    }\n",
       "\n",
       "    .dataframe tbody tr th {\n",
       "        vertical-align: top;\n",
       "    }\n",
       "\n",
       "    .dataframe thead th {\n",
       "        text-align: right;\n",
       "    }\n",
       "</style>\n",
       "<table border=\"1\" class=\"dataframe\">\n",
       "  <thead>\n",
       "    <tr style=\"text-align: right;\">\n",
       "      <th></th>\n",
       "      <th>0</th>\n",
       "      <th>1</th>\n",
       "      <th>2</th>\n",
       "      <th>3</th>\n",
       "      <th>4</th>\n",
       "      <th>5</th>\n",
       "      <th>6</th>\n",
       "      <th>7</th>\n",
       "      <th>8</th>\n",
       "      <th>9</th>\n",
       "      <th>...</th>\n",
       "      <th>143</th>\n",
       "      <th>144</th>\n",
       "      <th>145</th>\n",
       "      <th>146</th>\n",
       "      <th>147</th>\n",
       "      <th>148</th>\n",
       "      <th>149</th>\n",
       "      <th>150</th>\n",
       "      <th>151</th>\n",
       "      <th>labels</th>\n",
       "    </tr>\n",
       "  </thead>\n",
       "  <tbody>\n",
       "    <tr>\n",
       "      <th>0</th>\n",
       "      <td>-536.970032</td>\n",
       "      <td>-70.208008</td>\n",
       "      <td>-79.724160</td>\n",
       "      <td>-27.816592</td>\n",
       "      <td>-21.776632</td>\n",
       "      <td>-1.671302</td>\n",
       "      <td>-14.497605</td>\n",
       "      <td>-9.052683</td>\n",
       "      <td>4.116251</td>\n",
       "      <td>5.237724</td>\n",
       "      <td>...</td>\n",
       "      <td>0.011748</td>\n",
       "      <td>0.011426</td>\n",
       "      <td>0.010883</td>\n",
       "      <td>0.006832</td>\n",
       "      <td>0.004739</td>\n",
       "      <td>0.003541</td>\n",
       "      <td>0.000767</td>\n",
       "      <td>0.000079</td>\n",
       "      <td>0.365080</td>\n",
       "      <td>angry</td>\n",
       "    </tr>\n",
       "    <tr>\n",
       "      <th>1</th>\n",
       "      <td>-292.664125</td>\n",
       "      <td>-12.134336</td>\n",
       "      <td>-13.596879</td>\n",
       "      <td>-0.600435</td>\n",
       "      <td>-1.184698</td>\n",
       "      <td>4.671853</td>\n",
       "      <td>1.053377</td>\n",
       "      <td>-4.744634</td>\n",
       "      <td>3.913392</td>\n",
       "      <td>0.572954</td>\n",
       "      <td>...</td>\n",
       "      <td>0.012816</td>\n",
       "      <td>0.012714</td>\n",
       "      <td>0.012868</td>\n",
       "      <td>0.008385</td>\n",
       "      <td>0.006358</td>\n",
       "      <td>0.004893</td>\n",
       "      <td>0.002341</td>\n",
       "      <td>0.001609</td>\n",
       "      <td>0.458570</td>\n",
       "      <td>angry</td>\n",
       "    </tr>\n",
       "    <tr>\n",
       "      <th>2</th>\n",
       "      <td>-567.504820</td>\n",
       "      <td>-78.107047</td>\n",
       "      <td>-87.429027</td>\n",
       "      <td>-33.583769</td>\n",
       "      <td>-22.373995</td>\n",
       "      <td>-0.880796</td>\n",
       "      <td>-16.691805</td>\n",
       "      <td>-8.455329</td>\n",
       "      <td>9.714397</td>\n",
       "      <td>4.479155</td>\n",
       "      <td>...</td>\n",
       "      <td>0.001422</td>\n",
       "      <td>0.002639</td>\n",
       "      <td>0.002793</td>\n",
       "      <td>0.002877</td>\n",
       "      <td>0.001478</td>\n",
       "      <td>0.000618</td>\n",
       "      <td>0.000194</td>\n",
       "      <td>0.000003</td>\n",
       "      <td>0.410527</td>\n",
       "      <td>angry</td>\n",
       "    </tr>\n",
       "    <tr>\n",
       "      <th>3</th>\n",
       "      <td>-552.492930</td>\n",
       "      <td>-109.823557</td>\n",
       "      <td>-59.950173</td>\n",
       "      <td>-14.824648</td>\n",
       "      <td>-9.015608</td>\n",
       "      <td>8.212083</td>\n",
       "      <td>-6.740179</td>\n",
       "      <td>-3.396895</td>\n",
       "      <td>7.125379</td>\n",
       "      <td>6.756815</td>\n",
       "      <td>...</td>\n",
       "      <td>0.043559</td>\n",
       "      <td>0.043036</td>\n",
       "      <td>0.041581</td>\n",
       "      <td>0.026425</td>\n",
       "      <td>0.018571</td>\n",
       "      <td>0.013968</td>\n",
       "      <td>0.003045</td>\n",
       "      <td>0.000315</td>\n",
       "      <td>0.460357</td>\n",
       "      <td>angry</td>\n",
       "    </tr>\n",
       "    <tr>\n",
       "      <th>4</th>\n",
       "      <td>-615.813548</td>\n",
       "      <td>-78.952161</td>\n",
       "      <td>-91.796245</td>\n",
       "      <td>-23.684091</td>\n",
       "      <td>-20.161961</td>\n",
       "      <td>-14.288984</td>\n",
       "      <td>-22.787479</td>\n",
       "      <td>-8.504503</td>\n",
       "      <td>6.004041</td>\n",
       "      <td>-6.007226</td>\n",
       "      <td>...</td>\n",
       "      <td>0.001610</td>\n",
       "      <td>0.001820</td>\n",
       "      <td>0.001444</td>\n",
       "      <td>0.001527</td>\n",
       "      <td>0.002631</td>\n",
       "      <td>0.002630</td>\n",
       "      <td>0.000628</td>\n",
       "      <td>0.000026</td>\n",
       "      <td>0.320943</td>\n",
       "      <td>fear</td>\n",
       "    </tr>\n",
       "  </tbody>\n",
       "</table>\n",
       "<p>5 rows × 153 columns</p>\n",
       "</div>"
      ],
      "text/plain": [
       "            0           1          2          3          4          5  \\\n",
       "0 -536.970032  -70.208008 -79.724160 -27.816592 -21.776632  -1.671302   \n",
       "1 -292.664125  -12.134336 -13.596879  -0.600435  -1.184698   4.671853   \n",
       "2 -567.504820  -78.107047 -87.429027 -33.583769 -22.373995  -0.880796   \n",
       "3 -552.492930 -109.823557 -59.950173 -14.824648  -9.015608   8.212083   \n",
       "4 -615.813548  -78.952161 -91.796245 -23.684091 -20.161961 -14.288984   \n",
       "\n",
       "           6         7         8         9  ...       143       144       145  \\\n",
       "0 -14.497605 -9.052683  4.116251  5.237724  ...  0.011748  0.011426  0.010883   \n",
       "1   1.053377 -4.744634  3.913392  0.572954  ...  0.012816  0.012714  0.012868   \n",
       "2 -16.691805 -8.455329  9.714397  4.479155  ...  0.001422  0.002639  0.002793   \n",
       "3  -6.740179 -3.396895  7.125379  6.756815  ...  0.043559  0.043036  0.041581   \n",
       "4 -22.787479 -8.504503  6.004041 -6.007226  ...  0.001610  0.001820  0.001444   \n",
       "\n",
       "        146       147       148       149       150       151  labels  \n",
       "0  0.006832  0.004739  0.003541  0.000767  0.000079  0.365080   angry  \n",
       "1  0.008385  0.006358  0.004893  0.002341  0.001609  0.458570   angry  \n",
       "2  0.002877  0.001478  0.000618  0.000194  0.000003  0.410527   angry  \n",
       "3  0.026425  0.018571  0.013968  0.003045  0.000315  0.460357   angry  \n",
       "4  0.001527  0.002631  0.002630  0.000628  0.000026  0.320943    fear  \n",
       "\n",
       "[5 rows x 153 columns]"
      ]
     },
     "execution_count": 121,
     "metadata": {},
     "output_type": "execute_result"
    }
   ],
   "source": [
    "Features = pd.DataFrame(X)\n",
    "Features['labels'] = Y\n",
    "Features.to_csv('features.csv', index=False)\n",
    "Features.head()"
   ]
  },
  {
   "cell_type": "code",
   "execution_count": 122,
   "metadata": {},
   "outputs": [],
   "source": [
    "X = Features.iloc[: ,:-1].values\n",
    "Y = Features['labels'].values"
   ]
  },
  {
   "cell_type": "code",
   "execution_count": 123,
   "metadata": {},
   "outputs": [],
   "source": [
    "# As this is a multiclass classification problem onehotencoding our Y.\n",
    "encoder = OneHotEncoder()\n",
    "Y = encoder.fit_transform(np.array(Y).reshape(-1,1)).toarray()"
   ]
  },
  {
   "cell_type": "code",
   "execution_count": 124,
   "metadata": {},
   "outputs": [
    {
     "data": {
      "text/plain": [
       "((4320, 152), (4320, 8), (1440, 152), (1440, 8))"
      ]
     },
     "execution_count": 124,
     "metadata": {},
     "output_type": "execute_result"
    }
   ],
   "source": [
    "# splitting data\n",
    "x_train, x_test, y_train, y_test = train_test_split(X, Y, random_state=0, shuffle=True)\n",
    "x_train.shape, y_train.shape, x_test.shape, y_test.shape"
   ]
  },
  {
   "cell_type": "code",
   "execution_count": 125,
   "metadata": {},
   "outputs": [
    {
     "data": {
      "text/plain": [
       "((4320, 152), (4320, 8), (1440, 152), (1440, 8))"
      ]
     },
     "execution_count": 125,
     "metadata": {},
     "output_type": "execute_result"
    }
   ],
   "source": [
    "# scaling our data with sklearn's Standard scaler\n",
    "scaler = StandardScaler()\n",
    "x_train = scaler.fit_transform(x_train)\n",
    "x_test = scaler.transform(x_test)\n",
    "x_train.shape, y_train.shape, x_test.shape, y_test.shape"
   ]
  },
  {
   "cell_type": "code",
   "execution_count": 126,
   "metadata": {},
   "outputs": [
    {
     "data": {
      "text/plain": [
       "((4320, 152, 1), (4320, 8), (1440, 152, 1), (1440, 8))"
      ]
     },
     "execution_count": 126,
     "metadata": {},
     "output_type": "execute_result"
    }
   ],
   "source": [
    "# making our data compatible to model.\n",
    "x_train = np.expand_dims(x_train, axis=2)\n",
    "x_test = np.expand_dims(x_test, axis=2)\n",
    "x_train.shape, y_train.shape, x_test.shape, y_test.shape"
   ]
  },
  {
   "cell_type": "code",
   "execution_count": 127,
   "metadata": {},
   "outputs": [
    {
     "name": "stdout",
     "output_type": "stream",
     "text": [
      "Model: \"sequential_4\"\n",
      "_________________________________________________________________\n",
      " Layer (type)                Output Shape              Param #   \n",
      "=================================================================\n",
      " conv1d_16 (Conv1D)          (None, 152, 256)          1536      \n",
      "                                                                 \n",
      " max_pooling1d_16 (MaxPoolin  (None, 76, 256)          0         \n",
      " g1D)                                                            \n",
      "                                                                 \n",
      " conv1d_17 (Conv1D)          (None, 76, 256)           327936    \n",
      "                                                                 \n",
      " max_pooling1d_17 (MaxPoolin  (None, 38, 256)          0         \n",
      " g1D)                                                            \n",
      "                                                                 \n",
      " conv1d_18 (Conv1D)          (None, 38, 128)           163968    \n",
      "                                                                 \n",
      " max_pooling1d_18 (MaxPoolin  (None, 19, 128)          0         \n",
      " g1D)                                                            \n",
      "                                                                 \n",
      " dropout_8 (Dropout)         (None, 19, 128)           0         \n",
      "                                                                 \n",
      " conv1d_19 (Conv1D)          (None, 19, 64)            41024     \n",
      "                                                                 \n",
      " max_pooling1d_19 (MaxPoolin  (None, 10, 64)           0         \n",
      " g1D)                                                            \n",
      "                                                                 \n",
      " flatten_8 (Flatten)         (None, 640)               0         \n",
      "                                                                 \n",
      " dense_8 (Dense)             (None, 32)                20512     \n",
      "                                                                 \n",
      " dropout_9 (Dropout)         (None, 32)                0         \n",
      "                                                                 \n",
      " flatten_9 (Flatten)         (None, 32)                0         \n",
      "                                                                 \n",
      " dense_9 (Dense)             (None, 8)                 264       \n",
      "                                                                 \n",
      "=================================================================\n",
      "Total params: 555,240\n",
      "Trainable params: 555,240\n",
      "Non-trainable params: 0\n",
      "_________________________________________________________________\n"
     ]
    }
   ],
   "source": [
    "model=Sequential()\n",
    "model.add(Conv1D(256, kernel_size=5, strides=1, padding='same', activation='relu', input_shape=(x_train.shape[1], 1)))\n",
    "model.add(MaxPooling1D(pool_size=5, strides = 2, padding = 'same'))\n",
    "\n",
    "model.add(Conv1D(256, kernel_size=5, strides=1, padding='same', activation='relu'))\n",
    "model.add(MaxPooling1D(pool_size=5, strides = 2, padding = 'same'))\n",
    "\n",
    "model.add(Conv1D(128, kernel_size=5, strides=1, padding='same', activation='relu'))\n",
    "model.add(MaxPooling1D(pool_size=5, strides = 2, padding = 'same'))\n",
    "model.add(Dropout(0.2))\n",
    "\n",
    "model.add(Conv1D(64, kernel_size=5, strides=1, padding='same', activation='relu'))\n",
    "model.add(MaxPooling1D(pool_size=5, strides = 2, padding = 'same'))\n",
    "\n",
    "model.add(Flatten())\n",
    "model.add(Dense(units=32, activation='relu'))\n",
    "model.add(Dropout(0.3))\n",
    "\n",
    "model.add(Flatten())\n",
    "model.add(Dense(units=8, activation='softmax'))\n",
    "model.compile(optimizer = 'adam' , loss = 'categorical_crossentropy' , metrics = ['accuracy'])\n",
    "\n",
    "model.summary()"
   ]
  },
  {
   "cell_type": "code",
   "execution_count": 128,
   "metadata": {},
   "outputs": [
    {
     "name": "stdout",
     "output_type": "stream",
     "text": [
      "Epoch 1/50\n",
      "68/68 [==============================] - 7s 94ms/step - loss: 2.0038 - accuracy: 0.1931 - val_loss: 1.9343 - val_accuracy: 0.2361 - lr: 0.0010\n",
      "Epoch 2/50\n",
      "68/68 [==============================] - 7s 97ms/step - loss: 1.9145 - accuracy: 0.2289 - val_loss: 1.8624 - val_accuracy: 0.2799 - lr: 0.0010\n",
      "Epoch 3/50\n",
      "68/68 [==============================] - 7s 99ms/step - loss: 1.8708 - accuracy: 0.2444 - val_loss: 1.8189 - val_accuracy: 0.2882 - lr: 0.0010\n",
      "Epoch 4/50\n",
      "68/68 [==============================] - 8s 120ms/step - loss: 1.8184 - accuracy: 0.2595 - val_loss: 1.7893 - val_accuracy: 0.2917 - lr: 0.0010\n",
      "Epoch 5/50\n",
      "68/68 [==============================] - 8s 117ms/step - loss: 1.7897 - accuracy: 0.2840 - val_loss: 1.7144 - val_accuracy: 0.3257 - lr: 0.0010\n",
      "Epoch 6/50\n",
      "68/68 [==============================] - 7s 102ms/step - loss: 1.7546 - accuracy: 0.3113 - val_loss: 1.6912 - val_accuracy: 0.3514 - lr: 0.0010\n",
      "Epoch 7/50\n",
      "68/68 [==============================] - 8s 111ms/step - loss: 1.7139 - accuracy: 0.3225 - val_loss: 1.6677 - val_accuracy: 0.3479 - lr: 0.0010\n",
      "Epoch 8/50\n",
      "68/68 [==============================] - 7s 98ms/step - loss: 1.6818 - accuracy: 0.3468 - val_loss: 1.6436 - val_accuracy: 0.3590 - lr: 0.0010\n",
      "Epoch 9/50\n",
      "68/68 [==============================] - 6s 85ms/step - loss: 1.6526 - accuracy: 0.3528 - val_loss: 1.6594 - val_accuracy: 0.3458 - lr: 0.0010\n",
      "Epoch 10/50\n",
      "68/68 [==============================] - 6s 83ms/step - loss: 1.6358 - accuracy: 0.3567 - val_loss: 1.5894 - val_accuracy: 0.3736 - lr: 0.0010\n",
      "Epoch 11/50\n",
      "68/68 [==============================] - 6s 86ms/step - loss: 1.5896 - accuracy: 0.3785 - val_loss: 1.5977 - val_accuracy: 0.3646 - lr: 0.0010\n",
      "Epoch 12/50\n",
      "68/68 [==============================] - 6s 93ms/step - loss: 1.5565 - accuracy: 0.3977 - val_loss: 1.5493 - val_accuracy: 0.3924 - lr: 0.0010\n",
      "Epoch 13/50\n",
      "68/68 [==============================] - 6s 92ms/step - loss: 1.5317 - accuracy: 0.4023 - val_loss: 1.5367 - val_accuracy: 0.3979 - lr: 0.0010\n",
      "Epoch 14/50\n",
      "68/68 [==============================] - 7s 100ms/step - loss: 1.4846 - accuracy: 0.4190 - val_loss: 1.4800 - val_accuracy: 0.4271 - lr: 0.0010\n",
      "Epoch 15/50\n",
      "68/68 [==============================] - 10s 150ms/step - loss: 1.4404 - accuracy: 0.4451 - val_loss: 1.4820 - val_accuracy: 0.4167 - lr: 0.0010\n",
      "Epoch 16/50\n",
      "68/68 [==============================] - 7s 109ms/step - loss: 1.4248 - accuracy: 0.4674 - val_loss: 1.4319 - val_accuracy: 0.4410 - lr: 0.0010\n",
      "Epoch 17/50\n",
      "68/68 [==============================] - 6s 95ms/step - loss: 1.3938 - accuracy: 0.4745 - val_loss: 1.4331 - val_accuracy: 0.4368 - lr: 0.0010\n",
      "Epoch 18/50\n",
      "68/68 [==============================] - 7s 105ms/step - loss: 1.3479 - accuracy: 0.4884 - val_loss: 1.4172 - val_accuracy: 0.4444 - lr: 0.0010\n",
      "Epoch 19/50\n",
      "68/68 [==============================] - 7s 99ms/step - loss: 1.3121 - accuracy: 0.4991 - val_loss: 1.4158 - val_accuracy: 0.4535 - lr: 0.0010\n",
      "Epoch 20/50\n",
      "68/68 [==============================] - 7s 106ms/step - loss: 1.2648 - accuracy: 0.5213 - val_loss: 1.3572 - val_accuracy: 0.4757 - lr: 0.0010\n",
      "Epoch 21/50\n",
      "68/68 [==============================] - 7s 110ms/step - loss: 1.2376 - accuracy: 0.5322 - val_loss: 1.3307 - val_accuracy: 0.4944 - lr: 0.0010\n",
      "Epoch 22/50\n",
      "68/68 [==============================] - 7s 104ms/step - loss: 1.1877 - accuracy: 0.5600 - val_loss: 1.2945 - val_accuracy: 0.5146 - lr: 0.0010\n",
      "Epoch 23/50\n",
      "68/68 [==============================] - 8s 116ms/step - loss: 1.1653 - accuracy: 0.5671 - val_loss: 1.2707 - val_accuracy: 0.5090 - lr: 0.0010\n",
      "Epoch 24/50\n",
      "68/68 [==============================] - 7s 105ms/step - loss: 1.1267 - accuracy: 0.5738 - val_loss: 1.2853 - val_accuracy: 0.5111 - lr: 0.0010\n",
      "Epoch 25/50\n",
      "68/68 [==============================] - 6s 89ms/step - loss: 1.1022 - accuracy: 0.5822 - val_loss: 1.2146 - val_accuracy: 0.5236 - lr: 0.0010\n",
      "Epoch 26/50\n",
      "68/68 [==============================] - 7s 98ms/step - loss: 1.0205 - accuracy: 0.6204 - val_loss: 1.2376 - val_accuracy: 0.5118 - lr: 0.0010\n",
      "Epoch 27/50\n",
      "68/68 [==============================] - 7s 103ms/step - loss: 1.0265 - accuracy: 0.6187 - val_loss: 1.2637 - val_accuracy: 0.5174 - lr: 0.0010\n",
      "Epoch 28/50\n",
      "68/68 [==============================] - 9s 135ms/step - loss: 0.9979 - accuracy: 0.6252 - val_loss: 1.3477 - val_accuracy: 0.5396 - lr: 0.0010\n",
      "Epoch 29/50\n",
      "68/68 [==============================] - 8s 118ms/step - loss: 0.9392 - accuracy: 0.6493 - val_loss: 1.2691 - val_accuracy: 0.5424 - lr: 0.0010\n",
      "Epoch 30/50\n",
      "68/68 [==============================] - 6s 94ms/step - loss: 0.9315 - accuracy: 0.6488 - val_loss: 1.2477 - val_accuracy: 0.5528 - lr: 0.0010\n",
      "Epoch 31/50\n",
      "68/68 [==============================] - 6s 90ms/step - loss: 0.8797 - accuracy: 0.6697 - val_loss: 1.2574 - val_accuracy: 0.5653 - lr: 0.0010\n",
      "Epoch 32/50\n",
      "68/68 [==============================] - 7s 100ms/step - loss: 0.8417 - accuracy: 0.6819 - val_loss: 1.2309 - val_accuracy: 0.5722 - lr: 0.0010\n",
      "Epoch 33/50\n",
      "68/68 [==============================] - 8s 112ms/step - loss: 0.8288 - accuracy: 0.6961 - val_loss: 1.2414 - val_accuracy: 0.5757 - lr: 0.0010\n",
      "Epoch 34/50\n",
      "68/68 [==============================] - 7s 105ms/step - loss: 0.7611 - accuracy: 0.7199 - val_loss: 1.2368 - val_accuracy: 0.5715 - lr: 0.0010\n",
      "Epoch 35/50\n",
      "68/68 [==============================] - 6s 90ms/step - loss: 0.7244 - accuracy: 0.7324 - val_loss: 1.2162 - val_accuracy: 0.5944 - lr: 0.0010\n",
      "Epoch 36/50\n",
      "68/68 [==============================] - 6s 88ms/step - loss: 0.7380 - accuracy: 0.7308 - val_loss: 1.2000 - val_accuracy: 0.5917 - lr: 0.0010\n",
      "Epoch 37/50\n",
      "68/68 [==============================] - 6s 95ms/step - loss: 0.7011 - accuracy: 0.7431 - val_loss: 1.2311 - val_accuracy: 0.5979 - lr: 0.0010\n",
      "Epoch 38/50\n",
      "68/68 [==============================] - 8s 119ms/step - loss: 0.6636 - accuracy: 0.7641 - val_loss: 1.2843 - val_accuracy: 0.5847 - lr: 0.0010\n",
      "Epoch 39/50\n",
      "68/68 [==============================] - 8s 124ms/step - loss: 0.6774 - accuracy: 0.7644 - val_loss: 1.2337 - val_accuracy: 0.5993 - lr: 0.0010\n",
      "Epoch 40/50\n",
      "68/68 [==============================] - 7s 105ms/step - loss: 0.6262 - accuracy: 0.7688 - val_loss: 1.3066 - val_accuracy: 0.5938 - lr: 0.0010\n",
      "Epoch 41/50\n",
      "68/68 [==============================] - 8s 115ms/step - loss: 0.5538 - accuracy: 0.7993 - val_loss: 1.4160 - val_accuracy: 0.5681 - lr: 0.0010\n",
      "Epoch 42/50\n",
      "68/68 [==============================] - 7s 105ms/step - loss: 0.5932 - accuracy: 0.7850 - val_loss: 1.3018 - val_accuracy: 0.5972 - lr: 0.0010\n",
      "Epoch 43/50\n",
      "68/68 [==============================] - 7s 110ms/step - loss: 0.5675 - accuracy: 0.7951 - val_loss: 1.3196 - val_accuracy: 0.6132 - lr: 0.0010\n",
      "Epoch 44/50\n",
      "68/68 [==============================] - 7s 98ms/step - loss: 0.4574 - accuracy: 0.8407 - val_loss: 1.3190 - val_accuracy: 0.6250 - lr: 4.0000e-04\n",
      "Epoch 45/50\n",
      "68/68 [==============================] - 6s 94ms/step - loss: 0.4053 - accuracy: 0.8600 - val_loss: 1.3322 - val_accuracy: 0.6097 - lr: 4.0000e-04\n",
      "Epoch 46/50\n",
      "68/68 [==============================] - 6s 85ms/step - loss: 0.3881 - accuracy: 0.8627 - val_loss: 1.3050 - val_accuracy: 0.6333 - lr: 4.0000e-04\n",
      "Epoch 47/50\n",
      "68/68 [==============================] - 6s 84ms/step - loss: 0.3664 - accuracy: 0.8736 - val_loss: 1.3918 - val_accuracy: 0.6187 - lr: 4.0000e-04\n",
      "Epoch 48/50\n",
      "68/68 [==============================] - 7s 99ms/step - loss: 0.3469 - accuracy: 0.8808 - val_loss: 1.3510 - val_accuracy: 0.6319 - lr: 4.0000e-04\n",
      "Epoch 49/50\n",
      "68/68 [==============================] - 6s 88ms/step - loss: 0.3346 - accuracy: 0.8833 - val_loss: 1.3989 - val_accuracy: 0.6326 - lr: 4.0000e-04\n",
      "Epoch 50/50\n",
      "68/68 [==============================] - 6s 83ms/step - loss: 0.3364 - accuracy: 0.8813 - val_loss: 1.4887 - val_accuracy: 0.6313 - lr: 4.0000e-04\n"
     ]
    }
   ],
   "source": [
    "rlrp = ReduceLROnPlateau(monitor='loss', factor=0.4, verbose=0, patience=2, min_lr=0.0000001)\n",
    "history=model.fit(x_train, y_train, batch_size=64, epochs=50, validation_data=(x_test, y_test), callbacks=[rlrp])"
   ]
  },
  {
   "cell_type": "code",
   "execution_count": 129,
   "metadata": {},
   "outputs": [
    {
     "data": {
      "text/plain": [
       "(1440, 8)"
      ]
     },
     "execution_count": 129,
     "metadata": {},
     "output_type": "execute_result"
    }
   ],
   "source": [
    "y_test.shape"
   ]
  },
  {
   "cell_type": "code",
   "execution_count": 130,
   "metadata": {},
   "outputs": [
    {
     "name": "stdout",
     "output_type": "stream",
     "text": [
      "45/45 [==============================] - 1s 10ms/step - loss: 1.4887 - accuracy: 0.6313\n",
      "Accuracy of our model on test data :  63.12500238418579 %\n"
     ]
    },
    {
     "data": {
      "image/png": "[encoded data removed]",
      "text/plain": [
       "<Figure size 1440x432 with 2 Axes>"
      ]
     },
     "metadata": {
      "needs_background": "light"
     },
     "output_type": "display_data"
    },
    {
     "data": {
      "text/plain": [
       "<Figure size 432x288 with 0 Axes>"
      ]
     },
     "metadata": {},
     "output_type": "display_data"
    }
   ],
   "source": [
    "print(\"Accuracy of our model on test data : \" , model.evaluate(x_test,y_test)[1]*100 , \"%\")\n",
    "\n",
    "epochs = [i for i in range(50)]\n",
    "fig , ax = plt.subplots(1,2)\n",
    "train_acc = history.history['accuracy']\n",
    "train_loss = history.history['loss']\n",
    "test_acc = history.history['val_accuracy']\n",
    "test_loss = history.history['val_loss']\n",
    "\n",
    "fig.set_size_inches(20,6)\n",
    "ax[0].plot(epochs , train_loss , label = 'Training Loss')\n",
    "ax[0].plot(epochs , test_loss , label = 'Testing Loss')\n",
    "ax[0].set_title('Training & Testing Loss')\n",
    "ax[0].legend()\n",
    "ax[0].set_xlabel(\"Epochs\")\n",
    "\n",
    "ax[1].plot(epochs , train_acc , label = 'Training Accuracy')\n",
    "ax[1].plot(epochs , test_acc , label = 'Testing Accuracy')\n",
    "ax[1].set_title('Training & Testing Accuracy')\n",
    "ax[1].legend()\n",
    "ax[1].set_xlabel(\"Epochs\")\n",
    "plt.show()\n",
    "plt.savefig('Model Results')"
   ]
  },
  {
   "cell_type": "code",
   "execution_count": 131,
   "metadata": {},
   "outputs": [],
   "source": [
    "# predicting on test data.\n",
    "pred_test = model.predict(x_test)\n",
    "y_pred = encoder.inverse_transform(pred_test)\n",
    "\n",
    "y_test = encoder.inverse_transform(y_test)"
   ]
  },
  {
   "cell_type": "code",
   "execution_count": 132,
   "metadata": {},
   "outputs": [
    {
     "data": {
      "text/html": [
       "<div>\n",
       "<style scoped>\n",
       "    .dataframe tbody tr th:only-of-type {\n",
       "        vertical-align: middle;\n",
       "    }\n",
       "\n",
       "    .dataframe tbody tr th {\n",
       "        vertical-align: top;\n",
       "    }\n",
       "\n",
       "    .dataframe thead th {\n",
       "        text-align: right;\n",
       "    }\n",
       "</style>\n",
       "<table border=\"1\" class=\"dataframe\">\n",
       "  <thead>\n",
       "    <tr style=\"text-align: right;\">\n",
       "      <th></th>\n",
       "      <th>Predicted Labels</th>\n",
       "      <th>Actual Labels</th>\n",
       "    </tr>\n",
       "  </thead>\n",
       "  <tbody>\n",
       "    <tr>\n",
       "      <th>0</th>\n",
       "      <td>happy</td>\n",
       "      <td>sad</td>\n",
       "    </tr>\n",
       "    <tr>\n",
       "      <th>1</th>\n",
       "      <td>calm</td>\n",
       "      <td>sad</td>\n",
       "    </tr>\n",
       "    <tr>\n",
       "      <th>2</th>\n",
       "      <td>happy</td>\n",
       "      <td>sad</td>\n",
       "    </tr>\n",
       "    <tr>\n",
       "      <th>3</th>\n",
       "      <td>calm</td>\n",
       "      <td>calm</td>\n",
       "    </tr>\n",
       "    <tr>\n",
       "      <th>4</th>\n",
       "      <td>fear</td>\n",
       "      <td>fear</td>\n",
       "    </tr>\n",
       "    <tr>\n",
       "      <th>5</th>\n",
       "      <td>fear</td>\n",
       "      <td>fear</td>\n",
       "    </tr>\n",
       "    <tr>\n",
       "      <th>6</th>\n",
       "      <td>calm</td>\n",
       "      <td>calm</td>\n",
       "    </tr>\n",
       "    <tr>\n",
       "      <th>7</th>\n",
       "      <td>happy</td>\n",
       "      <td>happy</td>\n",
       "    </tr>\n",
       "    <tr>\n",
       "      <th>8</th>\n",
       "      <td>calm</td>\n",
       "      <td>calm</td>\n",
       "    </tr>\n",
       "    <tr>\n",
       "      <th>9</th>\n",
       "      <td>calm</td>\n",
       "      <td>neutral</td>\n",
       "    </tr>\n",
       "  </tbody>\n",
       "</table>\n",
       "</div>"
      ],
      "text/plain": [
       "  Predicted Labels Actual Labels\n",
       "0            happy           sad\n",
       "1             calm           sad\n",
       "2            happy           sad\n",
       "3             calm          calm\n",
       "4             fear          fear\n",
       "5             fear          fear\n",
       "6             calm          calm\n",
       "7            happy         happy\n",
       "8             calm          calm\n",
       "9             calm       neutral"
      ]
     },
     "execution_count": 132,
     "metadata": {},
     "output_type": "execute_result"
    }
   ],
   "source": [
    "df = pd.DataFrame(columns=['Predicted Labels', 'Actual Labels'])\n",
    "df['Predicted Labels'] = y_pred.flatten()\n",
    "df['Actual Labels'] = y_test.flatten()\n",
    "\n",
    "df.head(10)"
   ]
  },
  {
   "cell_type": "code",
   "execution_count": 144,
   "metadata": {},
   "outputs": [
    {
     "data": {
      "image/png": "[encoded data removed]",
      "text/plain": [
       "<Figure size 864x720 with 2 Axes>"
      ]
     },
     "metadata": {
      "needs_background": "light"
     },
     "output_type": "display_data"
    },
    {
     "data": {
      "text/plain": [
       "<Figure size 432x288 with 0 Axes>"
      ]
     },
     "metadata": {},
     "output_type": "display_data"
    }
   ],
   "source": [
    "cm = confusion_matrix(y_test, y_pred)\n",
    "plt.figure(figsize = (12, 10))\n",
    "cm = pd.DataFrame(cm , index = [i for i in encoder.categories_] , columns = [i for i in encoder.categories_])\n",
    "sns.heatmap(cm/ np.sum(cm), linecolor='white', cmap='mako', linewidth=1, annot=True, fmt='.1%')\n",
    "plt.title('Confusion Matrix', size=20)\n",
    "plt.xlabel('Predicted Labels', size=14)\n",
    "plt.ylabel('Actual Labels', size=14)\n",
    "plt.show()\n",
    "plt.savefig('Confussion')"
   ]
  },
  {
   "cell_type": "code",
   "execution_count": 134,
   "metadata": {},
   "outputs": [
    {
     "name": "stdout",
     "output_type": "stream",
     "text": [
      "              precision    recall  f1-score   support\n",
      "\n",
      "       angry       0.79      0.69      0.74       194\n",
      "        calm       0.67      0.82      0.74       188\n",
      "     disgust       0.58      0.69      0.63       193\n",
      "        fear       0.73      0.54      0.62       191\n",
      "       happy       0.61      0.61      0.61       185\n",
      "     neutral       0.54      0.52      0.53        96\n",
      "         sad       0.49      0.56      0.52       184\n",
      "    surprise       0.68      0.57      0.62       209\n",
      "\n",
      "    accuracy                           0.63      1440\n",
      "   macro avg       0.63      0.62      0.62      1440\n",
      "weighted avg       0.64      0.63      0.63      1440\n",
      "\n"
     ]
    }
   ],
   "source": [
    "print(classification_report(y_test, y_pred))\n"
   ]
  },
  {
   "cell_type": "markdown",
   "metadata": {},
   "source": []
  }
 ],
 "metadata": {
  "interpreter": {
   "hash": "f3358073929bd3d27ff594bc6528257efc4213b34ba9d7c6bd240dce3a23a83d"
  },
  "kernelspec": {
   "display_name": "Python 3.9.7 64-bit ('torch_env': conda)",
   "language": "python",
   "name": "python3"
  },
  "language_info": {
   "codemirror_mode": {
    "name": "ipython",
    "version": 3
   },
   "file_extension": ".py",
   "mimetype": "text/x-python",
   "name": "python",
   "nbconvert_exporter": "python",
   "pygments_lexer": "ipython3",
   "version": "3.9.7"
  },
  "orig_nbformat": 4
 },
 "nbformat": 4,
 "nbformat_minor": 2
}
